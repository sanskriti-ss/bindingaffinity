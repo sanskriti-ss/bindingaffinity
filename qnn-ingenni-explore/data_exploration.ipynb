{
 "cells": [
  {
   "cell_type": "code",
   "execution_count": 1,
   "id": "22589474",
   "metadata": {},
   "outputs": [
    {
     "name": "stdout",
     "output_type": "stream",
     "text": [
      "True\n"
     ]
    }
   ],
   "source": [
    "import os\n",
    "\n",
    "print(os.path.exists(\"data/pdbbind2016_core_test.hdf\"))"
   ]
  },
  {
   "cell_type": "code",
   "execution_count": 2,
   "id": "99c9f0b1",
   "metadata": {},
   "outputs": [
    {
     "data": {
      "text/plain": [
       "2101248"
      ]
     },
     "execution_count": 2,
     "metadata": {},
     "output_type": "execute_result"
    }
   ],
   "source": [
    "19*48*48*48 # 2101248 ~ 2M data points for each complex"
   ]
  },
  {
   "cell_type": "code",
   "execution_count": 3,
   "id": "4806a859",
   "metadata": {},
   "outputs": [
    {
     "data": {
      "text/plain": [
       "110592"
      ]
     },
     "execution_count": 3,
     "metadata": {},
     "output_type": "execute_result"
    }
   ],
   "source": [
    "48*48*48 # 110592 ~ 100K data points for each feature"
   ]
  },
  {
   "cell_type": "code",
   "execution_count": 4,
   "id": "8eac595a",
   "metadata": {},
   "outputs": [
    {
     "name": "stdout",
     "output_type": "stream",
     "text": [
      "Keys, 285: <KeysViewHDF5 ['1a30', '1bcu', '1bzc', '1c5z', '1e66', '1eby', '1g2k', '1gpk', '1gpn', '1h22', '1h23', '1k1i', '1lpg', '1mq6', '1nc1', '1nc3', '1nvq', '1o0h', '1o3f', '1o5b', '1owh', '1oyt', '1p1n', '1p1q', '1ps3', '1pxn', '1q8t', '1q8u', '1qf1', '1qkt', '1r5y', '1s38', '1sqa', '1syi', '1u1b', '1uto', '1vso', '1w4o', '1y6r', '1yc1', '1ydr', '1ydt', '1z6e', '1z95', '1z9g', '2al5', '2br1', '2brb', '2c3i', '2cbv', '2cet', '2fvd', '2fxs', '2hb1', '2iwx', '2j78', '2j7h', '2p15', '2p4y', '2pog', '2qbp', '2qbq', '2qbr', '2qe4', '2qnq', '2r9w', '2v00', '2v7a', '2vkm', '2vvn', '2vw5', '2w4x', '2w66', '2wbg', '2wca', '2weg', '2wer', '2wn9', '2wnc', '2wtv', '2wvt', '2x00', '2xb8', '2xbv', '2xdl', '2xii', '2xj7', '2xnb', '2xys', '2y5h', '2yfe', '2yge', '2yki', '2ymd', '2zb1', '2zcq', '2zcr', '2zda', '2zy1', '3acw', '3ag9', '3ao4', '3arp', '3arq', '3aru', '3arv', '3ary', '3b1m', '3b27', '3b5r', '3b65', '3b68', '3bgz', '3bv9', '3cj4', '3coy', '3coz', '3d4z', '3d6q', '3dd0', '3dx1', '3dx2', '3dxg', '3e5a', '3e92', '3e93', '3ebp', '3ehy', '3ejr', '3f3a', '3f3c', '3f3d', '3f3e', '3fcq', '3fur', '3fv1', '3fv2', '3g0w', '3g2n', '3g2z', '3g31', '3gbb', '3gc5', '3ge7', '3gnw', '3gr2', '3gv9', '3gy4', '3ivg', '3jvr', '3jvs', '3jya', '3k5v', '3kgp', '3kr8', '3kwa', '3l7b', '3lka', '3mss', '3myg', '3n76', '3n7a', '3n86', '3nq9', '3nw9', '3nx7', '3o9i', '3oe4', '3oe5', '3ozs', '3ozt', '3p5o', '3prs', '3pww', '3pxf', '3pyy', '3qgy', '3qqs', '3r88', '3rlr', '3rr4', '3rsx', '3ryj', '3syr', '3tsk', '3twp', '3u5j', '3u8k', '3u8n', '3u9q', '3udh', '3ueu', '3uev', '3uew', '3uex', '3ui7', '3uo4', '3up2', '3uri', '3utu', '3uuo', '3wtj', '3wz8', '3zdg', '3zso', '3zsx', '3zt2', '4abg', '4agn', '4agp', '4agq', '4bkt', '4cig', '4ciw', '4cr9', '4cra', '4crc', '4ddh', '4ddk', '4de1', '4de2', '4de3', '4djv', '4dld', '4dli', '4e5w', '4e6q', '4ea2', '4eky', '4eo8', '4eor', '4f09', '4f2w', '4f3c', '4f9w', '4gfm', '4gid', '4gkm', '4gr0', '4hge', '4ih5', '4ih7', '4ivb', '4ivc', '4ivd', '4j21', '4j28', '4j3l', '4jfs', '4jia', '4jsz', '4jxs', '4k18', '4k77', '4kz6', '4kzq', '4kzu', '4llx', '4lzs', '4m0y', '4m0z', '4mgd', '4mme', '4ogj', '4owm', '4pcs', '4qac', '4qd6', '4rfm', '4tmn', '4twp', '4ty7', '4u4s', '4w9c', '4w9h', '4w9i', '4w9l', '4wiv', '4x6p', '5a7b', '5aba', '5c28', '5c2h', '5dwr', '5tmn']>\n",
      "-------------------------\n",
      "Compex : 1a30, Complex Data Type: <class 'h5py._hl.group.Group'>\n",
      "-------------------------\n",
      "d1 <class 'list'> 1 ['pybel']\n",
      "d2 <class 'list'> 1 ['processed']\n",
      "d3 <class 'list'> 1 ['pdbbind']\n",
      "d4 <class 'list'> 1 ['data']\n",
      "d5 <class 'list'> 433\n",
      "d5-np <class 'list'> (433, 22) 22 [-2.9958458   0.7752285   0.48273087  0.          1.          0.\n",
      "  0.          0.          0.          0.          0.          0.\n",
      "  3.          3.          1.          0.0665      1.          0.\n",
      "  0.          0.          0.          0.        ]\n"
     ]
    }
   ],
   "source": [
    "import h5py\n",
    "\n",
    "import numpy as np\n",
    "import pandas as pd\n",
    "\n",
    "filename = \"data/pdbbind2016_core_test.hdf\"\n",
    "\n",
    "with h5py.File(filename, \"r\") as pdb:\n",
    "    # Print all root level object names (aka keys) \n",
    "    # these can be group or dataset names \n",
    "    print(f\"Keys, {len(pdb.keys())}: {pdb.keys()}\")\n",
    "\n",
    "    print(\"-------------------------\")\n",
    "    \n",
    "    # understand 1bzc data\n",
    "    complex = \"1a30\"\n",
    "\n",
    "    print(f\"Compex : {complex}, Complex Data Type: {type(pdb[complex])}\") \n",
    "    print(\"-------------------------\")\n",
    "\n",
    "    # If a_group_key is a group name, \n",
    "    # this gets the object names in the group and returns as a list\n",
    "    data1 = list(pdb[complex])\n",
    "\n",
    "\n",
    "    # If a_group_key is a dataset name, \n",
    "    # this gets the dataset values and returns as a list\n",
    "    # data = list(f[a_group_key])\n",
    "    print(\"d1\", type(data1), len(data1), data1[:5])\n",
    "\n",
    "\n",
    "    # If a_group_key is a group name, \n",
    "    # this gets the object names in the group and returns as a list\n",
    "    data2 = list(pdb[complex][data1[0]])\n",
    "\n",
    "\n",
    "    # If a_group_key is a dataset name, \n",
    "    # this gets the dataset values and returns as a list\n",
    "    # data = list(f[a_group_key])\n",
    "    print(\"d2\", type(data2), len(data2), data2[:5])\n",
    "\n",
    "    # If a_group_key is a group name, \n",
    "    # this gets the object names in the group and returns as a list\n",
    "    data3 = list(pdb[complex][data1[0]][data2[0]])\n",
    "\n",
    "\n",
    "    # If a_group_key is a dataset name, \n",
    "    # this gets the dataset values and returns as a list\n",
    "    # data = list(f[a_group_key])\n",
    "    print(\"d3\", type(data3), len(data3), data3[:5])\n",
    "\n",
    "    # If a_group_key is a group name, \n",
    "    # this gets the object names in the group and returns as a list\n",
    "    data4 = list(pdb[complex][data1[0]][data2[0]][data3[0]])\n",
    "\n",
    "\n",
    "    # If a_group_key is a dataset name, \n",
    "    # this gets the dataset values and returns as a list\n",
    "    # data = list(f[a_group_key])\n",
    "    print(\"d4\", type(data4), len(data4), data4[:5])\n",
    "\n",
    "    # If a_group_key is a group name, \n",
    "    # this gets the object names in the group and returns as a list\n",
    "    data5 = list(pdb[complex][data1[0]][data2[0]][data3[0]][data4[0]])\n",
    "\n",
    "\n",
    "    # If a_group_key is a dataset name, \n",
    "    # this gets the dataset values and returns as a list\n",
    "    # data = list(f[a_group_key])\n",
    "    print(\"d5\", type(data5), len(data5))\n",
    "\n",
    "    data5_np = np.array(data5)\n",
    "    print(\"d5-np\", type(data5), data5_np.shape,len(data5_np[1]), data5_np[1], )\n",
    "\n",
    "\n"
   ]
  },
  {
   "cell_type": "markdown",
   "id": "961d5a09",
   "metadata": {},
   "source": [
    "### HDF data explained\n",
    "\n",
    "- 285 complexes\n",
    "- For each complex, hiearchy is \"pybel\",\"processed\", \"pdbbind\", \"data\"\n",
    "- data.shape is (396, 22) so possibly they have a way to reduce it to 392 rows, because actual process is ~2M(19*48*48*48) for each complex and ~100K(48*48*48) data points for each feature in complex.\n",
    "- First 3 attributes are xyz co-ord, rest are features\n"
   ]
  }
 ],
 "metadata": {
  "kernelspec": {
   "display_name": "fetch-research-env",
   "language": "python",
   "name": "python3"
  },
  "language_info": {
   "codemirror_mode": {
    "name": "ipython",
    "version": 3
   },
   "file_extension": ".py",
   "mimetype": "text/x-python",
   "name": "python",
   "nbconvert_exporter": "python",
   "pygments_lexer": "ipython3",
   "version": "3.12.2"
  }
 },
 "nbformat": 4,
 "nbformat_minor": 5
}
