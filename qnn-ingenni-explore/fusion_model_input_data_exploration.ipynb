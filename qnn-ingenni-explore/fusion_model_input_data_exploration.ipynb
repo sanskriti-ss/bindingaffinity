{
 "cells": [
  {
   "cell_type": "code",
   "execution_count": 5,
   "id": "99c9f0b1",
   "metadata": {},
   "outputs": [
    {
     "data": {
      "text/plain": [
       "2101248"
      ]
     },
     "execution_count": 5,
     "metadata": {},
     "output_type": "execute_result"
    }
   ],
   "source": [
    "19*48*48*48 # 2101248 ~ 2M data points for each complex"
   ]
  },
  {
   "cell_type": "code",
   "execution_count": 6,
   "id": "4806a859",
   "metadata": {},
   "outputs": [
    {
     "data": {
      "text/plain": [
       "110592"
      ]
     },
     "execution_count": 6,
     "metadata": {},
     "output_type": "execute_result"
    }
   ],
   "source": [
    "48*48*48 # 110592 ~ 100K data points for each feature"
   ]
  },
  {
   "cell_type": "code",
   "execution_count": null,
   "id": "31b841f2",
   "metadata": {},
   "outputs": [],
   "source": [
    "## D"
   ]
  },
  {
   "cell_type": "markdown",
   "id": "59078ea0",
   "metadata": {},
   "source": [
    "# Data Files - 9\n",
    "- 3 files for each stage: train, val, test on the PDB-Bind refined dataset(4K+ complexes)\n",
    "    - fc10.npy: from 3D CNN\n",
    "    - fc6.npy: from SG CNN\n",
    "    - csv : cid, label(actual), pred"
   ]
  },
  {
   "cell_type": "markdown",
   "id": "d5c6ceaf",
   "metadata": {},
   "source": [
    "# .npy files"
   ]
  },
  {
   "cell_type": "code",
   "execution_count": 10,
   "id": "2d6b277b",
   "metadata": {},
   "outputs": [
    {
     "data": {
      "text/plain": [
       "(4779, 6)"
      ]
     },
     "execution_count": 10,
     "metadata": {},
     "output_type": "execute_result"
    }
   ],
   "source": [
    "import numpy as np\n",
    "refined_train_fc6 = np.load('data/refined_train_fc6.npy')\n",
    "refined_train_fc6.shape"
   ]
  },
  {
   "cell_type": "code",
   "execution_count": 11,
   "id": "0e34efa0",
   "metadata": {},
   "outputs": [
    {
     "data": {
      "text/plain": [
       "(4779, 10)"
      ]
     },
     "execution_count": 11,
     "metadata": {},
     "output_type": "execute_result"
    }
   ],
   "source": [
    "import numpy as np\n",
    "refined_train_fc10 = np.load('data/refined_train_fc10.npy')\n",
    "refined_train_fc10.shape"
   ]
  },
  {
   "cell_type": "code",
   "execution_count": 12,
   "id": "0de11fc6",
   "metadata": {},
   "outputs": [
    {
     "data": {
      "text/plain": [
       "(537, 6)"
      ]
     },
     "execution_count": 12,
     "metadata": {},
     "output_type": "execute_result"
    }
   ],
   "source": [
    "import numpy as np\n",
    "refined_val_fc6 = np.load('data/refined_val_fc6.npy')\n",
    "refined_val_fc6.shape"
   ]
  },
  {
   "cell_type": "code",
   "execution_count": 13,
   "id": "ece129c9",
   "metadata": {},
   "outputs": [
    {
     "data": {
      "text/plain": [
       "(537, 10)"
      ]
     },
     "execution_count": 13,
     "metadata": {},
     "output_type": "execute_result"
    }
   ],
   "source": [
    "import numpy as np\n",
    "refined_val_fc10 = np.load('data/refined_val_fc10.npy')\n",
    "refined_val_fc10.shape"
   ]
  },
  {
   "cell_type": "code",
   "execution_count": 14,
   "id": "a4df5901",
   "metadata": {},
   "outputs": [
    {
     "data": {
      "text/plain": [
       "(285, 6)"
      ]
     },
     "execution_count": 14,
     "metadata": {},
     "output_type": "execute_result"
    }
   ],
   "source": [
    "import numpy as np\n",
    "core_test_fc6 = np.load('data/core_test_fc6.npy')\n",
    "core_test_fc6.shape"
   ]
  },
  {
   "cell_type": "code",
   "execution_count": 15,
   "id": "0b5342e6",
   "metadata": {},
   "outputs": [
    {
     "data": {
      "text/plain": [
       "(285, 10)"
      ]
     },
     "execution_count": 15,
     "metadata": {},
     "output_type": "execute_result"
    }
   ],
   "source": [
    "import numpy as np\n",
    "core_test_fc10 = np.load('data/core_test_fc10.npy')\n",
    "core_test_fc10.shape"
   ]
  },
  {
   "cell_type": "code",
   "execution_count": null,
   "id": "0598746c",
   "metadata": {},
   "outputs": [],
   "source": []
  }
 ],
 "metadata": {
  "kernelspec": {
   "display_name": "fast",
   "language": "python",
   "name": "python3"
  },
  "language_info": {
   "codemirror_mode": {
    "name": "ipython",
    "version": 3
   },
   "file_extension": ".py",
   "mimetype": "text/x-python",
   "name": "python",
   "nbconvert_exporter": "python",
   "pygments_lexer": "ipython3",
   "version": "3.12.11"
  }
 },
 "nbformat": 4,
 "nbformat_minor": 5
}
