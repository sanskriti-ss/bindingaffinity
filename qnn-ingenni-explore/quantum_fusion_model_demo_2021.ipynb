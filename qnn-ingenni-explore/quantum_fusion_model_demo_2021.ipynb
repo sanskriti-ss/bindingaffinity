{
 "cells": [
  {
   "attachments": {},
   "cell_type": "markdown",
   "id": "b47e06f5",
   "metadata": {},
   "source": [
    "# Quantum Fusion model\n",
    "\n",
    "NOTE: Bad R2, maybe use more data\n",
    "\n",
    "This notebook designs a quantum fusion model, designed to efficiently integrate the extracted features from two classical neural network models to produce enhanced predictions. The proposed model strategically integrates 3D-CNNs and SG-CNNs to leverage their respective strengths in processing diverse facets of the training data. \n",
    "The simulation results presented here will demonstrate the superior performance of the quantum fusion model relative to state-of-the-art classical models. Particularly, the proposed model achieves a 6\\% improvement in the prediction accuracy, and exhibits faster, smoother, and more stable convergence, thereby boosting its generalization capacity."
   ]
  },
  {
   "attachments": {},
   "cell_type": "markdown",
   "id": "1bda3cf4",
   "metadata": {},
   "source": [
    "## Problem setting: Binding affinity predictions\n",
    "\n",
    "In the field of drug discovery, it is imperative to identify proteins that are instrumental in the cascade of molecular interactions leading to a specific disease. Upon the identification of such a target protein, a list of prospective drug candidates is generated. These candidates, often described as small molecules or compounds termed **ligands**, have the potential to modulate the target protein's activity through binding interactions. Ideal ligands are chosen based on their high binding affinity to the target protein, coupled with minimal off-target interactions with other proteins. However, quantifying such binding affinities is a resource-intensive endeavor, both in terms of time and financial investment. This is particularly true considering that the initial screening process often encompasses thousands of compounds\n",
    "\n",
    "The transition from conventional laboratory methods to computer-aided design has markedly improved the efficiency and accuracy of drug discovery and binding affinity prediction.  Quantum machine learning  models, in particular, are well-suited to manage the challenges of exponentially increasing data dimensionality, often outperforming traditional ML models under specific conditions. Taken together, these technological advancements make QML and hybrid quantum-classical models highly promising for navigating the complex, high-dimensional challenges intrinsic to drug discovery.\n",
    "\n",
    "The main contribution of this notebook is the development of a novel quantum fusion model aimed at enhancing the binding affinity predictions in drug discovery. \n",
    "\n",
    "To demonstrate the power of this approach, the first step is to load the training, valiudation and test data.\n",
    "The data in this case is the extracted features from the 3D CNN (10 features) and the ones from the Spatial Graph CNN (6 features), resulting in a vector of 16 features.\n",
    "\n",
    "Ref: https://arxiv.org/pdf/2309.03919"
   ]
  },
  {
   "cell_type": "code",
   "execution_count": 1,
   "id": "b2b7e601",
   "metadata": {},
   "outputs": [],
   "source": [
    "#to improve run time and prevent displaying warning errors which can be ignored\n",
    "import torch\n",
    "\n",
    "# from ingenii_quantum.hybrid_networks.layers import QuantumFCLayer\n",
    "\n",
    "from layers import QuantumFCLayer\n",
    "\n",
    "\n",
    "import numpy as np\n",
    "import matplotlib.pyplot as plt\n",
    "\n",
    "from sklearn.preprocessing import MinMaxScaler\n",
    "from sklearn.metrics import mean_squared_error,r2_score,mean_absolute_error\n",
    "from scipy.stats import *"
   ]
  },
  {
   "cell_type": "code",
   "execution_count": 2,
   "id": "4bdb6905",
   "metadata": {},
   "outputs": [
    {
     "name": "stdout",
     "output_type": "stream",
     "text": [
      "Number of samples training:  120  Features size:  16\n",
      "------------------------------------------------------\n"
     ]
    }
   ],
   "source": [
    "import numpy as np\n",
    "import pandas as pd\n",
    "\n",
    "# TRAIN\n",
    "train_data = pd.read_csv(\"data-self/train_fusion.csv\", delimiter=\",\") \n",
    "# print(\"Train head \\n\", train_data.head() )\n",
    "train_x = train_data.drop(['name', 'affinity'], axis=1)\n",
    "# print(\"Train x head \\n\", train_x.head() )\n",
    "train_y = np.array(train_data['affinity'])\n",
    "# print(\"Train y head \\n\", train_y.head() )\n",
    "\n",
    "print('Number of samples training: ', train_y.shape[0], ' Features size: ', train_x.shape[1])\n",
    "print(\"------------------------------------------------------\")"
   ]
  },
  {
   "cell_type": "code",
   "execution_count": 3,
   "id": "e32f0a9f",
   "metadata": {},
   "outputs": [
    {
     "name": "stdout",
     "output_type": "stream",
     "text": [
      "Number of samples validation:  30  Features size:  16\n",
      "SHAPE: Val Features:  (30, 16) Validation:  (30,)\n",
      "------------------------------------------------------\n"
     ]
    }
   ],
   "source": [
    "import numpy as np\n",
    "import pandas as pd\n",
    "\n",
    "# VALIDATION\n",
    "val_data = pd.read_csv(\"data-self/val_fusion.csv\", delimiter=\",\") \n",
    "# print(\"Train head \\n\", train_data.head() )\n",
    "val_x = val_data.drop(['name', 'affinity'], axis=1)\n",
    "# print(\"Train x head \\n\", train_x.head() )\n",
    "val_y = np.array(val_data['affinity'])\n",
    "# print(\"Train y head \\n\", train_y.head() )\n",
    "\n",
    "print('Number of samples validation: ', val_y.shape[0], ' Features size: ', val_x.shape[1])\n",
    "print(\"SHAPE:\", 'Val Features: ', val_x.shape, 'Validation: ', val_y.shape )\n",
    "print(\"------------------------------------------------------\")"
   ]
  },
  {
   "cell_type": "code",
   "execution_count": 4,
   "id": "7f4b377f",
   "metadata": {},
   "outputs": [
    {
     "name": "stdout",
     "output_type": "stream",
     "text": [
      "Number of samples validation:  50  Features size:  16\n",
      "------------------------------------------------------\n"
     ]
    }
   ],
   "source": [
    "import numpy as np\n",
    "import pandas as pd\n",
    "\n",
    "# Testing\n",
    "test_data = pd.read_csv(\"data-self/test_fusion.csv\", delimiter=\",\") \n",
    "# print(\"Train head \\n\", train_data.head() )\n",
    "test_x = test_data.drop(['name', 'affinity'], axis=1)\n",
    "# print(\"Train x head \\n\", train_x.head() )\n",
    "test_y = np.array(test_data['affinity'])\n",
    "# print(\"Train y head \\n\", train_y.head() )\n",
    "\n",
    "print('Number of samples validation: ', test_y.shape[0], ' Features size: ', test_x.shape[1])\n",
    "print(\"------------------------------------------------------\")"
   ]
  },
  {
   "cell_type": "code",
   "execution_count": 5,
   "id": "ee47f713",
   "metadata": {},
   "outputs": [],
   "source": [
    "# Number of samples training:  4779  Features size:  16\n",
    "# SHAPE: Train fc16 Features:  (4779, 16) Train y: (4779,)\n",
    "\n",
    "# SHAPE:X train: (4779, 16), y train scaled: (4779, 1)"
   ]
  },
  {
   "attachments": {},
   "cell_type": "markdown",
   "id": "3a118a6d",
   "metadata": {},
   "source": [
    "## Scale data\n",
    "\n",
    "We will scale the data to the [0,1] domain so that it is suitable for the quantum neural network with amplitude encoding."
   ]
  },
  {
   "cell_type": "code",
   "execution_count": 6,
   "id": "5211a131",
   "metadata": {},
   "outputs": [],
   "source": [
    "#model parameters using aplitude encoding\n",
    "nqbits = 4\n",
    "length = 2**nqbits\n",
    "\n",
    "# Training data\n",
    "X_train = np.array(train_x, dtype=np.float32)\n",
    "# Scale y values\n",
    "scaler = MinMaxScaler((0,1))\n",
    "y_train_scaled = scaler.fit_transform(train_y.reshape(-1,1)).astype(np.float32)\n",
    "# Validation data\n",
    "X_val = np.array(val_x, dtype=np.float32)\n",
    "y_val_scaled = scaler.transform(val_y.reshape(-1,1)).astype(np.float32)\n",
    "# Test data\n",
    "X_test = np.array(test_x, dtype=np.float32)\n",
    "y_test_scaled = scaler.transform(test_y.reshape(-1,1)).astype(np.float32)"
   ]
  },
  {
   "cell_type": "code",
   "execution_count": 7,
   "id": "30185924",
   "metadata": {},
   "outputs": [
    {
     "data": {
      "text/plain": [
       "dtype('float32')"
      ]
     },
     "execution_count": 7,
     "metadata": {},
     "output_type": "execute_result"
    }
   ],
   "source": [
    "X_train.dtype"
   ]
  },
  {
   "attachments": {},
   "cell_type": "markdown",
   "id": "6878be08",
   "metadata": {},
   "source": [
    "## Quantum Neural Network\n",
    "\n",
    "We will use Ingenii's library to design a quantum neural network to fuse the features from the two CNNs. Since our input data has size 16, we will use amplitude encoding to reduce the number of qubits needed from the neural network. We will use the first option of ansatz, which consists of a set of strongly entangling layers. The depth of the neural network is a hyperparameter that we can tune. In this example, we will use a depth of 10 layers."
   ]
  },
  {
   "cell_type": "markdown",
   "id": "231badd2",
   "metadata": {},
   "source": [
    "## Define quantum layer\n",
    "\n",
    "We define the quantum layer with Igenii's library. We will use Keras to train the hybridd model."
   ]
  },
  {
   "cell_type": "code",
   "execution_count": 8,
   "id": "35d5a5a9",
   "metadata": {},
   "outputs": [
    {
     "data": {
      "text/plain": [
       "torch.float64"
      ]
     },
     "execution_count": 8,
     "metadata": {},
     "output_type": "execute_result"
    }
   ],
   "source": [
    "obs = ['ZIII','IZII','IIZI', 'IIIZ'] # The observables will be the expected value of the Z operators in each qubit\n",
    "input_size= 16\n",
    "n_layers = 10\n",
    "# Initializing the class\n",
    "qnn = QuantumFCLayer(\n",
    "    input_size=input_size, n_layers=n_layers, encoding='amplitude',\n",
    "    ansatz=4, observables=obs, backend='default.qubit')\n",
    "\n",
    "# Create the quantum layer\n",
    "qnn_layer = qnn.create_layer(type_layer='torch')\n",
    "\n",
    "# We test the prediction of the quantum layer\n",
    "x = torch.randn(2, input_size)\n",
    "\n",
    "qnn_layer(x).double().dtype"
   ]
  },
  {
   "cell_type": "markdown",
   "id": "f643f40c",
   "metadata": {},
   "source": [
    "## Define the whole model\n",
    "\n",
    "We add a classical dense layer to output the final prediction. The ReLu activation function is used. We compile the resulting model with Adam optimizer and a learning rate of $\\eta=0.002$."
   ]
  },
  {
   "cell_type": "code",
   "execution_count": 9,
   "id": "0bc7b769",
   "metadata": {},
   "outputs": [
    {
     "name": "stdout",
     "output_type": "stream",
     "text": [
      "Total number of trainable parameters: 165\n"
     ]
    }
   ],
   "source": [
    "class TorchModel(torch.nn.Module):\n",
    "    def __init__(self):\n",
    "        super(TorchModel, self).__init__()\n",
    "        self.qlayer = qnn_layer\n",
    "        self.clayer = torch.nn.Linear(4, 1)\n",
    "        self.relu = torch.nn.ReLU()\n",
    "\n",
    "    def forward(self, x):\n",
    "        x = self.qlayer(x)\n",
    "        # x = x.float()/\n",
    "        # print(\"x shape fwd\", x.shape)\n",
    "        # print(\"fwd x type:\", type(x))\n",
    "        x = self.clayer(x)\n",
    "        x = self.relu(x)\n",
    "        return x\n",
    "\n",
    "# torch.set_default_tensor_type(torch.DoubleTensor)\n",
    "model = TorchModel()\n",
    "\n",
    "num_params = sum(p.numel() for p in model.parameters() if p.requires_grad)\n",
    "print(f'Total number of trainable parameters: {num_params}')"
   ]
  },
  {
   "cell_type": "code",
   "execution_count": 10,
   "id": "2be4550e",
   "metadata": {},
   "outputs": [
    {
     "name": "stdout",
     "output_type": "stream",
     "text": [
      "TorchModel(\n",
      "  (qlayer): <Quantum Torch Layer: func=qnn_layer>\n",
      "  (clayer): Linear(in_features=4, out_features=1, bias=True)\n",
      "  (relu): ReLU()\n",
      ")\n"
     ]
    }
   ],
   "source": [
    "print(model)"
   ]
  },
  {
   "cell_type": "markdown",
   "id": "9260383a",
   "metadata": {},
   "source": [
    "Notice that the model has 125 training parameters, including 120 quantum parameters."
   ]
  },
  {
   "cell_type": "markdown",
   "id": "d2d66325",
   "metadata": {},
   "source": [
    "## Train the neural network"
   ]
  },
  {
   "cell_type": "code",
   "execution_count": null,
   "id": "66805b50",
   "metadata": {},
   "outputs": [],
   "source": []
  },
  {
   "cell_type": "code",
   "execution_count": 11,
   "id": "822e5100",
   "metadata": {},
   "outputs": [],
   "source": [
    "batch_size = 200\n",
    "epochs = 20\n",
    "\n",
    "opt = torch.optim.Adam(model.parameters(), lr=0.002)\n",
    "loss = torch.nn.MSELoss()\n",
    "\n",
    "training_loader = torch.utils.data.DataLoader(\n",
    "    list(zip(X_train, y_train_scaled)), batch_size=batch_size, shuffle=True)\n",
    "val_loader = torch.utils.data.DataLoader(\n",
    "    list(zip(X_val, y_val_scaled)), batch_size=batch_size, shuffle=True)\n",
    "test_loader = torch.utils.data.DataLoader(\n",
    "    list(zip(X_test, y_test_scaled)), batch_size=batch_size, shuffle=True)\n"
   ]
  },
  {
   "cell_type": "code",
   "execution_count": 12,
   "id": "0609c34c",
   "metadata": {},
   "outputs": [
    {
     "name": "stdout",
     "output_type": "stream",
     "text": [
      "Training loss over epoch 1: 0.2405\n",
      "Validation loss over epoch 1: 0.2161, R2 = -3.7834\n",
      "\n",
      "Training loss over epoch 2: 0.2364\n",
      "Validation loss over epoch 2: 0.2119, R2 = -3.6893\n",
      "\n",
      "Training loss over epoch 3: 0.2316\n",
      "Validation loss over epoch 3: 0.2078, R2 = -3.5984\n",
      "\n",
      "Training loss over epoch 4: 0.2264\n",
      "Validation loss over epoch 4: 0.2036, R2 = -3.5055\n",
      "\n",
      "Training loss over epoch 5: 0.2207\n",
      "Validation loss over epoch 5: 0.1994, R2 = -3.4133\n",
      "\n",
      "Training loss over epoch 6: 0.2145\n",
      "Validation loss over epoch 6: 0.1948, R2 = -3.3119\n",
      "\n",
      "Training loss over epoch 7: 0.2081\n",
      "Validation loss over epoch 7: 0.1900, R2 = -3.2044\n",
      "\n",
      "Training loss over epoch 8: 0.2014\n",
      "Validation loss over epoch 8: 0.1852, R2 = -3.0986\n",
      "\n",
      "Training loss over epoch 9: 0.1945\n",
      "Validation loss over epoch 9: 0.1804, R2 = -2.9924\n",
      "\n",
      "Training loss over epoch 10: 0.1873\n",
      "Validation loss over epoch 10: 0.1753, R2 = -2.8785\n",
      "\n",
      "Training loss over epoch 11: 0.1803\n",
      "Validation loss over epoch 11: 0.1696, R2 = -2.7536\n",
      "\n",
      "Training loss over epoch 12: 0.1734\n",
      "Validation loss over epoch 12: 0.1641, R2 = -2.6317\n",
      "\n",
      "Training loss over epoch 13: 0.1666\n",
      "Validation loss over epoch 13: 0.1578, R2 = -2.4920\n",
      "\n",
      "Training loss over epoch 14: 0.1597\n",
      "Validation loss over epoch 14: 0.1515, R2 = -2.3528\n",
      "\n",
      "Training loss over epoch 15: 0.1530\n",
      "Validation loss over epoch 15: 0.1454, R2 = -2.2174\n",
      "\n",
      "Training loss over epoch 16: 0.1464\n",
      "Validation loss over epoch 16: 0.1394, R2 = -2.0851\n",
      "\n",
      "Training loss over epoch 17: 0.1398\n",
      "Validation loss over epoch 17: 0.1335, R2 = -1.9546\n",
      "\n",
      "Training loss over epoch 18: 0.1335\n",
      "Validation loss over epoch 18: 0.1278, R2 = -1.8284\n",
      "\n",
      "Training loss over epoch 19: 0.1272\n",
      "Validation loss over epoch 19: 0.1223, R2 = -1.7067\n",
      "\n",
      "Training loss over epoch 20: 0.1211\n",
      "Validation loss over epoch 20: 0.1170, R2 = -1.5897\n",
      "\n",
      "Training time: 1.7866618633270264\n"
     ]
    }
   ],
   "source": [
    "import time\n",
    "\n",
    "start = time.time()\n",
    "train_loss = []\n",
    "val_loss = []\n",
    "for epoch in range(epochs):\n",
    "\n",
    "    training_losses = []\n",
    "    val_losses = []\n",
    "    batch=0\n",
    "    for xs, ys in training_loader:\n",
    "        opt.zero_grad()\n",
    "        loss_evaluated = loss(model(xs), ys)\n",
    "        loss_evaluated.backward()\n",
    "\n",
    "        opt.step()\n",
    "\n",
    "        training_losses.append(loss_evaluated.detach())\n",
    "        batch+=1\n",
    "\n",
    "    avg_loss = np.mean(training_losses)\n",
    "    train_loss.append(avg_loss)\n",
    "    print(\"Training loss over epoch {}: {:.4f}\".format(epoch + 1, avg_loss))\n",
    "\n",
    "    for xs, ys in val_loader:\n",
    "        yp=model(xs)\n",
    "        loss_evaluated = loss(yp, ys)\n",
    "        val_losses.append(loss_evaluated.detach())\n",
    "\n",
    "    avg_loss = np.mean(val_losses)\n",
    "    val_loss.append(avg_loss)\n",
    "\n",
    "    print(\"Validation loss over epoch {}: {:.4f}, R2 = {:.4f}\\n\".format(epoch + 1, avg_loss, r2_score(ys, yp.detach().numpy())))\n",
    "\n",
    "end = time.time()\n",
    "print('Training time:', end - start)"
   ]
  },
  {
   "cell_type": "markdown",
   "id": "4affddee",
   "metadata": {},
   "source": [
    "## Test the model\n",
    "\n",
    "Now we test the model's accuracy and compare it with the classical counterpart."
   ]
  },
  {
   "cell_type": "code",
   "execution_count": 13,
   "id": "33dd2f09",
   "metadata": {},
   "outputs": [
    {
     "name": "stdout",
     "output_type": "stream",
     "text": [
      "QUANTUM FUSION\n",
      "Test MSE is 11.728754933812233\n",
      "Test MAE is 2.81408496017456\n",
      "Test R2 is -1.4545299414401738\n",
      "Test spearman is SignificanceResult(statistic=np.float64(-0.171021037218358), pvalue=np.float64(0.23503543877007077))\n"
     ]
    }
   ],
   "source": [
    "y_test_pred = model(torch.tensor(X_test)).detach().numpy()\n",
    "y_test_pred = scaler.inverse_transform(y_test_pred)\n",
    "\n",
    "y_test = test_y\n",
    "print('QUANTUM FUSION')\n",
    "print('Test MSE is', mean_squared_error(y_test,y_test_pred))\n",
    "print('Test MAE is', mean_absolute_error(y_test,y_test_pred))\n",
    "print('Test R2 is', r2_score(y_test,y_test_pred))\n",
    "print('Test spearman is', spearmanr(y_test,y_test_pred))\n",
    "\n",
    "# print('\\nCLASSICAL FUSION')\n",
    "# print('Test MSE is', mean_squared_error(y_test,y_classical_test))\n",
    "# print('Test MAE is', mean_absolute_error(y_test,y_classical_test))\n",
    "# print('Test R2 is', r2_score(y_test,y_classical_test))\n",
    "# print('Test spearman is', spearmanr(y_test,y_classical_test))"
   ]
  },
  {
   "cell_type": "code",
   "execution_count": 14,
   "id": "6dd4a15a",
   "metadata": {},
   "outputs": [
    {
     "data": {
      "text/plain": [
       "<matplotlib.legend.Legend at 0x2133084dd30>"
      ]
     },
     "execution_count": 14,
     "metadata": {},
     "output_type": "execute_result"
    },
    {
     "data": {
      "image/png": "[encoded data removed]",
      "text/plain": [
       "<Figure size 640x480 with 1 Axes>"
      ]
     },
     "metadata": {},
     "output_type": "display_data"
    }
   ],
   "source": [
    "plt.plot(y_test)\n",
    "plt.plot(y_test_pred)\n",
    "plt.ylim(0, np.max(y_test)*1.3)\n",
    "plt.legend(['Actual','predicted'], loc='upper left')"
   ]
  },
  {
   "cell_type": "code",
   "execution_count": null,
   "id": "133f9562",
   "metadata": {},
   "outputs": [],
   "source": []
  }
 ],
 "metadata": {
  "kernelspec": {
   "display_name": "fetch-qml",
   "language": "python",
   "name": "python3"
  },
  "language_info": {
   "codemirror_mode": {
    "name": "ipython",
    "version": 3
   },
   "file_extension": ".py",
   "mimetype": "text/x-python",
   "name": "python",
   "nbconvert_exporter": "python",
   "pygments_lexer": "ipython3",
   "version": "3.13.5"
  }
 },
 "nbformat": 4,
 "nbformat_minor": 5
}
