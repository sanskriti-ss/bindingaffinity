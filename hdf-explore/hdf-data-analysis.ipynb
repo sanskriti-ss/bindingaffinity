{
 "cells": [
  {
   "cell_type": "code",
   "execution_count": null,
   "id": "dd798e35",
   "metadata": {},
   "outputs": [],
   "source": [
    "import h5py\n",
    "import pandas as pd\n",
    "\n",
    "\n",
    "def analyze_hdf(filename, output_file):\n",
    "    analysis = []\n",
    "\n",
    "    with h5py.File(filename, \"r\") as pdb:\n",
    "        # Print all root level object names (aka keys) \n",
    "        # these can be group or dataset names \n",
    "        for protein in pdb.keys():\n",
    "\n",
    "            try:\n",
    "\n",
    "                data = list(pdb[protein]['pybel']['processed']['pdbbind']['data'])\n",
    "\n",
    "                import numpy as np\n",
    "                d5_np = np.array(data)\n",
    "                \n",
    "                d_shape_len = len(d5_np.shape)\n",
    "                d0 = d5_np.shape[0] if d_shape_len > 0 else None\n",
    "                d1 = d5_np.shape[1] if d_shape_len > 1 else None\n",
    "\n",
    "                analysis.append({\n",
    "                    \"protein\": protein,\n",
    "                    \"d_shape_len\": d_shape_len,\n",
    "                    \"rows\": d0,\n",
    "                    \"columns\": d1\n",
    "                })\n",
    "\n",
    "            except:\n",
    "                print(f\"Protein: {protein} error\")\n",
    "                analysis.append({\n",
    "                    \"protein\": protein,\n",
    "                    \"d_shape_len\": None,\n",
    "                    \"rows\": None,\n",
    "                    \"columns\": None\n",
    "                })\n",
    "        \n",
    "        import pandas as pd\n",
    "        df = pd.DataFrame(analysis)\n",
    "        df.to_csv(output_file, index=False)"
   ]
  },
  {
   "cell_type": "code",
   "execution_count": null,
   "id": "957920b8",
   "metadata": {},
   "outputs": [],
   "source": [
    "analyze_hdf(\"data/demo_2021/pdb_fast_with_demo_hydro.hdf\", \"data/demo_2021/protein_data_shapes.csv\")"
   ]
  },
  {
   "cell_type": "code",
   "execution_count": null,
   "id": "aadb8526",
   "metadata": {},
   "outputs": [],
   "source": [
    "analyze_hdf(\"data/fast/core_test.hdf\", \"data/fast/fast_data_shapes.csv\")"
   ]
  },
  {
   "cell_type": "code",
   "execution_count": null,
   "id": "aa57af5c",
   "metadata": {},
   "outputs": [],
   "source": [
    "analyze_hdf(\"data/ingenni/pdbbind2016_core_test.hdf\", \"data/ingenni/ingenni_data_shapes.csv\")\n"
   ]
  },
  {
   "cell_type": "code",
   "execution_count": null,
   "id": "bc603f16",
   "metadata": {},
   "outputs": [],
   "source": []
  },
  {
   "cell_type": "markdown",
   "id": "d12c30aa",
   "metadata": {},
   "source": [
    "## Analyse shapes"
   ]
  },
  {
   "cell_type": "code",
   "execution_count": null,
   "id": "daf841c6",
   "metadata": {},
   "outputs": [],
   "source": [
    "import pandas as pd\n",
    "\n",
    "fast_shapes = pd.read_csv(\"data/fast/fast_data_shapes.csv\")\n",
    "ingenni_shapes = pd.read_csv(\"data/ingenni/ingenni_data_shapes.csv\")\n",
    "demo_shapes = pd.read_csv('data/demo_2021/protein_data_shapes.csv')\n",
    "\n"
   ]
  },
  {
   "cell_type": "code",
   "execution_count": null,
   "id": "0f0808cb",
   "metadata": {},
   "outputs": [],
   "source": [
    "import pandas as pd\n",
    "from functools import reduce\n",
    "\n",
    "# List of CSV file paths to compare\n",
    "csv_files = [\n",
    "    (\"data/fast/fast_data_shapes.csv\", \"fast\"),\n",
    "    (\"data/ingenni/ingenni_data_shapes.csv\", \"ingenni\"),\n",
    "    (\"data/demo_2021/protein_data_shapes.csv\", \"demo\")\n",
    "]\n",
    "\n",
    "# Load CSVs and rename 'rows' column per file\n",
    "dfs = []\n",
    "for i, (path, name) in enumerate(csv_files):\n",
    "    df = pd.read_csv(path)\n",
    "    df = df.set_index(\"protein\")\n",
    "    df.rename(columns={\"rows\": f\"rows_{name}\"}, inplace=True)\n",
    "    dfs.append(df[f\"rows_{name}\"])\n",
    "\n",
    "# Merge all DataFrames on 'protein'\n",
    "merged_df = reduce(lambda left, right: pd.merge(left, right, on='protein', how='outer'), dfs)\n",
    "\n",
    "# Compare 'rows' columns\n",
    "def rows_disagree(row):\n",
    "    values = [v for v in row if pd.notnull(v)]\n",
    "    return len(set(values)) > 1\n",
    "\n",
    "merged_df[\"rows_diff\"] = merged_df.apply(rows_disagree, axis=1)\n",
    "\n",
    "# Save full comparison\n",
    "merged_df.to_csv(\"data/protein_data_points_comparison.csv\")\n",
    "\n",
    "# Print only discrepancies\n",
    "discrepancies = merged_df[merged_df[\"rows_diff\"]]\n",
    "print(\"Proteins with different row counts across files:\")\n",
    "print(discrepancies)\n"
   ]
  },
  {
   "cell_type": "code",
   "execution_count": null,
   "id": "9f522f42",
   "metadata": {},
   "outputs": [],
   "source": [
    "import pandas as pd\n",
    "from functools import reduce\n",
    "\n",
    "# List of CSV file paths to compare\n",
    "csv_files = [\"data/fast/fast_data_shapes.csv\", \"data/ingenni/ingenni_data_shapes.csv\", \"data/demo_2021/protein_data_shapes.csv\"]  # replace with your real files\n",
    "\n",
    "# Load all CSVs into DataFrames, indexed by protein\n",
    "dfs = [pd.read_csv(f).set_index(\"protein\") for f in csv_files]\n",
    "\n",
    "# Rename columns to indicate which file they came from\n",
    "for i, df in enumerate(dfs):\n",
    "    df.columns = [f\"{col}_f{i+1}\" for col in df.columns]\n",
    "\n",
    "# Merge all DataFrames on protein\n",
    "merged_df = reduce(lambda left, right: pd.merge(left, right, on='protein', how='outer'), dfs)\n",
    "\n",
    "# Compare d_shape_len, rows, and d1 across files\n",
    "def highlight_discrepancies(row, col_prefix):\n",
    "    values = [row[col] for col in merged_df.columns if col.startswith(col_prefix)]\n",
    "    return len(set(values)) > 1\n",
    "\n",
    "# Apply flags\n",
    "merged_df[\"shape_len_diff\"] = merged_df.apply(lambda row: highlight_discrepancies(row, \"d_shape_len\"), axis=1)\n",
    "merged_df[\"rows_diff\"] = merged_df.apply(lambda row: highlight_discrepancies(row, \"rows\"), axis=1)\n",
    "merged_df[\"columns_diff\"] = merged_df.apply(lambda row: highlight_discrepancies(row, \"columns\"), axis=1)\n",
    "\n",
    "# Optional: save the comparison result\n",
    "merged_df.to_csv(\"data/protein_comparison_result.csv\")\n",
    "\n",
    "# Show only discrepancies\n",
    "print(\"Discrepancies:\")\n",
    "print(merged_df[(merged_df[\"shape_len_diff\"]) | (merged_df[\"rows_diff\"]) | (merged_df[\"columns_diff\"])])\n"
   ]
  },
  {
   "cell_type": "markdown",
   "id": "9d37e66b",
   "metadata": {},
   "source": []
  }
 ],
 "metadata": {
  "kernelspec": {
   "display_name": "fast",
   "language": "python",
   "name": "python3"
  },
  "language_info": {
   "codemirror_mode": {
    "name": "ipython",
    "version": 3
   },
   "file_extension": ".py",
   "mimetype": "text/x-python",
   "name": "python",
   "nbconvert_exporter": "python",
   "pygments_lexer": "ipython3",
   "version": "3.12.11"
  }
 },
 "nbformat": 4,
 "nbformat_minor": 5
}
