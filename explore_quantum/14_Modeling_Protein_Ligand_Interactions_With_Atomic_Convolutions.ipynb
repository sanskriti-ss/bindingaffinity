{
  "cells": [
    {
      "cell_type": "markdown",
      "metadata": {
        "id": "f7FPLsj4nB-6"
      },
      "source": [
        "#  Modeling Protein-Ligand Interactions with Atomic Convolutions\n",
        "By [Nathan C. Frey](https://ncfrey.github.io/) | [Twitter](https://twitter.com/nc_frey) and [Bharath Ramsundar](https://rbharath.github.io/) | [Twitter](https://twitter.com/rbhar90)\n",
        "\n",
        "This DeepChem tutorial introduces the [Atomic Convolutional Neural Network](https://arxiv.org/pdf/1703.10603.pdf). We'll see the structure of the `AtomicConvModel` and write a simple program to run Atomic Convolutions.\n",
        "\n",
        "### ACNN Architecture\n",
        "ACNN’s directly exploit the local three-dimensional structure of molecules to hierarchically learn more complex chemical features by optimizing both the model and featurization simultaneously in an end-to-end fashion.\n",
        "\n",
        "The atom type convolution makes use of a neighbor-listed distance matrix to extract features encoding local chemical environments from an input representation (Cartesian atomic coordinates) that does not necessarily contain spatial locality. The following methods are used to build the ACNN architecture:\n",
        "\n",
        "- __Distance Matrix__  \n",
        "The distance matrix $R$ is constructed from the Cartesian atomic coordinates $X$. It calculates distances from the distance tensor $D$. The distance matrix construction accepts as input a $(N, 3)$ coordinate matrix $C$. This matrix is “neighbor listed” into a $(N, M)$ matrix $R$.\n",
        "\n",
        "```python\n",
        "    R = tf.reduce_sum(tf.multiply(D, D), 3)     # D: Distance Tensor\n",
        "    R = tf.sqrt(R)                              # R: Distance Matrix\n",
        "    return R\n",
        "```\n",
        "\n",
        "- **Atom type convolution**  \n",
        "The output of the atom type convolution is constructed from the distance matrix $R$ and atomic number matrix $Z$. The matrix $R$ is fed into a (1x1) filter with stride 1 and depth of $N_{at}$ , where $N_{at}$ is the number of unique atomic numbers (atom types) present in the molecular system. The atom type convolution kernel is a step function that operates on the neighbor distance matrix $R$.\n",
        "\n",
        "- **Radial Pooling layer**  \n",
        "Radial Pooling is basically a dimensionality reduction process that down-samples the output of the atom type convolutions. The reduction process prevents overfitting by providing an abstracted form of representation through feature binning, as well as reducing the number of parameters learned.\n",
        "Mathematically, radial pooling layers pool over tensor slices (receptive fields) of size (1x$M$x1) with stride 1 and a depth of $N_r$, where $N_r$ is the number of desired radial filters and $M$ is the maximum number of neighbors.\n",
        "\n",
        "- **Atomistic fully connected network**  \n",
        "Atomic Convolution layers are stacked by feeding the flattened ($N$, $N_{at}$ $\\cdot$ $N_r$) output of the radial pooling layer into the atom type convolution operation. Finally, we feed the tensor row-wise (per-atom) into a fully-connected network. The\n",
        "same fully connected weights and biases are used for each atom in a given molecule.\n",
        "\n",
        "Now that we have seen the structural overview of ACNNs, we'll try to get deeper into the model and see how we can train it and what we expect as the output.\n",
        "\n",
        "For the training, we will use the publicly available PDBbind dataset. In this example, every row reflects a protein-ligand complex and the target is the binding affinity ($K_i$) of the ligand to the protein in the complex.\n",
        "\n",
        "## Colab\n",
        "\n",
        "This tutorial and the rest in this sequence are designed to be done in Google colab. If you'd like to open this notebook in colab, you can use the following link.\n",
        "\n",
        "[![Open In Colab](https://colab.research.google.com/assets/colab-badge.svg)](https://colab.research.google.com/github/deepchem/deepchem/blob/master/examples/tutorials/Modeling_Protein_Ligand_Interactions_With_Atomic_Convolutions.ipynb)\n",
        "\n",
        "## Setup\n",
        "\n",
        "To run DeepChem within Colab, you'll need to run the following cell of installation commands. This will take about 5 minutes to run to completion and install your environment."
      ]
    },
    {
      "cell_type": "code",
      "execution_count": 6,
      "metadata": {
        "colab": {
          "base_uri": "https://localhost:8080/"
        },
        "id": "Y2xCQyOInB_D",
        "outputId": "de43cadd-7af3-4dd4-fa95-735b2b02d571"
      },
      "outputs": [
        {
          "ename": "RuntimeError",
          "evalue": "This module must ONLY run as part of a Colab notebook!",
          "output_type": "error",
          "traceback": [
            "\u001b[31m---------------------------------------------------------------------------\u001b[39m",
            "\u001b[31mModuleNotFoundError\u001b[39m                       Traceback (most recent call last)",
            "\u001b[36mFile \u001b[39m\u001b[32mc:\\Users\\iclyd\\anaconda3\\envs\\fetch\\Lib\\site-packages\\condacolab.py:27\u001b[39m\n\u001b[32m     26\u001b[39m \u001b[38;5;28;01mtry\u001b[39;00m:\n\u001b[32m---> \u001b[39m\u001b[32m27\u001b[39m     \u001b[38;5;28;01mimport\u001b[39;00m\u001b[38;5;250m \u001b[39m\u001b[34;01mgoogle\u001b[39;00m\u001b[34;01m.\u001b[39;00m\u001b[34;01mcolab\u001b[39;00m\n\u001b[32m     28\u001b[39m \u001b[38;5;28;01mexcept\u001b[39;00m \u001b[38;5;167;01mImportError\u001b[39;00m:\n",
            "\u001b[31mModuleNotFoundError\u001b[39m: No module named 'google'",
            "\nDuring handling of the above exception, another exception occurred:\n",
            "\u001b[31mRuntimeError\u001b[39m                              Traceback (most recent call last)",
            "\u001b[36mCell\u001b[39m\u001b[36m \u001b[39m\u001b[32mIn[6]\u001b[39m\u001b[32m, line 2\u001b[39m\n\u001b[32m      1\u001b[39m get_ipython().system(\u001b[33m'\u001b[39m\u001b[33mpip install -q condacolab\u001b[39m\u001b[33m'\u001b[39m)\n\u001b[32m----> \u001b[39m\u001b[32m2\u001b[39m \u001b[38;5;28;01mimport\u001b[39;00m\u001b[38;5;250m \u001b[39m\u001b[34;01mcondacolab\u001b[39;00m\n\u001b[32m      3\u001b[39m condacolab.install()\n\u001b[32m      4\u001b[39m get_ipython().system(\u001b[33m'\u001b[39m\u001b[33m/usr/local/bin/conda info -e\u001b[39m\u001b[33m'\u001b[39m)\n",
            "\u001b[36mFile \u001b[39m\u001b[32mc:\\Users\\iclyd\\anaconda3\\envs\\fetch\\Lib\\site-packages\\condacolab.py:29\u001b[39m\n\u001b[32m     27\u001b[39m     \u001b[38;5;28;01mimport\u001b[39;00m\u001b[38;5;250m \u001b[39m\u001b[34;01mgoogle\u001b[39;00m\u001b[34;01m.\u001b[39;00m\u001b[34;01mcolab\u001b[39;00m\n\u001b[32m     28\u001b[39m \u001b[38;5;28;01mexcept\u001b[39;00m \u001b[38;5;167;01mImportError\u001b[39;00m:\n\u001b[32m---> \u001b[39m\u001b[32m29\u001b[39m     \u001b[38;5;28;01mraise\u001b[39;00m \u001b[38;5;167;01mRuntimeError\u001b[39;00m(\u001b[33m\"\u001b[39m\u001b[33mThis module must ONLY run as part of a Colab notebook!\u001b[39m\u001b[33m\"\u001b[39m)\n\u001b[32m     32\u001b[39m __version__ = \u001b[33m\"\u001b[39m\u001b[33m0.1.10\u001b[39m\u001b[33m\"\u001b[39m\n\u001b[32m     33\u001b[39m __author__ = \u001b[33m\"\u001b[39m\u001b[33mJaime Rodríguez-Guerra <jaimergp@users.noreply.github.com>\u001b[39m\u001b[33m\"\u001b[39m\n",
            "\u001b[31mRuntimeError\u001b[39m: This module must ONLY run as part of a Colab notebook!"
          ]
        }
      ],
      "source": [
        "!pip install -q condacolab\n",
        "import condacolab\n",
        "condacolab.install()\n",
        "!/usr/local/bin/conda info -e"
      ]
    },
    {
      "cell_type": "code",
      "execution_count": 1,
      "metadata": {
        "colab": {
          "base_uri": "https://localhost:8080/"
        },
        "id": "WKxOGlhhMrC7",
        "outputId": "7b5fc6de-b58a-4b31-aa84-aa9cca10237b"
      },
      "outputs": [
        {
          "name": "stderr",
          "output_type": "stream",
          "text": [
            "The system cannot find the path specified.\n"
          ]
        }
      ],
      "source": [
        "!/usr/local/bin/conda install -c conda-forge pycosat mdtraj pdbfixer openmm -y -q  # needed for AtomicConvs"
      ]
    },
    {
      "cell_type": "code",
      "execution_count": 3,
      "metadata": {
        "colab": {
          "base_uri": "https://localhost:8080/",
          "height": 1000
        },
        "id": "jFQmra_fFE8U",
        "outputId": "8d364426-cc35-447d-9a0e-3bf8da94200c"
      },
      "outputs": [
        {
          "name": "stdout",
          "output_type": "stream",
          "text": [
            "Collecting deepchem\n",
            "  Downloading deepchem-2.8.1.dev20250708125353-py3-none-any.whl.metadata (2.0 kB)\n",
            "Collecting joblib (from deepchem)\n",
            "  Downloading joblib-1.5.1-py3-none-any.whl.metadata (5.6 kB)\n",
            "Collecting numpy<2 (from deepchem)\n",
            "  Downloading numpy-1.26.4-cp311-cp311-manylinux_2_17_x86_64.manylinux2014_x86_64.whl.metadata (61 kB)\n",
            "Requirement already satisfied: pandas in /usr/local/lib/python3.11/site-packages (from deepchem) (2.3.0)\n",
            "Collecting scikit-learn (from deepchem)\n",
            "  Downloading scikit_learn-1.7.0-cp311-cp311-manylinux_2_17_x86_64.manylinux2014_x86_64.whl.metadata (17 kB)\n",
            "Collecting sympy (from deepchem)\n",
            "  Downloading sympy-1.14.0-py3-none-any.whl.metadata (12 kB)\n",
            "Requirement already satisfied: scipy>=1.10.1 in /usr/local/lib/python3.11/site-packages (from deepchem) (1.16.0)\n",
            "Collecting rdkit (from deepchem)\n",
            "  Downloading rdkit-2025.3.3-cp311-cp311-manylinux_2_28_x86_64.whl.metadata (4.0 kB)\n",
            "Requirement already satisfied: python-dateutil>=2.8.2 in /usr/local/lib/python3.11/site-packages (from pandas->deepchem) (2.9.0.post0)\n",
            "Requirement already satisfied: pytz>=2020.1 in /usr/local/lib/python3.11/site-packages (from pandas->deepchem) (2025.2)\n",
            "Requirement already satisfied: tzdata>=2022.7 in /usr/local/lib/python3.11/site-packages (from pandas->deepchem) (2025.2)\n",
            "Collecting Pillow (from rdkit->deepchem)\n",
            "  Downloading pillow-11.3.0-cp311-cp311-manylinux_2_27_x86_64.manylinux_2_28_x86_64.whl.metadata (9.0 kB)\n",
            "Collecting threadpoolctl>=3.1.0 (from scikit-learn->deepchem)\n",
            "  Downloading threadpoolctl-3.6.0-py3-none-any.whl.metadata (13 kB)\n",
            "Collecting mpmath<1.4,>=1.1.0 (from sympy->deepchem)\n",
            "  Downloading mpmath-1.3.0-py3-none-any.whl.metadata (8.6 kB)\n",
            "Requirement already satisfied: six>=1.5 in /usr/local/lib/python3.11/site-packages (from python-dateutil>=2.8.2->pandas->deepchem) (1.17.0)\n",
            "Downloading deepchem-2.8.1.dev20250708125353-py3-none-any.whl (1.3 MB)\n",
            "\u001b[2K   \u001b[90m━━━━━━━━━━━━━━━━━━━━━━━━━━━━━━━━━━━━━━━━\u001b[0m \u001b[32m1.3/1.3 MB\u001b[0m \u001b[31m61.4 MB/s\u001b[0m eta \u001b[36m0:00:00\u001b[0m\n",
            "\u001b[?25hDownloading numpy-1.26.4-cp311-cp311-manylinux_2_17_x86_64.manylinux2014_x86_64.whl (18.3 MB)\n",
            "\u001b[2K   \u001b[90m━━━━━━━━━━━━━━━━━━━━━━━━━━━━━━━━━━━━━━━━\u001b[0m \u001b[32m18.3/18.3 MB\u001b[0m \u001b[31m197.6 MB/s\u001b[0m eta \u001b[36m0:00:00\u001b[0m\n",
            "\u001b[?25hDownloading joblib-1.5.1-py3-none-any.whl (307 kB)\n",
            "Downloading rdkit-2025.3.3-cp311-cp311-manylinux_2_28_x86_64.whl (34.9 MB)\n",
            "\u001b[2K   \u001b[90m━━━━━━━━━━━━━━━━━━━━━━━━━━━━━━━━━━━━━━━━\u001b[0m \u001b[32m34.9/34.9 MB\u001b[0m \u001b[31m43.0 MB/s\u001b[0m eta \u001b[36m0:00:00\u001b[0m\n",
            "\u001b[?25hDownloading scikit_learn-1.7.0-cp311-cp311-manylinux_2_17_x86_64.manylinux2014_x86_64.whl (12.9 MB)\n",
            "\u001b[2K   \u001b[90m━━━━━━━━━━━━━━━━━━━━━━━━━━━━━━━━━━━━━━━━\u001b[0m \u001b[32m12.9/12.9 MB\u001b[0m \u001b[31m109.7 MB/s\u001b[0m eta \u001b[36m0:00:00\u001b[0m\n",
            "\u001b[?25hDownloading sympy-1.14.0-py3-none-any.whl (6.3 MB)\n",
            "\u001b[2K   \u001b[90m━━━━━━━━━━━━━━━━━━━━━━━━━━━━━━━━━━━━━━━━\u001b[0m \u001b[32m6.3/6.3 MB\u001b[0m \u001b[31m176.6 MB/s\u001b[0m eta \u001b[36m0:00:00\u001b[0m\n",
            "\u001b[?25hDownloading mpmath-1.3.0-py3-none-any.whl (536 kB)\n",
            "\u001b[2K   \u001b[90m━━━━━━━━━━━━━━━━━━━━━━━━━━━━━━━━━━━━━━━━\u001b[0m \u001b[32m536.2/536.2 kB\u001b[0m \u001b[31m29.5 MB/s\u001b[0m eta \u001b[36m0:00:00\u001b[0m\n",
            "\u001b[?25hDownloading threadpoolctl-3.6.0-py3-none-any.whl (18 kB)\n",
            "Downloading pillow-11.3.0-cp311-cp311-manylinux_2_27_x86_64.manylinux_2_28_x86_64.whl (6.6 MB)\n",
            "\u001b[2K   \u001b[90m━━━━━━━━━━━━━━━━━━━━━━━━━━━━━━━━━━━━━━━━\u001b[0m \u001b[32m6.6/6.6 MB\u001b[0m \u001b[31m140.8 MB/s\u001b[0m eta \u001b[36m0:00:00\u001b[0m\n",
            "\u001b[?25hInstalling collected packages: mpmath, threadpoolctl, sympy, Pillow, numpy, joblib, rdkit, scikit-learn, deepchem\n",
            "  Attempting uninstall: numpy\n",
            "    Found existing installation: numpy 2.3.1\n",
            "    Uninstalling numpy-2.3.1:\n",
            "      Successfully uninstalled numpy-2.3.1\n",
            "Successfully installed Pillow-11.3.0 deepchem-2.8.1.dev20250708125353 joblib-1.5.1 mpmath-1.3.0 numpy-1.26.4 rdkit-2025.3.3 scikit-learn-1.7.0 sympy-1.14.0 threadpoolctl-3.6.0\n"
          ]
        },
        {
          "data": {
            "application/vnd.colab-display-data+json": {
              "id": "2f755c7e245242cdaa6b91bdf7bb0e3a",
              "pip_warning": {
                "packages": [
                  "numpy"
                ]
              }
            }
          },
          "metadata": {},
          "output_type": "display_data"
        },
        {
          "name": "stderr",
          "output_type": "stream",
          "text": [
            "No normalization for SPS. Feature removed!\n",
            "No normalization for AvgIpc. Feature removed!\n",
            "No normalization for NumAmideBonds. Feature removed!\n",
            "No normalization for NumAtomStereoCenters. Feature removed!\n",
            "No normalization for NumBridgeheadAtoms. Feature removed!\n",
            "No normalization for NumHeterocycles. Feature removed!\n",
            "No normalization for NumSpiroAtoms. Feature removed!\n",
            "No normalization for NumUnspecifiedAtomStereoCenters. Feature removed!\n",
            "No normalization for Phi. Feature removed!\n",
            "\u001b[34m\u001b[1mwandb\u001b[0m: \u001b[33mWARNING\u001b[0m W&B installed but not logged in.  Run `wandb login` or set the WANDB_API_KEY env variable.\n"
          ]
        },
        {
          "name": "stdout",
          "output_type": "stream",
          "text": [
            "WARNING:tensorflow:From /usr/local/lib/python3.11/dist-packages/tensorflow/python/util/deprecation.py:588: calling function (from tensorflow.python.eager.polymorphic_function.polymorphic_function) with experimental_relax_shapes is deprecated and will be removed in a future version.\n",
            "Instructions for updating:\n",
            "experimental_relax_shapes is deprecated, use reduce_retracing instead\n"
          ]
        },
        {
          "name": "stderr",
          "output_type": "stream",
          "text": [
            "\u001b[34m\u001b[1mwandb\u001b[0m: \u001b[33mWARNING\u001b[0m W&B installed but not logged in.  Run `wandb login` or set the WANDB_API_KEY env variable.\n",
            "Skipped loading modules with pytorch-geometric dependency, missing a dependency. No module named 'torch_geometric'\n",
            "WARNING:deepchem.models:Skipped loading modules with pytorch-geometric dependency, missing a dependency. cannot import name 'DMPNN' from 'deepchem.models.torch_models' (/usr/local/lib/python3.11/site-packages/deepchem/models/torch_models/__init__.py)\n",
            "WARNING:deepchem.models:Skipped loading modules with pytorch-lightning dependency, missing a dependency. No module named 'lightning'\n",
            "WARNING:deepchem.models:Skipped loading some Jax models, missing a dependency. No module named 'haiku'\n"
          ]
        },
        {
          "data": {
            "application/vnd.google.colaboratory.intrinsic+json": {
              "type": "string"
            },
            "text/plain": [
              "'2.8.1.dev'"
            ]
          },
          "execution_count": 3,
          "metadata": {},
          "output_type": "execute_result"
        }
      ],
      "source": [
        "!pip install --pre deepchem\n",
        "import deepchem\n",
        "deepchem.__version__"
      ]
    },
    {
      "cell_type": "code",
      "execution_count": 4,
      "metadata": {
        "id": "W1cCOOYXnB_L"
      },
      "outputs": [],
      "source": [
        "import deepchem as dc\n",
        "import os\n",
        "\n",
        "import numpy as np\n",
        "import tensorflow as tf\n",
        "\n",
        "import matplotlib.pyplot as plt\n",
        "\n",
        "from rdkit import Chem\n",
        "\n",
        "from deepchem.molnet import load_pdbbind\n",
        "from deepchem.models import AtomicConvModel\n",
        "from deepchem.feat import AtomicConvFeaturizer"
      ]
    },
    {
      "cell_type": "markdown",
      "metadata": {
        "id": "fACLMson_-vk"
      },
      "source": [
        "### Getting protein-ligand data\n",
        "If you worked through [Tutorial 13](https://github.com/deepchem/deepchem/blob/master/examples/tutorials/Modeling_Protein_Ligand_Interactions.ipynb) on modeling protein-ligand interactions, you'll already be familiar with how to obtain a set of data from PDBbind for training our model. Since we explored molecular complexes in detail in the [previous tutorial]((https://github.com/deepchem/deepchem/blob/master/examples/tutorials/Modeling_Protein_Ligand_Interactions.ipynb)), this time we'll simply initialize an `AtomicConvFeaturizer` and load the PDBbind dataset directly using MolNet."
      ]
    },
    {
      "cell_type": "code",
      "execution_count": 5,
      "metadata": {
        "id": "_qu5DlVa3aV3"
      },
      "outputs": [],
      "source": [
        "f1_num_atoms = 100  # maximum number of atoms to consider in the ligand\n",
        "f2_num_atoms = 1000  # maximum number of atoms to consider in the protein\n",
        "max_num_neighbors = 12  # maximum number of spatial neighbors for an atom\n",
        "\n",
        "acf = AtomicConvFeaturizer(frag1_num_atoms=f1_num_atoms,\n",
        "                      frag2_num_atoms=f2_num_atoms,\n",
        "                      complex_num_atoms=f1_num_atoms+f2_num_atoms,\n",
        "                      max_num_neighbors=max_num_neighbors,\n",
        "                      neighbor_cutoff=4)"
      ]
    },
    {
      "cell_type": "markdown",
      "metadata": {
        "id": "pyH9KUkvxlxk"
      },
      "source": [
        "`load_pdbbind` allows us to specify if we want to use the entire protein or only the binding pocket (`pocket=True`) for featurization. Using only the pocket saves memory and speeds up the featurization. We can also use the \"core\" dataset of ~200 high-quality complexes for rapidly testing our model, or the larger \"refined\" set of nearly 5000 complexes for more datapoints and more robust training/validation. On Colab, it takes only a minute to featurize the core PDBbind set! This is pretty incredible, and it means you can quickly experiment with different featurizations and model architectures."
      ]
    },
    {
      "cell_type": "code",
      "execution_count": null,
      "metadata": {
        "colab": {
          "base_uri": "https://localhost:8080/"
        },
        "collapsed": true,
        "id": "Z9eyanh35qyj",
        "outputId": "fc3c6926-31d8-4f2f-9387-a96849f5d3c3"
      },
      "outputs": [
        {
          "name": "stderr",
          "output_type": "stream",
          "text": [
            "[03:44:08] Warning: molecule is tagged as 2D, but at least one Z coordinate is not zero. Marking the mol as 3D.\n",
            "[03:44:12] Warning: molecule is tagged as 2D, but at least one Z coordinate is not zero. Marking the mol as 3D.\n",
            "[03:44:14] Warning: molecule is tagged as 2D, but at least one Z coordinate is not zero. Marking the mol as 3D.\n",
            "[03:44:15] Warning: molecule is tagged as 2D, but at least one Z coordinate is not zero. Marking the mol as 3D.\n",
            "[03:44:16] Warning: molecule is tagged as 2D, but at least one Z coordinate is not zero. Marking the mol as 3D.\n",
            "[03:44:18] Warning: molecule is tagged as 2D, but at least one Z coordinate is not zero. Marking the mol as 3D.\n",
            "[03:44:19] Warning: molecule is tagged as 2D, but at least one Z coordinate is not zero. Marking the mol as 3D.\n",
            "[03:44:21] Warning: molecule is tagged as 2D, but at least one Z coordinate is not zero. Marking the mol as 3D.\n",
            "[03:44:21] Warning: molecule is tagged as 2D, but at least one Z coordinate is not zero. Marking the mol as 3D.\n",
            "[03:44:21] Warning: molecule is tagged as 2D, but at least one Z coordinate is not zero. Marking the mol as 3D.\n",
            "[03:44:23] Warning: molecule is tagged as 2D, but at least one Z coordinate is not zero. Marking the mol as 3D.\n",
            "[03:44:24] Warning: molecule is tagged as 2D, but at least one Z coordinate is not zero. Marking the mol as 3D.\n",
            "[03:44:25] Warning: molecule is tagged as 2D, but at least one Z coordinate is not zero. Marking the mol as 3D.\n",
            "[03:44:27] Warning: molecule is tagged as 2D, but at least one Z coordinate is not zero. Marking the mol as 3D.\n",
            "[03:44:28] Warning: molecule is tagged as 2D, but at least one Z coordinate is not zero. Marking the mol as 3D.\n",
            "[03:44:28] Warning: molecule is tagged as 2D, but at least one Z coordinate is not zero. Marking the mol as 3D.\n",
            "[03:44:29] Warning: molecule is tagged as 2D, but at least one Z coordinate is not zero. Marking the mol as 3D.\n",
            "[03:44:31] Warning: molecule is tagged as 2D, but at least one Z coordinate is not zero. Marking the mol as 3D.\n",
            "[03:44:31] Warning: molecule is tagged as 2D, but at least one Z coordinate is not zero. Marking the mol as 3D.\n",
            "[03:44:32] Warning: molecule is tagged as 2D, but at least one Z coordinate is not zero. Marking the mol as 3D.\n",
            "[03:44:34] Warning: molecule is tagged as 2D, but at least one Z coordinate is not zero. Marking the mol as 3D.\n",
            "[03:44:34] Warning: molecule is tagged as 2D, but at least one Z coordinate is not zero. Marking the mol as 3D.\n",
            "[03:44:36] Warning: molecule is tagged as 2D, but at least one Z coordinate is not zero. Marking the mol as 3D.\n",
            "[03:44:37] Warning: molecule is tagged as 2D, but at least one Z coordinate is not zero. Marking the mol as 3D.\n",
            "[03:44:39] Warning: molecule is tagged as 2D, but at least one Z coordinate is not zero. Marking the mol as 3D.\n",
            "[03:44:40] Warning: molecule is tagged as 2D, but at least one Z coordinate is not zero. Marking the mol as 3D.\n",
            "[03:44:41] Warning: molecule is tagged as 2D, but at least one Z coordinate is not zero. Marking the mol as 3D.\n",
            "[03:44:42] Warning: molecule is tagged as 2D, but at least one Z coordinate is not zero. Marking the mol as 3D.\n",
            "[03:44:43] Warning: molecule is tagged as 2D, but at least one Z coordinate is not zero. Marking the mol as 3D.\n",
            "[03:44:43] Warning: molecule is tagged as 2D, but at least one Z coordinate is not zero. Marking the mol as 3D.\n",
            "[03:44:45] Warning: molecule is tagged as 2D, but at least one Z coordinate is not zero. Marking the mol as 3D.\n",
            "[03:44:46] Warning: molecule is tagged as 2D, but at least one Z coordinate is not zero. Marking the mol as 3D.\n",
            "[03:44:48] Warning: molecule is tagged as 2D, but at least one Z coordinate is not zero. Marking the mol as 3D.\n",
            "[03:44:48] Warning: molecule is tagged as 2D, but at least one Z coordinate is not zero. Marking the mol as 3D.\n",
            "[03:44:50] Warning: molecule is tagged as 2D, but at least one Z coordinate is not zero. Marking the mol as 3D.\n",
            "[03:44:51] Warning: molecule is tagged as 2D, but at least one Z coordinate is not zero. Marking the mol as 3D.\n",
            "[03:44:51] Warning: molecule is tagged as 2D, but at least one Z coordinate is not zero. Marking the mol as 3D.\n",
            "[03:44:52] Warning: molecule is tagged as 2D, but at least one Z coordinate is not zero. Marking the mol as 3D.\n",
            "[03:44:54] Warning: molecule is tagged as 2D, but at least one Z coordinate is not zero. Marking the mol as 3D.\n",
            "[03:44:54] Warning: molecule is tagged as 2D, but at least one Z coordinate is not zero. Marking the mol as 3D.\n",
            "[03:44:54] Warning: molecule is tagged as 2D, but at least one Z coordinate is not zero. Marking the mol as 3D.\n",
            "[03:44:54] Warning: molecule is tagged as 2D, but at least one Z coordinate is not zero. Marking the mol as 3D.\n",
            "[03:44:55] Warning: molecule is tagged as 2D, but at least one Z coordinate is not zero. Marking the mol as 3D.\n",
            "[03:44:56] Warning: molecule is tagged as 2D, but at least one Z coordinate is not zero. Marking the mol as 3D.\n",
            "[03:44:56] Warning: molecule is tagged as 2D, but at least one Z coordinate is not zero. Marking the mol as 3D.\n",
            "[03:44:56] Warning: molecule is tagged as 2D, but at least one Z coordinate is not zero. Marking the mol as 3D.\n",
            "[03:44:56] Warning: molecule is tagged as 2D, but at least one Z coordinate is not zero. Marking the mol as 3D.\n",
            "[03:44:58] Warning: molecule is tagged as 2D, but at least one Z coordinate is not zero. Marking the mol as 3D.\n",
            "[03:44:58] Warning: molecule is tagged as 2D, but at least one Z coordinate is not zero. Marking the mol as 3D.\n",
            "[03:45:00] Warning: molecule is tagged as 2D, but at least one Z coordinate is not zero. Marking the mol as 3D.\n",
            "[03:45:01] Warning: molecule is tagged as 2D, but at least one Z coordinate is not zero. Marking the mol as 3D.\n",
            "[03:45:02] Warning: molecule is tagged as 2D, but at least one Z coordinate is not zero. Marking the mol as 3D.\n",
            "[03:45:04] Warning: molecule is tagged as 2D, but at least one Z coordinate is not zero. Marking the mol as 3D.\n",
            "[03:45:05] Warning: molecule is tagged as 2D, but at least one Z coordinate is not zero. Marking the mol as 3D.\n",
            "[03:45:06] Warning: molecule is tagged as 2D, but at least one Z coordinate is not zero. Marking the mol as 3D.\n",
            "[03:45:07] Warning: molecule is tagged as 2D, but at least one Z coordinate is not zero. Marking the mol as 3D.\n",
            "[03:45:08] Warning: molecule is tagged as 2D, but at least one Z coordinate is not zero. Marking the mol as 3D.\n",
            "[03:45:09] Warning: molecule is tagged as 2D, but at least one Z coordinate is not zero. Marking the mol as 3D.\n",
            "[03:45:11] Warning: molecule is tagged as 2D, but at least one Z coordinate is not zero. Marking the mol as 3D.\n",
            "[03:45:12] Warning: molecule is tagged as 2D, but at least one Z coordinate is not zero. Marking the mol as 3D.\n",
            "[03:45:12] Warning: molecule is tagged as 2D, but at least one Z coordinate is not zero. Marking the mol as 3D.\n",
            "[03:45:13] Warning: molecule is tagged as 2D, but at least one Z coordinate is not zero. Marking the mol as 3D.\n",
            "[03:45:15] Warning: molecule is tagged as 2D, but at least one Z coordinate is not zero. Marking the mol as 3D.\n",
            "[03:45:16] Warning: molecule is tagged as 2D, but at least one Z coordinate is not zero. Marking the mol as 3D.\n",
            "[03:45:16] Warning: molecule is tagged as 2D, but at least one Z coordinate is not zero. Marking the mol as 3D.\n",
            "[03:45:18] Warning: molecule is tagged as 2D, but at least one Z coordinate is not zero. Marking the mol as 3D.\n",
            "[03:45:18] Warning: molecule is tagged as 2D, but at least one Z coordinate is not zero. Marking the mol as 3D.\n",
            "[03:45:20] Warning: molecule is tagged as 2D, but at least one Z coordinate is not zero. Marking the mol as 3D.\n",
            "[03:45:20] Warning: molecule is tagged as 2D, but at least one Z coordinate is not zero. Marking the mol as 3D.\n",
            "[03:45:22] Warning: molecule is tagged as 2D, but at least one Z coordinate is not zero. Marking the mol as 3D.\n",
            "[03:45:24] Warning: molecule is tagged as 2D, but at least one Z coordinate is not zero. Marking the mol as 3D.\n",
            "[03:45:26] Warning: molecule is tagged as 2D, but at least one Z coordinate is not zero. Marking the mol as 3D.\n",
            "[03:45:27] Warning: molecule is tagged as 2D, but at least one Z coordinate is not zero. Marking the mol as 3D.\n",
            "[03:45:29] Warning: molecule is tagged as 2D, but at least one Z coordinate is not zero. Marking the mol as 3D.\n",
            "[03:45:31] Warning: molecule is tagged as 2D, but at least one Z coordinate is not zero. Marking the mol as 3D.\n",
            "[03:45:34] Warning: molecule is tagged as 2D, but at least one Z coordinate is not zero. Marking the mol as 3D.\n",
            "[03:45:34] Warning: molecule is tagged as 2D, but at least one Z coordinate is not zero. Marking the mol as 3D.\n",
            "[03:45:35] Warning: molecule is tagged as 2D, but at least one Z coordinate is not zero. Marking the mol as 3D.\n",
            "[03:45:36] Warning: molecule is tagged as 2D, but at least one Z coordinate is not zero. Marking the mol as 3D.\n",
            "[03:45:36] Warning: molecule is tagged as 2D, but at least one Z coordinate is not zero. Marking the mol as 3D.\n",
            "[03:45:38] Warning: molecule is tagged as 2D, but at least one Z coordinate is not zero. Marking the mol as 3D.\n",
            "[03:45:38] Warning: molecule is tagged as 2D, but at least one Z coordinate is not zero. Marking the mol as 3D.\n",
            "[03:45:41] Warning: molecule is tagged as 2D, but at least one Z coordinate is not zero. Marking the mol as 3D.\n",
            "[03:45:43] Warning: molecule is tagged as 2D, but at least one Z coordinate is not zero. Marking the mol as 3D.\n",
            "[03:45:43] Warning: molecule is tagged as 2D, but at least one Z coordinate is not zero. Marking the mol as 3D.\n",
            "[03:45:45] Warning: molecule is tagged as 2D, but at least one Z coordinate is not zero. Marking the mol as 3D.\n",
            "[03:45:49] Warning: molecule is tagged as 2D, but at least one Z coordinate is not zero. Marking the mol as 3D.\n",
            "[03:45:49] Warning: molecule is tagged as 2D, but at least one Z coordinate is not zero. Marking the mol as 3D.\n",
            "[03:45:51] Warning: molecule is tagged as 2D, but at least one Z coordinate is not zero. Marking the mol as 3D.\n",
            "[03:45:54] Warning: molecule is tagged as 2D, but at least one Z coordinate is not zero. Marking the mol as 3D.\n",
            "[03:45:54] Warning: molecule is tagged as 2D, but at least one Z coordinate is not zero. Marking the mol as 3D.\n",
            "[03:45:56] Warning: molecule is tagged as 2D, but at least one Z coordinate is not zero. Marking the mol as 3D.\n",
            "[03:45:56] Warning: molecule is tagged as 2D, but at least one Z coordinate is not zero. Marking the mol as 3D.\n",
            "[03:45:58] Warning: molecule is tagged as 2D, but at least one Z coordinate is not zero. Marking the mol as 3D.\n",
            "[03:46:00] Warning: molecule is tagged as 2D, but at least one Z coordinate is not zero. Marking the mol as 3D.\n",
            "[03:46:02] Warning: molecule is tagged as 2D, but at least one Z coordinate is not zero. Marking the mol as 3D.\n",
            "[03:46:05] Warning: molecule is tagged as 2D, but at least one Z coordinate is not zero. Marking the mol as 3D.\n",
            "[03:46:05] Warning: molecule is tagged as 2D, but at least one Z coordinate is not zero. Marking the mol as 3D.\n",
            "[03:46:08] Warning: molecule is tagged as 2D, but at least one Z coordinate is not zero. Marking the mol as 3D.\n",
            "[03:46:11] Warning: molecule is tagged as 2D, but at least one Z coordinate is not zero. Marking the mol as 3D.\n",
            "[03:46:14] Warning: molecule is tagged as 2D, but at least one Z coordinate is not zero. Marking the mol as 3D.\n",
            "[03:46:18] Warning: molecule is tagged as 2D, but at least one Z coordinate is not zero. Marking the mol as 3D.\n",
            "[03:46:19] Warning: molecule is tagged as 2D, but at least one Z coordinate is not zero. Marking the mol as 3D.\n",
            "[03:46:20] Warning: molecule is tagged as 2D, but at least one Z coordinate is not zero. Marking the mol as 3D.\n",
            "[03:46:20] Warning: molecule is tagged as 2D, but at least one Z coordinate is not zero. Marking the mol as 3D.\n",
            "[03:46:24] Warning: molecule is tagged as 2D, but at least one Z coordinate is not zero. Marking the mol as 3D.\n"
          ]
        }
      ],
      "source": [
        "%%time\n",
        "tasks, datasets, transformers = load_pdbbind(featurizer=acf,\n",
        "                                             save_dir='.',\n",
        "                                             data_dir='.',\n",
        "                                             pocket=True,\n",
        "                                             reload=False,\n",
        "                                             set_name='core')"
      ]
    },
    {
      "cell_type": "markdown",
      "metadata": {
        "id": "ICHLickSRouF",
        "tags": []
      },
      "source": [
        "Unfortunately, if you try to use the \"refined\" dataset, there are some complexes that cannot be featurized. To resolve this issue, rather than increasing `complex_num_atoms`, simply omit the lines of the dataset that have an `x` value of `None`"
      ]
    },
    {
      "cell_type": "code",
      "execution_count": null,
      "metadata": {
        "id": "8XFZ9JutRouG"
      },
      "outputs": [],
      "source": [
        "class MyTransformer(dc.trans.Transformer):\n",
        "  def transform_array(x, y, w, ids):\n",
        "    kept_rows = x != None\n",
        "    return x[kept_rows], y[kept_rows], w[kept_rows], ids[kept_rows],\n",
        "\n",
        "datasets = [d.transform(MyTransformer) for d in datasets]"
      ]
    },
    {
      "cell_type": "code",
      "execution_count": null,
      "metadata": {
        "id": "EaGn9UbwEdyY"
      },
      "outputs": [],
      "source": [
        "datasets"
      ]
    },
    {
      "cell_type": "code",
      "execution_count": null,
      "metadata": {
        "id": "PQq0lkWIfVoE"
      },
      "outputs": [],
      "source": [
        "train, val, test = datasets"
      ]
    },
    {
      "cell_type": "markdown",
      "metadata": {
        "id": "GNilV3VXnB_j"
      },
      "source": [
        "### Training the model"
      ]
    },
    {
      "cell_type": "markdown",
      "metadata": {
        "id": "WufupHBPnB_k"
      },
      "source": [
        "Now that we've got our dataset, let's go ahead and initialize an `AtomicConvModel` to train. Keep the input parameters the same as those used in `AtomicConvFeaturizer`, or else we'll get errors. `layer_sizes` controls the number of layers and the size of each dense layer in the network. We choose these hyperparameters to be the same as those used in the [original paper](https://arxiv.org/pdf/1703.10603.pdf)."
      ]
    },
    {
      "cell_type": "code",
      "execution_count": null,
      "metadata": {
        "id": "ErBNNGH55-_B"
      },
      "outputs": [],
      "source": [
        "acm = AtomicConvModel(n_tasks=1,\n",
        "                      frag1_num_atoms=f1_num_atoms,\n",
        "                      frag2_num_atoms=f2_num_atoms,\n",
        "                      complex_num_atoms=f1_num_atoms+f2_num_atoms,\n",
        "                      max_num_neighbors=max_num_neighbors,\n",
        "                      batch_size=12,\n",
        "                      layer_sizes=[32, 32, 16],\n",
        "                      learning_rate=0.003,\n",
        "                      )"
      ]
    },
    {
      "cell_type": "code",
      "execution_count": null,
      "metadata": {
        "id": "4cNdP1b1hEQM"
      },
      "outputs": [],
      "source": [
        "losses, val_losses = [], []"
      ]
    },
    {
      "cell_type": "code",
      "execution_count": null,
      "metadata": {
        "id": "5g6b2qEwNwdL"
      },
      "outputs": [],
      "source": [
        "%%time\n",
        "max_epochs = 50\n",
        "\n",
        "metric = dc.metrics.Metric(dc.metrics.score_function.rms_score)\n",
        "step_cutoff = len(train)//12\n",
        "def val_cb(model, step):\n",
        "  if step%step_cutoff!=0:\n",
        "      return\n",
        "  val_losses.append(model.evaluate(val, metrics=[metric])['rms_score']**2)  # L2 Loss\n",
        "  losses.append(model.evaluate(train, metrics=[metric])['rms_score']**2)  # L2 Loss\n",
        "\n",
        "acm.fit(train, nb_epoch=max_epochs, max_checkpoints_to_keep=1,\n",
        "                callbacks=[val_cb])"
      ]
    },
    {
      "cell_type": "markdown",
      "metadata": {
        "id": "aTFdba_KDDUQ"
      },
      "source": [
        "The loss curves are not exactly smooth, which is unsurprising because we are using 154 training and 19 validation datapoints. Increasing the dataset size may help with this, but will also require greater computational resources."
      ]
    },
    {
      "cell_type": "code",
      "execution_count": null,
      "metadata": {
        "id": "pn4QWM1bizw0"
      },
      "outputs": [],
      "source": [
        "f, ax = plt.subplots()\n",
        "ax.scatter(range(len(losses)), losses, label='train loss')\n",
        "ax.scatter(range(len(val_losses)), val_losses, label='val loss')\n",
        "plt.legend(loc='upper right');"
      ]
    },
    {
      "cell_type": "markdown",
      "metadata": {
        "id": "KzGW3ztODYzV"
      },
      "source": [
        "The [ACNN paper](https://arxiv.org/pdf/1703.10603.pdf) showed a Pearson $R^2$ score of 0.912 and 0.448 for a random 80/20 split of the PDBbind core train/test sets. Here, we've used an 80/10/10 training/validation/test split and achieved similar performance for the training set (0.943). We can see from the performance on the training, validation, and test sets (and from the results in the paper) that the ACNN can learn chemical interactions from small training datasets, but struggles to generalize. Still, it is pretty amazing that we can train an `AtomicConvModel` with only a few lines of code and start predicting binding affinities!  \n",
        "From here, you can experiment with different hyperparameters, more challenging splits, and the \"refined\" set of PDBbind to see if you can reduce overfitting and come up with a more robust model."
      ]
    },
    {
      "cell_type": "code",
      "execution_count": null,
      "metadata": {
        "id": "VcDLwf-20tci"
      },
      "outputs": [],
      "source": [
        "score = dc.metrics.Metric(dc.metrics.score_function.pearson_r2_score)\n",
        "for tvt, ds in zip(['train', 'val', 'test'], datasets):\n",
        "  print(tvt, acm.evaluate(ds, metrics=[score]))"
      ]
    },
    {
      "cell_type": "markdown",
      "metadata": {
        "id": "FrIO9CSgAHlz"
      },
      "source": [
        "### Further reading\n",
        "We have explored the ACNN architecture and used the PDBbind dataset to train an ACNN to predict protein-ligand binding energies. For more information, read the original paper that introduced ACNNs: Gomes, Joseph, et al. \"Atomic convolutional networks for predicting protein-ligand binding affinity.\" [arXiv preprint arXiv:1703.10603](https://arxiv.org/abs/1703.10603) (2017). There are many other methods and papers on predicting binding affinities. Here are a few interesting ones to check out: predictions using [only ligands or proteins](https://www.frontiersin.org/articles/10.3389/fphar.2020.00069/full), [molecular docking with deep learning](https://chemrxiv.org/articles/preprint/GNINA_1_0_Molecular_Docking_with_Deep_Learning/13578140), and [AtomNet](https://arxiv.org/abs/1510.02855)."
      ]
    },
    {
      "cell_type": "markdown",
      "metadata": {
        "id": "SnHDnYuYR_Q4"
      },
      "source": [
        "## Quantum stuff"
      ]
    },
    {
      "cell_type": "code",
      "execution_count": null,
      "metadata": {
        "id": "lo4a0scQSAbS"
      },
      "outputs": [],
      "source": [
        "# 1) IMPORTS & DATA LOADING\n",
        "import numpy as np\n",
        "from sklearn.decomposition import PCA\n",
        "from sklearn.preprocessing import MinMaxScaler\n",
        "from deepchem.molnet import load_pdbbind\n",
        "# Qiskit ML pieces\n",
        "from qiskit.circuit.library import ZFeatureMap\n",
        "from qiskit_machine_learning.algorithms import VQR\n",
        "from qiskit.primitives import Estimator\n",
        "from scipy.optimize import L_BFGS_B\n",
        "\n",
        "# 2) LOAD DEEPCHEM DATA\n",
        "# (assumes you've already run your AtomicConvFeaturizer load & MyTransformer steps)\n",
        "tasks, datasets, transformers = load_pdbbind(\n",
        "    featurizer=acf,\n",
        "    save_dir='.',\n",
        "    data_dir='.',\n",
        "    pocket=True,\n",
        "    reload=False,\n",
        "    set_name='core'\n",
        ")\n",
        "train, val, test = datasets\n",
        "X_train_dc, y_train = train.X, train.y\n",
        "X_val_dc,   y_val   = val.X,   val.y\n",
        "X_test_dc,  y_test  = test.X,  test.y\n",
        "\n",
        "# 3) FLATTEN DeepChem FEATURES → CLASSICAL MATRIX\n",
        "def flatten_dc_features(X_dc):\n",
        "    flat = []\n",
        "    for sample in X_dc:\n",
        "        # each sample is a tuple/list of 9 arrays (one per feature type)\n",
        "        arrays = [arr.flatten() for arr in sample]\n",
        "        flat.append(np.concatenate(arrays))\n",
        "    return np.vstack(flat)\n",
        "\n",
        "X_train_flat = flatten_dc_features(X_train_dc)\n",
        "X_val_flat   = flatten_dc_features(X_val_dc)\n",
        "X_test_flat  = flatten_dc_features(X_test_dc)\n",
        "\n",
        "# 4) SCALE + PCA → N‐QUBIT INPUT VECTORS\n",
        "n_qubits = 6  # pick based on your simulator capacity\n",
        "# scale into [−π,π] so feature_map rotations stay numeric\n",
        "fm_scaler = MinMaxScaler(feature_range=(-np.pi, np.pi))\n",
        "X_all = fm_scaler.fit_transform(\n",
        "    np.vstack([X_train_flat, X_val_flat, X_test_flat])\n",
        ")\n",
        "pca = PCA(n_components=n_qubits)\n",
        "X_all_pca = pca.fit_transform(X_all)\n",
        "\n",
        "# split back\n",
        "N_train = X_train_flat.shape[0]\n",
        "N_val   = X_val_flat.shape[0]\n",
        "X_train_pca = X_all_pca[:N_train]\n",
        "X_val_pca   = X_all_pca[N_train:N_train+N_val]\n",
        "X_test_pca  = X_all_pca[N_train+N_val:]\n",
        "\n",
        "# scale targets y into [−1,+1] for single‐qubit range\n",
        "y_scaler = MinMaxScaler(feature_range=(-1, 1))\n",
        "y_all = y_scaler.fit_transform(\n",
        "    np.vstack([y_train.reshape(-1,1), y_val.reshape(-1,1), y_test.reshape(-1,1)])\n",
        ")\n",
        "y_train_scaled = y_all[:N_train].ravel()\n",
        "y_val_scaled   = y_all[N_train:N_train+N_val].ravel()\n",
        "y_test_scaled  = y_all[N_train+N_val:].ravel()\n",
        "\n",
        "# 5) BUILD THE QCNN CIRCUIT\n",
        "# 5.1 Feature map\n",
        "feature_map = ZFeatureMap(num_qubits=n_qubits, reps=1)\n",
        "\n",
        "# 5.2 A simple “1‐conv + 1‐pool” QCNN block for illustration\n",
        "from qiskit import QuantumCircuit\n",
        "from qiskit.circuit import ParameterVector\n",
        "\n",
        "def conv_instruction(n, prefix):\n",
        "    params = ParameterVector(prefix, length=3*n)\n",
        "    qc = QuantumCircuit(n, name=\"Conv\")\n",
        "    idx = 0\n",
        "    for q1,q2 in zip(range(0,n,2), range(1,n,2)):\n",
        "        sub = QuantumCircuit(2)\n",
        "        sub.rz(-np.pi/2, 1)\n",
        "        sub.cx(1,0)\n",
        "        sub.rz(params[idx],   0)\n",
        "        sub.ry(params[idx+1], 1)\n",
        "        sub.cx(0,1)\n",
        "        sub.ry(params[idx+2], 1)\n",
        "        qc.compose(sub, [q1,q2], inplace=True)\n",
        "        qc.barrier()\n",
        "        idx += 3\n",
        "    return qc.to_instruction()\n",
        "\n",
        "def pool_instruction(srcs, sinks, prefix):\n",
        "    params = ParameterVector(prefix, length=3*len(srcs))\n",
        "    n = len(srcs)+len(sinks)\n",
        "    qc = QuantumCircuit(n, name=\"Pool\")\n",
        "    idx = 0\n",
        "    for s,t in zip(srcs, sinks):\n",
        "        sub = QuantumCircuit(2)\n",
        "        sub.rz(-np.pi/2, 1)\n",
        "        sub.cx(1,0)\n",
        "        sub.rz(params[idx],   0)\n",
        "        sub.ry(params[idx+1], 1)\n",
        "        sub.cx(0,1)\n",
        "        sub.ry(params[idx+2], 1)\n",
        "        qc.compose(sub, [s,t], inplace=True)\n",
        "        qc.barrier()\n",
        "        idx += 3\n",
        "    return qc.to_instruction()\n",
        "\n",
        "# Assemble: fmap → conv → pool → measure Z⊗… at end\n",
        "qc_cnn = QuantumCircuit(n_qubits)\n",
        "qc_cnn.compose(feature_map, range(n_qubits), inplace=True)\n",
        "qc_cnn.append(conv_instruction(n_qubits, \"c1\"), range(n_qubits))\n",
        "# example pooling halving qubits [0→n/2],[1→n/2+1],…\n",
        "src = list(range(0,n_qubits,2))\n",
        "snk = list(range(1,n_qubits,2))\n",
        "qc_cnn.append(pool_instruction(src, snk, \"p1\"), range(n_qubits))\n",
        "# now only n_qubits/2 logical remain; you’d repeat conv+pool until 1 remains\n",
        "\n",
        "# 6) WRAP IN A VQR & TRAIN\n",
        "vqr = VQR(\n",
        "    feature_map=feature_map,\n",
        "    ansatz=qc_cnn,\n",
        "    optimizer=L_BFGS_B(maxiter=150),\n",
        "    estimator=Estimator(),\n",
        ")\n",
        "\n",
        "# fit on train, validate on val\n",
        "vqr.fit(X_train_pca, y_train_scaled)\n",
        "y_val_pred_scaled = vqr.predict(X_val_pca)\n",
        "y_val_pred = y_scaler.inverse_transform(y_val_pred_scaled.reshape(-1,1)).ravel()\n",
        "\n",
        "# 7) EVALUATE ON TEST\n",
        "y_test_pred_scaled = vqr.predict(X_test_pca)\n",
        "y_test_pred = y_scaler.inverse_transform(y_test_pred_scaled.reshape(-1,1)).ravel()\n",
        "\n",
        "# Now you have y_test_pred in the original binding‐energy units!\n"
      ]
    }
  ],
  "metadata": {
    "accelerator": "GPU",
    "colab": {
      "name": "14_Modeling_Protein_Ligand_Interactions_With_Atomic_Convolutions.ipynb",
      "provenance": [],
      "toc_visible": true
    },
    "kernelspec": {
      "display_name": "fetch",
      "language": "python",
      "name": "python3"
    },
    "language_info": {
      "codemirror_mode": {
        "name": "ipython",
        "version": 3
      },
      "file_extension": ".py",
      "mimetype": "text/x-python",
      "name": "python",
      "nbconvert_exporter": "python",
      "pygments_lexer": "ipython3",
      "version": "3.13.5"
    }
  },
  "nbformat": 4,
  "nbformat_minor": 0
}
