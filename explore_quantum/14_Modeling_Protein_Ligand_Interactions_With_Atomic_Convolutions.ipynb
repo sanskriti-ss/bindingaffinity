{
  "cells": [
    {
      "cell_type": "markdown",
      "metadata": {
        "id": "f7FPLsj4nB-6"
      },
      "source": [
        "#  Modeling Protein-Ligand Interactions with Atomic Convolutions\n",
        "By [Nathan C. Frey](https://ncfrey.github.io/) | [Twitter](https://twitter.com/nc_frey) and [Bharath Ramsundar](https://rbharath.github.io/) | [Twitter](https://twitter.com/rbhar90)\n",
        "\n",
        "This DeepChem tutorial introduces the [Atomic Convolutional Neural Network](https://arxiv.org/pdf/1703.10603.pdf). We'll see the structure of the `AtomicConvModel` and write a simple program to run Atomic Convolutions.\n",
        "\n",
        "### ACNN Architecture\n",
        "ACNN’s directly exploit the local three-dimensional structure of molecules to hierarchically learn more complex chemical features by optimizing both the model and featurization simultaneously in an end-to-end fashion.\n",
        "\n",
        "The atom type convolution makes use of a neighbor-listed distance matrix to extract features encoding local chemical environments from an input representation (Cartesian atomic coordinates) that does not necessarily contain spatial locality. The following methods are used to build the ACNN architecture:\n",
        "\n",
        "- __Distance Matrix__  \n",
        "The distance matrix $R$ is constructed from the Cartesian atomic coordinates $X$. It calculates distances from the distance tensor $D$. The distance matrix construction accepts as input a $(N, 3)$ coordinate matrix $C$. This matrix is “neighbor listed” into a $(N, M)$ matrix $R$.\n",
        "\n",
        "```python\n",
        "    R = tf.reduce_sum(tf.multiply(D, D), 3)     # D: Distance Tensor\n",
        "    R = tf.sqrt(R)                              # R: Distance Matrix\n",
        "    return R\n",
        "```\n",
        "\n",
        "- **Atom type convolution**  \n",
        "The output of the atom type convolution is constructed from the distance matrix $R$ and atomic number matrix $Z$. The matrix $R$ is fed into a (1x1) filter with stride 1 and depth of $N_{at}$ , where $N_{at}$ is the number of unique atomic numbers (atom types) present in the molecular system. The atom type convolution kernel is a step function that operates on the neighbor distance matrix $R$.\n",
        "\n",
        "- **Radial Pooling layer**  \n",
        "Radial Pooling is basically a dimensionality reduction process that down-samples the output of the atom type convolutions. The reduction process prevents overfitting by providing an abstracted form of representation through feature binning, as well as reducing the number of parameters learned.\n",
        "Mathematically, radial pooling layers pool over tensor slices (receptive fields) of size (1x$M$x1) with stride 1 and a depth of $N_r$, where $N_r$ is the number of desired radial filters and $M$ is the maximum number of neighbors.\n",
        "\n",
        "- **Atomistic fully connected network**  \n",
        "Atomic Convolution layers are stacked by feeding the flattened ($N$, $N_{at}$ $\\cdot$ $N_r$) output of the radial pooling layer into the atom type convolution operation. Finally, we feed the tensor row-wise (per-atom) into a fully-connected network. The\n",
        "same fully connected weights and biases are used for each atom in a given molecule.\n",
        "\n",
        "Now that we have seen the structural overview of ACNNs, we'll try to get deeper into the model and see how we can train it and what we expect as the output.\n",
        "\n",
        "For the training, we will use the publicly available PDBbind dataset. In this example, every row reflects a protein-ligand complex and the target is the binding affinity ($K_i$) of the ligand to the protein in the complex.\n",
        "\n",
        "## Colab\n",
        "\n",
        "This tutorial and the rest in this sequence are designed to be done in Google colab. If you'd like to open this notebook in colab, you can use the following link.\n",
        "\n",
        "[![Open In Colab](https://colab.research.google.com/assets/colab-badge.svg)](https://colab.research.google.com/github/deepchem/deepchem/blob/master/examples/tutorials/Modeling_Protein_Ligand_Interactions_With_Atomic_Convolutions.ipynb)\n",
        "\n",
        "## Setup\n",
        "\n",
        "To run DeepChem within Colab, you'll need to run the following cell of installation commands. This will take about 5 minutes to run to completion and install your environment."
      ]
    },
    {
      "cell_type": "code",
      "execution_count": 1,
      "metadata": {
        "colab": {
          "base_uri": "https://localhost:8080/"
        },
        "id": "Y2xCQyOInB_D",
        "outputId": "de43cadd-7af3-4dd4-fa95-735b2b02d571"
      },
      "outputs": [],
      "source": [
        "# # Download Miniconda if not already installed\n",
        "# wget https://repo.anaconda.com/miniconda/Miniconda3-latest-MacOSX-x86_64.sh\n",
        "# bash Miniconda3-latest-MacOSX-x86_64.sh\n",
        "\n",
        "# # Then create a conda env\n",
        "# conda create -n atomic python=3.10\n",
        "# conda activate atomic\n",
        "# conda install -c conda-forge pycosat mdtraj pdbfixer openmm\n"
      ]
    },
    {
      "cell_type": "code",
      "execution_count": 2,
      "metadata": {
        "colab": {
          "base_uri": "https://localhost:8080/",
          "height": 1000
        },
        "id": "jFQmra_fFE8U",
        "outputId": "8d364426-cc35-447d-9a0e-3bf8da94200c"
      },
      "outputs": [
        {
          "name": "stdout",
          "output_type": "stream",
          "text": [
            "Requirement already satisfied: deepchem in /Users/sanskriti/miniconda3/envs/atomic/lib/python3.10/site-packages (2.8.1.dev20250708223214)\n",
            "Requirement already satisfied: joblib in /Users/sanskriti/miniconda3/envs/atomic/lib/python3.10/site-packages (from deepchem) (1.5.1)\n",
            "Collecting numpy<2 (from deepchem)\n",
            "  Using cached numpy-1.26.4-cp310-cp310-macosx_11_0_arm64.whl.metadata (61 kB)\n",
            "Requirement already satisfied: pandas in /Users/sanskriti/miniconda3/envs/atomic/lib/python3.10/site-packages (from deepchem) (2.3.0)\n",
            "Requirement already satisfied: scikit-learn in /Users/sanskriti/miniconda3/envs/atomic/lib/python3.10/site-packages (from deepchem) (1.7.0)\n",
            "Requirement already satisfied: sympy in /Users/sanskriti/miniconda3/envs/atomic/lib/python3.10/site-packages (from deepchem) (1.14.0)\n",
            "Requirement already satisfied: scipy>=1.10.1 in /Users/sanskriti/miniconda3/envs/atomic/lib/python3.10/site-packages (from deepchem) (1.15.2)\n",
            "Requirement already satisfied: rdkit in /Users/sanskriti/miniconda3/envs/atomic/lib/python3.10/site-packages (from deepchem) (2025.3.3)\n",
            "Requirement already satisfied: python-dateutil>=2.8.2 in /Users/sanskriti/miniconda3/envs/atomic/lib/python3.10/site-packages (from pandas->deepchem) (2.9.0.post0)\n",
            "Requirement already satisfied: pytz>=2020.1 in /Users/sanskriti/miniconda3/envs/atomic/lib/python3.10/site-packages (from pandas->deepchem) (2025.2)\n",
            "Requirement already satisfied: tzdata>=2022.7 in /Users/sanskriti/miniconda3/envs/atomic/lib/python3.10/site-packages (from pandas->deepchem) (2025.2)\n",
            "Requirement already satisfied: six>=1.5 in /Users/sanskriti/miniconda3/envs/atomic/lib/python3.10/site-packages (from python-dateutil>=2.8.2->pandas->deepchem) (1.16.0)\n",
            "Requirement already satisfied: Pillow in /Users/sanskriti/miniconda3/envs/atomic/lib/python3.10/site-packages (from rdkit->deepchem) (11.3.0)\n",
            "Requirement already satisfied: threadpoolctl>=3.1.0 in /Users/sanskriti/miniconda3/envs/atomic/lib/python3.10/site-packages (from scikit-learn->deepchem) (3.6.0)\n",
            "Requirement already satisfied: mpmath<1.4,>=1.1.0 in /Users/sanskriti/miniconda3/envs/atomic/lib/python3.10/site-packages (from sympy->deepchem) (1.3.0)\n",
            "Using cached numpy-1.26.4-cp310-cp310-macosx_11_0_arm64.whl (14.0 MB)\n",
            "Installing collected packages: numpy\n",
            "  Attempting uninstall: numpy\n",
            "    Found existing installation: numpy 2.2.6\n",
            "    Uninstalling numpy-2.2.6:\n",
            "      Successfully uninstalled numpy-2.2.6\n",
            "\u001b[31mERROR: pip's dependency resolver does not currently take into account all the packages that are installed. This behaviour is the source of the following dependency conflicts.\n",
            "mdtraj 1.10.3 requires netCDF4, which is not installed.\n",
            "qiskit-machine-learning 0.8.3 requires numpy>=2.0, but you have numpy 1.26.4 which is incompatible.\u001b[0m\u001b[31m\n",
            "\u001b[0mSuccessfully installed numpy-1.26.4\n"
          ]
        },
        {
          "name": "stderr",
          "output_type": "stream",
          "text": [
            "No normalization for SPS. Feature removed!\n",
            "No normalization for AvgIpc. Feature removed!\n",
            "No normalization for NumAmideBonds. Feature removed!\n",
            "No normalization for NumAtomStereoCenters. Feature removed!\n",
            "No normalization for NumBridgeheadAtoms. Feature removed!\n",
            "No normalization for NumHeterocycles. Feature removed!\n",
            "No normalization for NumSpiroAtoms. Feature removed!\n",
            "No normalization for NumUnspecifiedAtomStereoCenters. Feature removed!\n",
            "No normalization for Phi. Feature removed!\n",
            "/Users/sanskriti/miniconda3/envs/atomic/lib/python3.10/site-packages/tqdm/auto.py:21: TqdmWarning: IProgress not found. Please update jupyter and ipywidgets. See https://ipywidgets.readthedocs.io/en/stable/user_install.html\n",
            "  from .autonotebook import tqdm as notebook_tqdm\n",
            "Skipped loading modules with pytorch-geometric dependency, missing a dependency. No module named 'torch_geometric'\n",
            "Skipped loading modules with pytorch-geometric dependency, missing a dependency. cannot import name 'DMPNN' from 'deepchem.models.torch_models' (/Users/sanskriti/miniconda3/envs/atomic/lib/python3.10/site-packages/deepchem/models/torch_models/__init__.py)\n",
            "Skipped loading modules with pytorch-lightning dependency, missing a dependency. No module named 'lightning'\n",
            "Skipped loading some Jax models, missing a dependency. No module named 'jax'\n"
          ]
        },
        {
          "data": {
            "text/plain": [
              "'2.8.1.dev'"
            ]
          },
          "execution_count": 2,
          "metadata": {},
          "output_type": "execute_result"
        }
      ],
      "source": [
        "!pip install --pre deepchem\n",
        "import deepchem\n",
        "deepchem.__version__"
      ]
    },
    {
      "cell_type": "code",
      "execution_count": 3,
      "metadata": {
        "id": "W1cCOOYXnB_L"
      },
      "outputs": [],
      "source": [
        " ##you need to use conda for tensorflow.in your terminal\n",
        "# conda install -c conda-forge tensorflow \n",
        "\n",
        "import deepchem as dc\n",
        "import os\n",
        "\n",
        "import numpy as np\n",
        "import tensorflow as tf\n",
        "\n",
        "import matplotlib.pyplot as plt\n",
        "\n",
        "from rdkit import Chem\n",
        "\n",
        "from deepchem.molnet import load_pdbbind\n",
        "from deepchem.models import AtomicConvModel\n",
        "from deepchem.feat import AtomicConvFeaturizer"
      ]
    },
    {
      "cell_type": "markdown",
      "metadata": {
        "id": "fACLMson_-vk"
      },
      "source": [
        "### Getting protein-ligand data\n",
        "If you worked through [Tutorial 13](https://github.com/deepchem/deepchem/blob/master/examples/tutorials/Modeling_Protein_Ligand_Interactions.ipynb) on modeling protein-ligand interactions, you'll already be familiar with how to obtain a set of data from PDBbind for training our model. Since we explored molecular complexes in detail in the [previous tutorial]((https://github.com/deepchem/deepchem/blob/master/examples/tutorials/Modeling_Protein_Ligand_Interactions.ipynb)), this time we'll simply initialize an `AtomicConvFeaturizer` and load the PDBbind dataset directly using MolNet."
      ]
    },
    {
      "cell_type": "code",
      "execution_count": 4,
      "metadata": {
        "id": "_qu5DlVa3aV3"
      },
      "outputs": [],
      "source": [
        "f1_num_atoms = 100  # maximum number of atoms to consider in the ligand\n",
        "f2_num_atoms = 1000  # maximum number of atoms to consider in the protein\n",
        "max_num_neighbors = 12  # maximum number of spatial neighbors for an atom\n",
        "\n",
        "acf = AtomicConvFeaturizer(frag1_num_atoms=f1_num_atoms,\n",
        "                      frag2_num_atoms=f2_num_atoms,\n",
        "                      complex_num_atoms=f1_num_atoms+f2_num_atoms,\n",
        "                      max_num_neighbors=max_num_neighbors,\n",
        "                      neighbor_cutoff=4)"
      ]
    },
    {
      "cell_type": "markdown",
      "metadata": {
        "id": "pyH9KUkvxlxk"
      },
      "source": [
        "`load_pdbbind` allows us to specify if we want to use the entire protein or only the binding pocket (`pocket=True`) for featurization. Using only the pocket saves memory and speeds up the featurization. We can also use the \"core\" dataset of ~200 high-quality complexes for rapidly testing our model, or the larger \"refined\" set of nearly 5000 complexes for more datapoints and more robust training/validation. On Colab, it takes only a minute to featurize the core PDBbind set! This is pretty incredible, and it means you can quickly experiment with different featurizations and model architectures."
      ]
    },
    {
      "cell_type": "code",
      "execution_count": 5,
      "metadata": {
        "colab": {
          "base_uri": "https://localhost:8080/"
        },
        "collapsed": true,
        "id": "Z9eyanh35qyj",
        "outputId": "fc3c6926-31d8-4f2f-9387-a96849f5d3c3"
      },
      "outputs": [
        {
          "name": "stderr",
          "output_type": "stream",
          "text": [
            "[23:08:35] Warning: molecule is tagged as 2D, but at least one Z coordinate is not zero. Marking the mol as 3D.\n",
            "[23:08:35] Warning: molecule is tagged as 2D, but at least one Z coordinate is not zero. Marking the mol as 3D.\n",
            "[23:08:36] Warning: molecule is tagged as 2D, but at least one Z coordinate is not zero. Marking the mol as 3D.\n",
            "[23:08:36] Warning: molecule is tagged as 2D, but at least one Z coordinate is not zero. Marking the mol as 3D.\n",
            "[23:08:36] Warning: molecule is tagged as 2D, but at least one Z coordinate is not zero. Marking the mol as 3D.\n",
            "[23:08:36] Warning: molecule is tagged as 2D, but at least one Z coordinate is not zero. Marking the mol as 3D.\n",
            "[23:08:36] Warning: molecule is tagged as 2D, but at least one Z coordinate is not zero. Marking the mol as 3D.\n",
            "[23:08:36] Warning: molecule is tagged as 2D, but at least one Z coordinate is not zero. Marking the mol as 3D.\n",
            "[23:08:36] Warning: molecule is tagged as 2D, but at least one Z coordinate is not zero. Marking the mol as 3D.\n",
            "[23:08:36] Warning: molecule is tagged as 2D, but at least one Z coordinate is not zero. Marking the mol as 3D.\n",
            "[23:08:36] Warning: molecule is tagged as 2D, but at least one Z coordinate is not zero. Marking the mol as 3D.\n",
            "[23:08:36] Warning: molecule is tagged as 2D, but at least one Z coordinate is not zero. Marking the mol as 3D.\n",
            "[23:08:36] Warning: molecule is tagged as 2D, but at least one Z coordinate is not zero. Marking the mol as 3D.\n",
            "[23:08:36] Warning: molecule is tagged as 2D, but at least one Z coordinate is not zero. Marking the mol as 3D.\n",
            "[23:08:36] Warning: molecule is tagged as 2D, but at least one Z coordinate is not zero. Marking the mol as 3D.\n",
            "[23:08:36] Warning: molecule is tagged as 2D, but at least one Z coordinate is not zero. Marking the mol as 3D.\n",
            "[23:08:36] Warning: molecule is tagged as 2D, but at least one Z coordinate is not zero. Marking the mol as 3D.\n",
            "[23:08:36] Warning: molecule is tagged as 2D, but at least one Z coordinate is not zero. Marking the mol as 3D.\n",
            "[23:08:37] Warning: molecule is tagged as 2D, but at least one Z coordinate is not zero. Marking the mol as 3D.\n",
            "[23:08:37] Warning: molecule is tagged as 2D, but at least one Z coordinate is not zero. Marking the mol as 3D.\n",
            "[23:08:37] Warning: molecule is tagged as 2D, but at least one Z coordinate is not zero. Marking the mol as 3D.\n",
            "[23:08:37] Warning: molecule is tagged as 2D, but at least one Z coordinate is not zero. Marking the mol as 3D.\n",
            "[23:08:37] Warning: molecule is tagged as 2D, but at least one Z coordinate is not zero. Marking the mol as 3D.\n",
            "[23:08:37] Warning: molecule is tagged as 2D, but at least one Z coordinate is not zero. Marking the mol as 3D.\n",
            "[23:08:37] Warning: molecule is tagged as 2D, but at least one Z coordinate is not zero. Marking the mol as 3D.\n",
            "[23:08:37] Warning: molecule is tagged as 2D, but at least one Z coordinate is not zero. Marking the mol as 3D.\n",
            "[23:08:37] Warning: molecule is tagged as 2D, but at least one Z coordinate is not zero. Marking the mol as 3D.\n",
            "[23:08:37] Warning: molecule is tagged as 2D, but at least one Z coordinate is not zero. Marking the mol as 3D.\n",
            "[23:08:37] Warning: molecule is tagged as 2D, but at least one Z coordinate is not zero. Marking the mol as 3D.\n",
            "[23:08:37] Warning: molecule is tagged as 2D, but at least one Z coordinate is not zero. Marking the mol as 3D.\n",
            "[23:08:37] Warning: molecule is tagged as 2D, but at least one Z coordinate is not zero. Marking the mol as 3D.\n",
            "[23:08:38] Warning: molecule is tagged as 2D, but at least one Z coordinate is not zero. Marking the mol as 3D.\n",
            "[23:08:38] Warning: molecule is tagged as 2D, but at least one Z coordinate is not zero. Marking the mol as 3D.\n",
            "[23:08:38] Warning: molecule is tagged as 2D, but at least one Z coordinate is not zero. Marking the mol as 3D.\n",
            "[23:08:38] Warning: molecule is tagged as 2D, but at least one Z coordinate is not zero. Marking the mol as 3D.\n",
            "[23:08:38] Warning: molecule is tagged as 2D, but at least one Z coordinate is not zero. Marking the mol as 3D.\n",
            "[23:08:38] Warning: molecule is tagged as 2D, but at least one Z coordinate is not zero. Marking the mol as 3D.\n",
            "[23:08:38] Warning: molecule is tagged as 2D, but at least one Z coordinate is not zero. Marking the mol as 3D.\n",
            "[23:08:38] Warning: molecule is tagged as 2D, but at least one Z coordinate is not zero. Marking the mol as 3D.\n",
            "[23:08:38] Warning: molecule is tagged as 2D, but at least one Z coordinate is not zero. Marking the mol as 3D.\n",
            "[23:08:38] Warning: molecule is tagged as 2D, but at least one Z coordinate is not zero. Marking the mol as 3D.\n",
            "[23:08:38] Warning: molecule is tagged as 2D, but at least one Z coordinate is not zero. Marking the mol as 3D.\n",
            "[23:08:38] Warning: molecule is tagged as 2D, but at least one Z coordinate is not zero. Marking the mol as 3D.\n",
            "[23:08:38] Warning: molecule is tagged as 2D, but at least one Z coordinate is not zero. Marking the mol as 3D.\n",
            "[23:08:38] Warning: molecule is tagged as 2D, but at least one Z coordinate is not zero. Marking the mol as 3D.\n",
            "[23:08:38] Warning: molecule is tagged as 2D, but at least one Z coordinate is not zero. Marking the mol as 3D.\n",
            "[23:08:38] Warning: molecule is tagged as 2D, but at least one Z coordinate is not zero. Marking the mol as 3D.\n",
            "[23:08:38] Warning: molecule is tagged as 2D, but at least one Z coordinate is not zero. Marking the mol as 3D.\n",
            "[23:08:38] Warning: molecule is tagged as 2D, but at least one Z coordinate is not zero. Marking the mol as 3D.\n",
            "[23:08:38] Warning: molecule is tagged as 2D, but at least one Z coordinate is not zero. Marking the mol as 3D.\n",
            "[23:08:38] Warning: molecule is tagged as 2D, but at least one Z coordinate is not zero. Marking the mol as 3D.\n",
            "[23:08:39] Warning: molecule is tagged as 2D, but at least one Z coordinate is not zero. Marking the mol as 3D.\n",
            "[23:08:39] Warning: molecule is tagged as 2D, but at least one Z coordinate is not zero. Marking the mol as 3D.\n",
            "[23:08:39] Warning: molecule is tagged as 2D, but at least one Z coordinate is not zero. Marking the mol as 3D.\n",
            "[23:08:39] Warning: molecule is tagged as 2D, but at least one Z coordinate is not zero. Marking the mol as 3D.\n",
            "[23:08:39] Warning: molecule is tagged as 2D, but at least one Z coordinate is not zero. Marking the mol as 3D.\n",
            "[23:08:39] Warning: molecule is tagged as 2D, but at least one Z coordinate is not zero. Marking the mol as 3D.\n",
            "[23:08:39] Warning: molecule is tagged as 2D, but at least one Z coordinate is not zero. Marking the mol as 3D.\n",
            "[23:08:39] Warning: molecule is tagged as 2D, but at least one Z coordinate is not zero. Marking the mol as 3D.\n",
            "[23:08:39] Warning: molecule is tagged as 2D, but at least one Z coordinate is not zero. Marking the mol as 3D.\n",
            "[23:08:39] Warning: molecule is tagged as 2D, but at least one Z coordinate is not zero. Marking the mol as 3D.\n",
            "[23:08:39] Warning: molecule is tagged as 2D, but at least one Z coordinate is not zero. Marking the mol as 3D.\n",
            "[23:08:39] Warning: molecule is tagged as 2D, but at least one Z coordinate is not zero. Marking the mol as 3D.\n",
            "[23:08:39] Warning: molecule is tagged as 2D, but at least one Z coordinate is not zero. Marking the mol as 3D.\n",
            "[23:08:40] Warning: molecule is tagged as 2D, but at least one Z coordinate is not zero. Marking the mol as 3D.\n",
            "[23:08:40] Warning: molecule is tagged as 2D, but at least one Z coordinate is not zero. Marking the mol as 3D.\n",
            "[23:08:40] Warning: molecule is tagged as 2D, but at least one Z coordinate is not zero. Marking the mol as 3D.\n",
            "[23:08:40] Warning: molecule is tagged as 2D, but at least one Z coordinate is not zero. Marking the mol as 3D.\n",
            "[23:08:40] Warning: molecule is tagged as 2D, but at least one Z coordinate is not zero. Marking the mol as 3D.\n",
            "[23:08:40] Warning: molecule is tagged as 2D, but at least one Z coordinate is not zero. Marking the mol as 3D.\n",
            "[23:08:40] Warning: molecule is tagged as 2D, but at least one Z coordinate is not zero. Marking the mol as 3D.\n",
            "[23:08:40] Warning: molecule is tagged as 2D, but at least one Z coordinate is not zero. Marking the mol as 3D.\n",
            "[23:08:40] Warning: molecule is tagged as 2D, but at least one Z coordinate is not zero. Marking the mol as 3D.\n",
            "[23:08:40] Warning: molecule is tagged as 2D, but at least one Z coordinate is not zero. Marking the mol as 3D.\n",
            "[23:08:40] Warning: molecule is tagged as 2D, but at least one Z coordinate is not zero. Marking the mol as 3D.\n",
            "[23:08:40] Warning: molecule is tagged as 2D, but at least one Z coordinate is not zero. Marking the mol as 3D.\n",
            "[23:08:40] Warning: molecule is tagged as 2D, but at least one Z coordinate is not zero. Marking the mol as 3D.\n",
            "[23:08:40] Warning: molecule is tagged as 2D, but at least one Z coordinate is not zero. Marking the mol as 3D.\n",
            "[23:08:40] Warning: molecule is tagged as 2D, but at least one Z coordinate is not zero. Marking the mol as 3D.\n",
            "[23:08:40] Warning: molecule is tagged as 2D, but at least one Z coordinate is not zero. Marking the mol as 3D.\n",
            "[23:08:41] Warning: molecule is tagged as 2D, but at least one Z coordinate is not zero. Marking the mol as 3D.\n",
            "[23:08:41] Warning: molecule is tagged as 2D, but at least one Z coordinate is not zero. Marking the mol as 3D.\n",
            "[23:08:41] Warning: molecule is tagged as 2D, but at least one Z coordinate is not zero. Marking the mol as 3D.\n",
            "[23:08:41] Warning: molecule is tagged as 2D, but at least one Z coordinate is not zero. Marking the mol as 3D.\n",
            "[23:08:41] Warning: molecule is tagged as 2D, but at least one Z coordinate is not zero. Marking the mol as 3D.\n",
            "[23:08:41] Warning: molecule is tagged as 2D, but at least one Z coordinate is not zero. Marking the mol as 3D.\n",
            "[23:08:41] Warning: molecule is tagged as 2D, but at least one Z coordinate is not zero. Marking the mol as 3D.\n",
            "[23:08:41] Warning: molecule is tagged as 2D, but at least one Z coordinate is not zero. Marking the mol as 3D.\n",
            "[23:08:41] Warning: molecule is tagged as 2D, but at least one Z coordinate is not zero. Marking the mol as 3D.\n",
            "[23:08:41] Warning: molecule is tagged as 2D, but at least one Z coordinate is not zero. Marking the mol as 3D.\n",
            "[23:08:41] Warning: molecule is tagged as 2D, but at least one Z coordinate is not zero. Marking the mol as 3D.\n",
            "[23:08:41] Warning: molecule is tagged as 2D, but at least one Z coordinate is not zero. Marking the mol as 3D.\n",
            "[23:08:41] Warning: molecule is tagged as 2D, but at least one Z coordinate is not zero. Marking the mol as 3D.\n",
            "[23:08:41] Warning: molecule is tagged as 2D, but at least one Z coordinate is not zero. Marking the mol as 3D.\n",
            "[23:08:41] Warning: molecule is tagged as 2D, but at least one Z coordinate is not zero. Marking the mol as 3D.\n",
            "[23:08:42] Warning: molecule is tagged as 2D, but at least one Z coordinate is not zero. Marking the mol as 3D.\n",
            "[23:08:42] Warning: molecule is tagged as 2D, but at least one Z coordinate is not zero. Marking the mol as 3D.\n",
            "[23:08:42] Warning: molecule is tagged as 2D, but at least one Z coordinate is not zero. Marking the mol as 3D.\n",
            "[23:08:42] Warning: molecule is tagged as 2D, but at least one Z coordinate is not zero. Marking the mol as 3D.\n",
            "[23:08:42] Warning: molecule is tagged as 2D, but at least one Z coordinate is not zero. Marking the mol as 3D.\n",
            "[23:08:42] Warning: molecule is tagged as 2D, but at least one Z coordinate is not zero. Marking the mol as 3D.\n",
            "[23:08:42] Warning: molecule is tagged as 2D, but at least one Z coordinate is not zero. Marking the mol as 3D.\n",
            "[23:08:42] Warning: molecule is tagged as 2D, but at least one Z coordinate is not zero. Marking the mol as 3D.\n",
            "[23:08:42] Warning: molecule is tagged as 2D, but at least one Z coordinate is not zero. Marking the mol as 3D.\n",
            "[23:08:42] Warning: molecule is tagged as 2D, but at least one Z coordinate is not zero. Marking the mol as 3D.\n",
            "[23:08:42] Warning: molecule is tagged as 2D, but at least one Z coordinate is not zero. Marking the mol as 3D.\n",
            "[23:08:42] Warning: molecule is tagged as 2D, but at least one Z coordinate is not zero. Marking the mol as 3D.\n",
            "[23:08:42] Warning: molecule is tagged as 2D, but at least one Z coordinate is not zero. Marking the mol as 3D.\n",
            "[23:08:42] Warning: molecule is tagged as 2D, but at least one Z coordinate is not zero. Marking the mol as 3D.\n",
            "[23:08:42] Warning: molecule is tagged as 2D, but at least one Z coordinate is not zero. Marking the mol as 3D.\n",
            "[23:08:42] Warning: molecule is tagged as 2D, but at least one Z coordinate is not zero. Marking the mol as 3D.\n",
            "[23:08:42] Warning: molecule is tagged as 2D, but at least one Z coordinate is not zero. Marking the mol as 3D.\n",
            "[23:08:43] Warning: molecule is tagged as 2D, but at least one Z coordinate is not zero. Marking the mol as 3D.\n",
            "[23:08:43] Warning: molecule is tagged as 2D, but at least one Z coordinate is not zero. Marking the mol as 3D.\n",
            "[23:08:43] Warning: molecule is tagged as 2D, but at least one Z coordinate is not zero. Marking the mol as 3D.\n",
            "[23:08:43] Warning: molecule is tagged as 2D, but at least one Z coordinate is not zero. Marking the mol as 3D.\n",
            "[23:08:43] Warning: molecule is tagged as 2D, but at least one Z coordinate is not zero. Marking the mol as 3D.\n",
            "[23:08:43] Warning: molecule is tagged as 2D, but at least one Z coordinate is not zero. Marking the mol as 3D.\n",
            "[23:08:43] Warning: molecule is tagged as 2D, but at least one Z coordinate is not zero. Marking the mol as 3D.\n",
            "[23:08:43] Warning: molecule is tagged as 2D, but at least one Z coordinate is not zero. Marking the mol as 3D.\n",
            "[23:08:43] Warning: molecule is tagged as 2D, but at least one Z coordinate is not zero. Marking the mol as 3D.\n",
            "[23:08:43] Warning: molecule is tagged as 2D, but at least one Z coordinate is not zero. Marking the mol as 3D.\n",
            "[23:08:43] Warning: molecule is tagged as 2D, but at least one Z coordinate is not zero. Marking the mol as 3D.\n",
            "[23:08:43] Warning: molecule is tagged as 2D, but at least one Z coordinate is not zero. Marking the mol as 3D.\n",
            "[23:08:43] Warning: molecule is tagged as 2D, but at least one Z coordinate is not zero. Marking the mol as 3D.\n",
            "[23:08:43] Warning: molecule is tagged as 2D, but at least one Z coordinate is not zero. Marking the mol as 3D.\n",
            "[23:08:43] Warning: molecule is tagged as 2D, but at least one Z coordinate is not zero. Marking the mol as 3D.\n",
            "[23:08:44] Warning: molecule is tagged as 2D, but at least one Z coordinate is not zero. Marking the mol as 3D.\n",
            "[23:08:44] Warning: molecule is tagged as 2D, but at least one Z coordinate is not zero. Marking the mol as 3D.\n",
            "[23:08:44] Warning: molecule is tagged as 2D, but at least one Z coordinate is not zero. Marking the mol as 3D.\n",
            "[23:08:44] Warning: molecule is tagged as 2D, but at least one Z coordinate is not zero. Marking the mol as 3D.\n",
            "[23:08:44] Warning: molecule is tagged as 2D, but at least one Z coordinate is not zero. Marking the mol as 3D.\n",
            "[23:08:44] Warning: molecule is tagged as 2D, but at least one Z coordinate is not zero. Marking the mol as 3D.\n",
            "[23:08:44] Warning: molecule is tagged as 2D, but at least one Z coordinate is not zero. Marking the mol as 3D.\n",
            "[23:08:44] Warning: molecule is tagged as 2D, but at least one Z coordinate is not zero. Marking the mol as 3D.\n",
            "[23:08:44] Warning: molecule is tagged as 2D, but at least one Z coordinate is not zero. Marking the mol as 3D.\n",
            "[23:08:44] Warning: molecule is tagged as 2D, but at least one Z coordinate is not zero. Marking the mol as 3D.\n",
            "[23:08:44] Warning: molecule is tagged as 2D, but at least one Z coordinate is not zero. Marking the mol as 3D.\n",
            "[23:08:44] Warning: molecule is tagged as 2D, but at least one Z coordinate is not zero. Marking the mol as 3D.\n",
            "[23:08:44] Warning: molecule is tagged as 2D, but at least one Z coordinate is not zero. Marking the mol as 3D.\n",
            "[23:08:44] Warning: molecule is tagged as 2D, but at least one Z coordinate is not zero. Marking the mol as 3D.\n",
            "[23:08:44] Warning: molecule is tagged as 2D, but at least one Z coordinate is not zero. Marking the mol as 3D.\n",
            "[23:08:44] Warning: molecule is tagged as 2D, but at least one Z coordinate is not zero. Marking the mol as 3D.\n",
            "[23:08:45] Warning: molecule is tagged as 2D, but at least one Z coordinate is not zero. Marking the mol as 3D.\n",
            "[23:08:45] Warning: molecule is tagged as 2D, but at least one Z coordinate is not zero. Marking the mol as 3D.\n",
            "[23:08:45] Warning: molecule is tagged as 2D, but at least one Z coordinate is not zero. Marking the mol as 3D.\n",
            "[23:08:45] Warning: molecule is tagged as 2D, but at least one Z coordinate is not zero. Marking the mol as 3D.\n",
            "[23:08:45] Warning: molecule is tagged as 2D, but at least one Z coordinate is not zero. Marking the mol as 3D.\n",
            "[23:08:45] Warning: molecule is tagged as 2D, but at least one Z coordinate is not zero. Marking the mol as 3D.\n",
            "[23:08:45] Warning: molecule is tagged as 2D, but at least one Z coordinate is not zero. Marking the mol as 3D.\n",
            "[23:08:45] Warning: molecule is tagged as 2D, but at least one Z coordinate is not zero. Marking the mol as 3D.\n",
            "[23:08:45] Warning: molecule is tagged as 2D, but at least one Z coordinate is not zero. Marking the mol as 3D.\n",
            "[23:08:45] Warning: molecule is tagged as 2D, but at least one Z coordinate is not zero. Marking the mol as 3D.\n",
            "[23:08:45] Warning: molecule is tagged as 2D, but at least one Z coordinate is not zero. Marking the mol as 3D.\n",
            "[23:08:45] Warning: molecule is tagged as 2D, but at least one Z coordinate is not zero. Marking the mol as 3D.\n",
            "[23:08:45] Warning: molecule is tagged as 2D, but at least one Z coordinate is not zero. Marking the mol as 3D.\n",
            "[23:08:45] Warning: molecule is tagged as 2D, but at least one Z coordinate is not zero. Marking the mol as 3D.\n",
            "[23:08:46] Warning: molecule is tagged as 2D, but at least one Z coordinate is not zero. Marking the mol as 3D.\n",
            "[23:08:46] Warning: molecule is tagged as 2D, but at least one Z coordinate is not zero. Marking the mol as 3D.\n",
            "[23:08:46] Warning: molecule is tagged as 2D, but at least one Z coordinate is not zero. Marking the mol as 3D.\n",
            "[23:08:46] Warning: molecule is tagged as 2D, but at least one Z coordinate is not zero. Marking the mol as 3D.\n",
            "[23:08:46] Warning: molecule is tagged as 2D, but at least one Z coordinate is not zero. Marking the mol as 3D.\n",
            "[23:08:46] Warning: molecule is tagged as 2D, but at least one Z coordinate is not zero. Marking the mol as 3D.\n",
            "[23:08:46] Warning: molecule is tagged as 2D, but at least one Z coordinate is not zero. Marking the mol as 3D.\n",
            "[23:08:46] Warning: molecule is tagged as 2D, but at least one Z coordinate is not zero. Marking the mol as 3D.\n",
            "[23:08:46] Warning: molecule is tagged as 2D, but at least one Z coordinate is not zero. Marking the mol as 3D.\n",
            "[23:08:46] Warning: molecule is tagged as 2D, but at least one Z coordinate is not zero. Marking the mol as 3D.\n",
            "[23:08:46] Warning: molecule is tagged as 2D, but at least one Z coordinate is not zero. Marking the mol as 3D.\n",
            "[23:08:46] Warning: molecule is tagged as 2D, but at least one Z coordinate is not zero. Marking the mol as 3D.\n",
            "[23:08:46] Warning: molecule is tagged as 2D, but at least one Z coordinate is not zero. Marking the mol as 3D.\n",
            "[23:08:46] Warning: molecule is tagged as 2D, but at least one Z coordinate is not zero. Marking the mol as 3D.\n",
            "[23:08:46] Warning: molecule is tagged as 2D, but at least one Z coordinate is not zero. Marking the mol as 3D.\n",
            "[23:08:46] Warning: molecule is tagged as 2D, but at least one Z coordinate is not zero. Marking the mol as 3D.\n",
            "[23:08:46] Warning: molecule is tagged as 2D, but at least one Z coordinate is not zero. Marking the mol as 3D.\n",
            "[23:08:46] Warning: molecule is tagged as 2D, but at least one Z coordinate is not zero. Marking the mol as 3D.\n",
            "[23:08:46] Warning: molecule is tagged as 2D, but at least one Z coordinate is not zero. Marking the mol as 3D.\n",
            "[23:08:47] Warning: molecule is tagged as 2D, but at least one Z coordinate is not zero. Marking the mol as 3D.\n",
            "[23:08:47] Warning: molecule is tagged as 2D, but at least one Z coordinate is not zero. Marking the mol as 3D.\n",
            "[23:08:47] Warning: molecule is tagged as 2D, but at least one Z coordinate is not zero. Marking the mol as 3D.\n",
            "[23:08:47] Warning: molecule is tagged as 2D, but at least one Z coordinate is not zero. Marking the mol as 3D.\n",
            "[23:08:47] Warning: molecule is tagged as 2D, but at least one Z coordinate is not zero. Marking the mol as 3D.\n",
            "[23:08:47] Warning: molecule is tagged as 2D, but at least one Z coordinate is not zero. Marking the mol as 3D.\n",
            "[23:08:47] Warning: molecule is tagged as 2D, but at least one Z coordinate is not zero. Marking the mol as 3D.\n",
            "[23:08:47] Warning: molecule is tagged as 2D, but at least one Z coordinate is not zero. Marking the mol as 3D.\n",
            "[23:08:47] Warning: molecule is tagged as 2D, but at least one Z coordinate is not zero. Marking the mol as 3D.\n",
            "[23:08:47] Warning: molecule is tagged as 2D, but at least one Z coordinate is not zero. Marking the mol as 3D.\n",
            "[23:08:47] Warning: molecule is tagged as 2D, but at least one Z coordinate is not zero. Marking the mol as 3D.\n",
            "[23:08:47] Warning: molecule is tagged as 2D, but at least one Z coordinate is not zero. Marking the mol as 3D.\n",
            "[23:08:47] Warning: molecule is tagged as 2D, but at least one Z coordinate is not zero. Marking the mol as 3D.\n",
            "[23:08:48] Warning: molecule is tagged as 2D, but at least one Z coordinate is not zero. Marking the mol as 3D.\n",
            "[23:08:48] Warning: molecule is tagged as 2D, but at least one Z coordinate is not zero. Marking the mol as 3D.\n",
            "[23:08:48] Warning: molecule is tagged as 2D, but at least one Z coordinate is not zero. Marking the mol as 3D.\n",
            "[23:08:48] Warning: molecule is tagged as 2D, but at least one Z coordinate is not zero. Marking the mol as 3D.\n"
          ]
        },
        {
          "name": "stdout",
          "output_type": "stream",
          "text": [
            "CPU times: user 17.7 s, sys: 2.95 s, total: 20.6 s\n",
            "Wall time: 19.7 s\n"
          ]
        }
      ],
      "source": [
        "%%time\n",
        "tasks, datasets, transformers = load_pdbbind(featurizer=acf,\n",
        "                                             save_dir='.',\n",
        "                                             data_dir='.',\n",
        "                                             pocket=True,\n",
        "                                             reload=False,\n",
        "                                             set_name='core')"
      ]
    },
    {
      "cell_type": "markdown",
      "metadata": {
        "id": "ICHLickSRouF",
        "tags": []
      },
      "source": [
        "Unfortunately, if you try to use the \"refined\" dataset, there are some complexes that cannot be featurized. To resolve this issue, rather than increasing `complex_num_atoms`, simply omit the lines of the dataset that have an `x` value of `None`"
      ]
    },
    {
      "cell_type": "code",
      "execution_count": 6,
      "metadata": {
        "id": "8XFZ9JutRouG"
      },
      "outputs": [],
      "source": [
        "class MyTransformer(dc.trans.Transformer):\n",
        "  def transform_array(x, y, w, ids):\n",
        "    kept_rows = np.array([xi is not None for xi in x])\n",
        "    return x[kept_rows], y[kept_rows], w[kept_rows], ids[kept_rows]\n",
        "\n",
        "datasets = [d.transform(MyTransformer) for d in datasets]"
      ]
    },
    {
      "cell_type": "code",
      "execution_count": 7,
      "metadata": {
        "id": "EaGn9UbwEdyY"
      },
      "outputs": [
        {
          "data": {
            "text/plain": [
              "[<DiskDataset X.shape: (154, 9), y.shape: (154,), w.shape: (154,), ids: ['3uo4' '2jdm' '1jyq' ... '3l4w' '2cbj' '3f80'], task_names: [0]>,\n",
              " <DiskDataset X.shape: (19, 9), y.shape: (19,), w.shape: (19,), ids: ['1lbk' '2obf' '1f8c' ... '2p4y' '3g0w' '3nox'], task_names: [0]>,\n",
              " <DiskDataset X.shape: (20, 9), y.shape: (20,), w.shape: (20,), ids: ['2yge' '1q8u' '1w3l' ... '1p1q' '2x97' '1oyt'], task_names: [0]>]"
            ]
          },
          "execution_count": 7,
          "metadata": {},
          "output_type": "execute_result"
        }
      ],
      "source": [
        "datasets"
      ]
    },
    {
      "cell_type": "code",
      "execution_count": 8,
      "metadata": {
        "id": "PQq0lkWIfVoE"
      },
      "outputs": [],
      "source": [
        "train, val, test = datasets"
      ]
    },
    {
      "cell_type": "code",
      "execution_count": 9,
      "metadata": {},
      "outputs": [
        {
          "name": "stdout",
          "output_type": "stream",
          "text": [
            "/Users/sanskriti/miniconda3/envs/atomic/lib/python3.10/site-packages/deepchem/models/atomic_conv.py\n"
          ]
        }
      ],
      "source": [
        "## remember to do this in terminal: pip install --upgrade git+https://github.com/deepchem/deepchem.git\n",
        "import deepchem\n",
        "print(deepchem.models.atomic_conv.__file__)"
      ]
    },
    {
      "cell_type": "code",
      "execution_count": 10,
      "metadata": {},
      "outputs": [],
      "source": [
        "from deepchem.models import AtomicConvModel\n",
        "\n",
        "model = AtomicConvModel(\n",
        "    n_tasks=1,\n",
        "    frag1_num_atoms=70,\n",
        "    frag2_num_atoms=60,\n",
        "    complex_num_atoms=130,\n",
        "    max_num_neighbors=4,\n",
        "    batch_size=4,\n",
        "    layer_sizes=[32, 32, 16],\n",
        "    learning_rate=0.001\n",
        ")\n"
      ]
    },
    {
      "cell_type": "markdown",
      "metadata": {
        "id": "GNilV3VXnB_j"
      },
      "source": [
        "### Training the model"
      ]
    },
    {
      "cell_type": "markdown",
      "metadata": {
        "id": "WufupHBPnB_k"
      },
      "source": [
        "Now that we've got our dataset, let's go ahead and initialize an `AtomicConvModel` to train. Keep the input parameters the same as those used in `AtomicConvFeaturizer`, or else we'll get errors. `layer_sizes` controls the number of layers and the size of each dense layer in the network. We choose these hyperparameters to be the same as those used in the [original paper](https://arxiv.org/pdf/1703.10603.pdf)."
      ]
    },
    {
      "cell_type": "code",
      "execution_count": 11,
      "metadata": {
        "id": "ErBNNGH55-_B"
      },
      "outputs": [],
      "source": [
        "acm = AtomicConvModel(n_tasks=1,\n",
        "                      frag1_num_atoms=f1_num_atoms,\n",
        "                      frag2_num_atoms=f2_num_atoms,\n",
        "                      complex_num_atoms=f1_num_atoms+f2_num_atoms,\n",
        "                      max_num_neighbors=max_num_neighbors,\n",
        "                      batch_size=12,\n",
        "                      layer_sizes=[32, 32, 16],\n",
        "                      learning_rate=0.003,\n",
        "                      )"
      ]
    },
    {
      "cell_type": "code",
      "execution_count": 12,
      "metadata": {
        "id": "4cNdP1b1hEQM"
      },
      "outputs": [],
      "source": [
        "losses, val_losses = [], []"
      ]
    },
    {
      "cell_type": "code",
      "execution_count": 34,
      "metadata": {},
      "outputs": [
        {
          "name": "stdout",
          "output_type": "stream",
          "text": [
            "CPU times: user 21min 44s, sys: 20min 31s, total: 42min 15s\n",
            "Wall time: 5min 11s\n"
          ]
        },
        {
          "data": {
            "text/plain": [
              "0.4295252215477728"
            ]
          },
          "execution_count": 34,
          "metadata": {},
          "output_type": "execute_result"
        }
      ],
      "source": [
        "# %%time\n",
        "# max_epochs = 50\n",
        "\n",
        "# metric = dc.metrics.Metric(dc.metrics.score_function.rms_score)\n",
        "# step_cutoff = len(train)//12\n",
        "# def val_cb(model, step):\n",
        "#   if step%step_cutoff!=0:\n",
        "#       return\n",
        "#   val_losses.append(model.evaluate(val, metrics=[metric])['rms_score']**2)  # L2 Loss\n",
        "#   losses.append(model.evaluate(train, metrics=[metric])['rms_score']**2)  # L2 Loss\n",
        "\n",
        "# acm.fit(train, nb_epoch=max_epochs, max_checkpoints_to_keep=1,\n",
        "#                 callbacks=[val_cb])"
      ]
    },
    {
      "cell_type": "code",
      "execution_count": null,
      "metadata": {},
      "outputs": [],
      "source": [
        "# %%time\n",
        "# max_epochs = 50\n",
        "\n",
        "# val_losses = []\n",
        "# losses = []\n",
        "# step_cutoff = len(train) // 12\n",
        "\n",
        "# def val_cb(model, step):\n",
        "#     # Only print every step_cutoff steps\n",
        "#     if step % step_cutoff != 0:\n",
        "#         return\n",
        "#     epoch = step // step_cutoff\n",
        "#     train_loss = model.evaluate(train, metrics=[metric])['rms_score']**2\n",
        "#     val_loss = model.evaluate(val, metrics=[metric])['rms_score']**2\n",
        "#     losses.append(train_loss)\n",
        "#     val_losses.append(val_loss)\n",
        "#     print(f\"Epoch {epoch}/{max_epochs}: Train Loss (L2) = {train_loss:.4f}, Val Loss (L2) = {val_loss:.4f}\")\n",
        "# acm.fit(train, nb_epoch=max_epochs, max_checkpoints_to_keep=1,\n",
        "#                 callbacks=[val_cb])"
      ]
    },
    {
      "cell_type": "markdown",
      "metadata": {
        "id": "aTFdba_KDDUQ"
      },
      "source": [
        "The loss curves are not exactly smooth, which is unsurprising because we are using 154 training and 19 validation datapoints. Increasing the dataset size may help with this, but will also require greater computational resources."
      ]
    },
    {
      "cell_type": "code",
      "execution_count": 35,
      "metadata": {
        "id": "pn4QWM1bizw0"
      },
      "outputs": [
        {
          "data": {
            "image/png": "[encoded data removed]",
            "text/plain": [
              "<Figure size 640x480 with 1 Axes>"
            ]
          },
          "metadata": {},
          "output_type": "display_data"
        }
      ],
      "source": [
        "f, ax = plt.subplots()\n",
        "ax.scatter(range(len(losses)), losses, label='train loss')\n",
        "ax.scatter(range(len(val_losses)), val_losses, label='val loss')\n",
        "plt.legend(loc='upper right');"
      ]
    },
    {
      "cell_type": "markdown",
      "metadata": {
        "id": "KzGW3ztODYzV"
      },
      "source": [
        "The [ACNN paper](https://arxiv.org/pdf/1703.10603.pdf) showed a Pearson $R^2$ score of 0.912 and 0.448 for a random 80/20 split of the PDBbind core train/test sets. Here, we've used an 80/10/10 training/validation/test split and achieved similar performance for the training set (0.943). We can see from the performance on the training, validation, and test sets (and from the results in the paper) that the ACNN can learn chemical interactions from small training datasets, but struggles to generalize. Still, it is pretty amazing that we can train an `AtomicConvModel` with only a few lines of code and start predicting binding affinities!  \n",
        "From here, you can experiment with different hyperparameters, more challenging splits, and the \"refined\" set of PDBbind to see if you can reduce overfitting and come up with a more robust model."
      ]
    },
    {
      "cell_type": "code",
      "execution_count": 36,
      "metadata": {
        "id": "VcDLwf-20tci"
      },
      "outputs": [
        {
          "name": "stdout",
          "output_type": "stream",
          "text": [
            "train {'pearson_r2_score': 0.9334718872066573}\n",
            "val {'pearson_r2_score': 0.492220227105845}\n",
            "test {'pearson_r2_score': 0.3820186925594279}\n"
          ]
        }
      ],
      "source": [
        "score = dc.metrics.Metric(dc.metrics.score_function.pearson_r2_score)\n",
        "for tvt, ds in zip(['train', 'val', 'test'], datasets):\n",
        "  print(tvt, acm.evaluate(ds, metrics=[score]))"
      ]
    },
    {
      "cell_type": "code",
      "execution_count": null,
      "metadata": {},
      "outputs": [
        {
          "name": "stdout",
          "output_type": "stream",
          "text": [
            "Actual: 1.0371, Predicted: 0.4835\n",
            "Actual: 2.1097, Predicted: 1.3458\n",
            "Actual: -0.4690, Predicted: -0.6806\n",
            "Actual: -0.3027, Predicted: 0.4518\n",
            "Actual: -0.0706, Predicted: 0.0807\n",
            "Actual: 0.2359, Predicted: 0.3877\n",
            "Actual: -0.3289, Predicted: 1.0871\n",
            "Actual: -1.7781, Predicted: -0.9164\n",
            "Actual: -0.2458, Predicted: -0.1711\n",
            "Actual: 0.7131, Predicted: 0.4641\n"
          ]
        }
      ],
      "source": [
        "import numpy as np\n",
        "\n",
        "predicted = acm.predict(val)  # shape: (n_samples, 1)\n",
        "actual = val.y  # shape: (n_samples,)\n",
        "\n",
        "# Flatten predictions if needed\n",
        "predicted = predicted.flatten()\n",
        "\n",
        "# Display a few values\n",
        "for i in range(min(10, len(actual))):\n",
        "    print(f\"Actual: {actual[i]:.4f}, Predicted: {predicted[i]:.4f}\")\n"
      ]
    },
    {
      "cell_type": "markdown",
      "metadata": {
        "id": "FrIO9CSgAHlz"
      },
      "source": [
        "### Further reading\n",
        "We have explored the ACNN architecture and used the PDBbind dataset to train an ACNN to predict protein-ligand binding energies. For more information, read the original paper that introduced ACNNs: Gomes, Joseph, et al. \"Atomic convolutional networks for predicting protein-ligand binding affinity.\" [arXiv preprint arXiv:1703.10603](https://arxiv.org/abs/1703.10603) (2017). There are many other methods and papers on predicting binding affinities. Here are a few interesting ones to check out: predictions using [only ligands or proteins](https://www.frontiersin.org/articles/10.3389/fphar.2020.00069/full), [molecular docking with deep learning](https://chemrxiv.org/articles/preprint/GNINA_1_0_Molecular_Docking_with_Deep_Learning/13578140), and [AtomNet](https://arxiv.org/abs/1510.02855)."
      ]
    },
    {
      "cell_type": "code",
      "execution_count": 37,
      "metadata": {},
      "outputs": [],
      "source": [
        "from qiskit.primitives import Estimator, Sampler\n",
        "from qiskit_machine_learning.algorithms import VQR\n"
      ]
    },
    {
      "cell_type": "markdown",
      "metadata": {
        "id": "SnHDnYuYR_Q4"
      },
      "source": [
        "## Quantum stuff"
      ]
    },
    {
      "cell_type": "code",
      "execution_count": 38,
      "metadata": {},
      "outputs": [
        {
          "name": "stderr",
          "output_type": "stream",
          "text": [
            "[23:34:26] Warning: molecule is tagged as 2D, but at least one Z coordinate is not zero. Marking the mol as 3D.\n",
            "[23:34:26] Warning: molecule is tagged as 2D, but at least one Z coordinate is not zero. Marking the mol as 3D.\n",
            "[23:34:26] Warning: molecule is tagged as 2D, but at least one Z coordinate is not zero. Marking the mol as 3D.\n",
            "[23:34:26] Warning: molecule is tagged as 2D, but at least one Z coordinate is not zero. Marking the mol as 3D.\n",
            "[23:34:26] Warning: molecule is tagged as 2D, but at least one Z coordinate is not zero. Marking the mol as 3D.\n",
            "[23:34:26] Warning: molecule is tagged as 2D, but at least one Z coordinate is not zero. Marking the mol as 3D.\n",
            "[23:34:26] Warning: molecule is tagged as 2D, but at least one Z coordinate is not zero. Marking the mol as 3D.\n",
            "[23:34:26] Warning: molecule is tagged as 2D, but at least one Z coordinate is not zero. Marking the mol as 3D.\n",
            "[23:34:27] Warning: molecule is tagged as 2D, but at least one Z coordinate is not zero. Marking the mol as 3D.\n",
            "[23:34:27] Warning: molecule is tagged as 2D, but at least one Z coordinate is not zero. Marking the mol as 3D.\n",
            "[23:34:27] Warning: molecule is tagged as 2D, but at least one Z coordinate is not zero. Marking the mol as 3D.\n",
            "[23:34:27] Warning: molecule is tagged as 2D, but at least one Z coordinate is not zero. Marking the mol as 3D.\n",
            "[23:34:27] Warning: molecule is tagged as 2D, but at least one Z coordinate is not zero. Marking the mol as 3D.\n",
            "[23:34:27] Warning: molecule is tagged as 2D, but at least one Z coordinate is not zero. Marking the mol as 3D.\n",
            "[23:34:27] Warning: molecule is tagged as 2D, but at least one Z coordinate is not zero. Marking the mol as 3D.\n",
            "[23:34:27] Warning: molecule is tagged as 2D, but at least one Z coordinate is not zero. Marking the mol as 3D.\n",
            "[23:34:27] Warning: molecule is tagged as 2D, but at least one Z coordinate is not zero. Marking the mol as 3D.\n",
            "[23:34:27] Warning: molecule is tagged as 2D, but at least one Z coordinate is not zero. Marking the mol as 3D.\n",
            "[23:34:27] Warning: molecule is tagged as 2D, but at least one Z coordinate is not zero. Marking the mol as 3D.\n",
            "[23:34:27] Warning: molecule is tagged as 2D, but at least one Z coordinate is not zero. Marking the mol as 3D.\n",
            "[23:34:27] Warning: molecule is tagged as 2D, but at least one Z coordinate is not zero. Marking the mol as 3D.\n",
            "[23:34:27] Warning: molecule is tagged as 2D, but at least one Z coordinate is not zero. Marking the mol as 3D.\n",
            "[23:34:28] Warning: molecule is tagged as 2D, but at least one Z coordinate is not zero. Marking the mol as 3D.\n",
            "[23:34:28] Warning: molecule is tagged as 2D, but at least one Z coordinate is not zero. Marking the mol as 3D.\n",
            "[23:34:28] Warning: molecule is tagged as 2D, but at least one Z coordinate is not zero. Marking the mol as 3D.\n",
            "[23:34:28] Warning: molecule is tagged as 2D, but at least one Z coordinate is not zero. Marking the mol as 3D.\n",
            "[23:34:28] Warning: molecule is tagged as 2D, but at least one Z coordinate is not zero. Marking the mol as 3D.\n",
            "[23:34:28] Warning: molecule is tagged as 2D, but at least one Z coordinate is not zero. Marking the mol as 3D.\n",
            "[23:34:28] Warning: molecule is tagged as 2D, but at least one Z coordinate is not zero. Marking the mol as 3D.\n",
            "[23:34:28] Warning: molecule is tagged as 2D, but at least one Z coordinate is not zero. Marking the mol as 3D.\n",
            "[23:34:28] Warning: molecule is tagged as 2D, but at least one Z coordinate is not zero. Marking the mol as 3D.\n",
            "[23:34:28] Warning: molecule is tagged as 2D, but at least one Z coordinate is not zero. Marking the mol as 3D.\n",
            "[23:34:28] Warning: molecule is tagged as 2D, but at least one Z coordinate is not zero. Marking the mol as 3D.\n",
            "[23:34:28] Warning: molecule is tagged as 2D, but at least one Z coordinate is not zero. Marking the mol as 3D.\n",
            "[23:34:29] Warning: molecule is tagged as 2D, but at least one Z coordinate is not zero. Marking the mol as 3D.\n",
            "[23:34:29] Warning: molecule is tagged as 2D, but at least one Z coordinate is not zero. Marking the mol as 3D.\n",
            "[23:34:29] Warning: molecule is tagged as 2D, but at least one Z coordinate is not zero. Marking the mol as 3D.\n",
            "[23:34:29] Warning: molecule is tagged as 2D, but at least one Z coordinate is not zero. Marking the mol as 3D.\n",
            "[23:34:29] Warning: molecule is tagged as 2D, but at least one Z coordinate is not zero. Marking the mol as 3D.\n",
            "[23:34:29] Warning: molecule is tagged as 2D, but at least one Z coordinate is not zero. Marking the mol as 3D.\n",
            "[23:34:29] Warning: molecule is tagged as 2D, but at least one Z coordinate is not zero. Marking the mol as 3D.\n",
            "[23:34:29] Warning: molecule is tagged as 2D, but at least one Z coordinate is not zero. Marking the mol as 3D.\n",
            "[23:34:29] Warning: molecule is tagged as 2D, but at least one Z coordinate is not zero. Marking the mol as 3D.\n",
            "[23:34:29] Warning: molecule is tagged as 2D, but at least one Z coordinate is not zero. Marking the mol as 3D.\n",
            "[23:34:29] Warning: molecule is tagged as 2D, but at least one Z coordinate is not zero. Marking the mol as 3D.\n",
            "[23:34:29] Warning: molecule is tagged as 2D, but at least one Z coordinate is not zero. Marking the mol as 3D.\n",
            "[23:34:29] Warning: molecule is tagged as 2D, but at least one Z coordinate is not zero. Marking the mol as 3D.\n",
            "[23:34:29] Warning: molecule is tagged as 2D, but at least one Z coordinate is not zero. Marking the mol as 3D.\n",
            "[23:34:29] Warning: molecule is tagged as 2D, but at least one Z coordinate is not zero. Marking the mol as 3D.\n",
            "[23:34:29] Warning: molecule is tagged as 2D, but at least one Z coordinate is not zero. Marking the mol as 3D.\n",
            "[23:34:29] Warning: molecule is tagged as 2D, but at least one Z coordinate is not zero. Marking the mol as 3D.\n",
            "[23:34:30] Warning: molecule is tagged as 2D, but at least one Z coordinate is not zero. Marking the mol as 3D.\n",
            "[23:34:30] Warning: molecule is tagged as 2D, but at least one Z coordinate is not zero. Marking the mol as 3D.\n",
            "[23:34:30] Warning: molecule is tagged as 2D, but at least one Z coordinate is not zero. Marking the mol as 3D.\n",
            "[23:34:30] Warning: molecule is tagged as 2D, but at least one Z coordinate is not zero. Marking the mol as 3D.\n",
            "[23:34:30] Warning: molecule is tagged as 2D, but at least one Z coordinate is not zero. Marking the mol as 3D.\n",
            "[23:34:30] Warning: molecule is tagged as 2D, but at least one Z coordinate is not zero. Marking the mol as 3D.\n",
            "[23:34:30] Warning: molecule is tagged as 2D, but at least one Z coordinate is not zero. Marking the mol as 3D.\n",
            "[23:34:30] Warning: molecule is tagged as 2D, but at least one Z coordinate is not zero. Marking the mol as 3D.\n",
            "[23:34:30] Warning: molecule is tagged as 2D, but at least one Z coordinate is not zero. Marking the mol as 3D.\n",
            "[23:34:30] Warning: molecule is tagged as 2D, but at least one Z coordinate is not zero. Marking the mol as 3D.\n",
            "[23:34:30] Warning: molecule is tagged as 2D, but at least one Z coordinate is not zero. Marking the mol as 3D.\n",
            "[23:34:30] Warning: molecule is tagged as 2D, but at least one Z coordinate is not zero. Marking the mol as 3D.\n",
            "[23:34:30] Warning: molecule is tagged as 2D, but at least one Z coordinate is not zero. Marking the mol as 3D.\n",
            "[23:34:30] Warning: molecule is tagged as 2D, but at least one Z coordinate is not zero. Marking the mol as 3D.\n",
            "[23:34:31] Warning: molecule is tagged as 2D, but at least one Z coordinate is not zero. Marking the mol as 3D.\n",
            "[23:34:31] Warning: molecule is tagged as 2D, but at least one Z coordinate is not zero. Marking the mol as 3D.\n",
            "[23:34:31] Warning: molecule is tagged as 2D, but at least one Z coordinate is not zero. Marking the mol as 3D.\n",
            "[23:34:31] Warning: molecule is tagged as 2D, but at least one Z coordinate is not zero. Marking the mol as 3D.\n",
            "[23:34:31] Warning: molecule is tagged as 2D, but at least one Z coordinate is not zero. Marking the mol as 3D.\n",
            "[23:34:31] Warning: molecule is tagged as 2D, but at least one Z coordinate is not zero. Marking the mol as 3D.\n",
            "[23:34:31] Warning: molecule is tagged as 2D, but at least one Z coordinate is not zero. Marking the mol as 3D.\n",
            "[23:34:31] Warning: molecule is tagged as 2D, but at least one Z coordinate is not zero. Marking the mol as 3D.\n",
            "[23:34:31] Warning: molecule is tagged as 2D, but at least one Z coordinate is not zero. Marking the mol as 3D.\n",
            "[23:34:31] Warning: molecule is tagged as 2D, but at least one Z coordinate is not zero. Marking the mol as 3D.\n",
            "[23:34:31] Warning: molecule is tagged as 2D, but at least one Z coordinate is not zero. Marking the mol as 3D.\n",
            "[23:34:31] Warning: molecule is tagged as 2D, but at least one Z coordinate is not zero. Marking the mol as 3D.\n",
            "[23:34:31] Warning: molecule is tagged as 2D, but at least one Z coordinate is not zero. Marking the mol as 3D.\n",
            "[23:34:31] Warning: molecule is tagged as 2D, but at least one Z coordinate is not zero. Marking the mol as 3D.\n",
            "[23:34:31] Warning: molecule is tagged as 2D, but at least one Z coordinate is not zero. Marking the mol as 3D.\n",
            "[23:34:32] Warning: molecule is tagged as 2D, but at least one Z coordinate is not zero. Marking the mol as 3D.\n",
            "[23:34:32] Warning: molecule is tagged as 2D, but at least one Z coordinate is not zero. Marking the mol as 3D.\n",
            "[23:34:32] Warning: molecule is tagged as 2D, but at least one Z coordinate is not zero. Marking the mol as 3D.\n",
            "[23:34:32] Warning: molecule is tagged as 2D, but at least one Z coordinate is not zero. Marking the mol as 3D.\n",
            "[23:34:32] Warning: molecule is tagged as 2D, but at least one Z coordinate is not zero. Marking the mol as 3D.\n",
            "[23:34:32] Warning: molecule is tagged as 2D, but at least one Z coordinate is not zero. Marking the mol as 3D.\n",
            "[23:34:32] Warning: molecule is tagged as 2D, but at least one Z coordinate is not zero. Marking the mol as 3D.\n",
            "[23:34:32] Warning: molecule is tagged as 2D, but at least one Z coordinate is not zero. Marking the mol as 3D.\n",
            "[23:34:32] Warning: molecule is tagged as 2D, but at least one Z coordinate is not zero. Marking the mol as 3D.\n",
            "[23:34:32] Warning: molecule is tagged as 2D, but at least one Z coordinate is not zero. Marking the mol as 3D.\n",
            "[23:34:32] Warning: molecule is tagged as 2D, but at least one Z coordinate is not zero. Marking the mol as 3D.\n",
            "[23:34:32] Warning: molecule is tagged as 2D, but at least one Z coordinate is not zero. Marking the mol as 3D.\n",
            "[23:34:32] Warning: molecule is tagged as 2D, but at least one Z coordinate is not zero. Marking the mol as 3D.\n",
            "[23:34:32] Warning: molecule is tagged as 2D, but at least one Z coordinate is not zero. Marking the mol as 3D.\n",
            "[23:34:33] Warning: molecule is tagged as 2D, but at least one Z coordinate is not zero. Marking the mol as 3D.\n",
            "[23:34:33] Warning: molecule is tagged as 2D, but at least one Z coordinate is not zero. Marking the mol as 3D.\n",
            "[23:34:33] Warning: molecule is tagged as 2D, but at least one Z coordinate is not zero. Marking the mol as 3D.\n",
            "[23:34:33] Warning: molecule is tagged as 2D, but at least one Z coordinate is not zero. Marking the mol as 3D.\n",
            "[23:34:33] Warning: molecule is tagged as 2D, but at least one Z coordinate is not zero. Marking the mol as 3D.\n",
            "[23:34:33] Warning: molecule is tagged as 2D, but at least one Z coordinate is not zero. Marking the mol as 3D.\n",
            "[23:34:33] Warning: molecule is tagged as 2D, but at least one Z coordinate is not zero. Marking the mol as 3D.\n",
            "[23:34:33] Warning: molecule is tagged as 2D, but at least one Z coordinate is not zero. Marking the mol as 3D.\n",
            "[23:34:33] Warning: molecule is tagged as 2D, but at least one Z coordinate is not zero. Marking the mol as 3D.\n",
            "[23:34:33] Warning: molecule is tagged as 2D, but at least one Z coordinate is not zero. Marking the mol as 3D.\n",
            "[23:34:33] Warning: molecule is tagged as 2D, but at least one Z coordinate is not zero. Marking the mol as 3D.\n",
            "[23:34:33] Warning: molecule is tagged as 2D, but at least one Z coordinate is not zero. Marking the mol as 3D.\n",
            "[23:34:33] Warning: molecule is tagged as 2D, but at least one Z coordinate is not zero. Marking the mol as 3D.\n",
            "[23:34:34] Warning: molecule is tagged as 2D, but at least one Z coordinate is not zero. Marking the mol as 3D.\n",
            "[23:34:34] Warning: molecule is tagged as 2D, but at least one Z coordinate is not zero. Marking the mol as 3D.\n",
            "[23:34:34] Warning: molecule is tagged as 2D, but at least one Z coordinate is not zero. Marking the mol as 3D.\n",
            "[23:34:34] Warning: molecule is tagged as 2D, but at least one Z coordinate is not zero. Marking the mol as 3D.\n",
            "[23:34:34] Warning: molecule is tagged as 2D, but at least one Z coordinate is not zero. Marking the mol as 3D.\n",
            "[23:34:34] Warning: molecule is tagged as 2D, but at least one Z coordinate is not zero. Marking the mol as 3D.\n",
            "[23:34:34] Warning: molecule is tagged as 2D, but at least one Z coordinate is not zero. Marking the mol as 3D.\n",
            "[23:34:34] Warning: molecule is tagged as 2D, but at least one Z coordinate is not zero. Marking the mol as 3D.\n",
            "[23:34:34] Warning: molecule is tagged as 2D, but at least one Z coordinate is not zero. Marking the mol as 3D.\n",
            "[23:34:34] Warning: molecule is tagged as 2D, but at least one Z coordinate is not zero. Marking the mol as 3D.\n",
            "[23:34:34] Warning: molecule is tagged as 2D, but at least one Z coordinate is not zero. Marking the mol as 3D.\n",
            "[23:34:34] Warning: molecule is tagged as 2D, but at least one Z coordinate is not zero. Marking the mol as 3D.\n",
            "[23:34:34] Warning: molecule is tagged as 2D, but at least one Z coordinate is not zero. Marking the mol as 3D.\n",
            "[23:34:34] Warning: molecule is tagged as 2D, but at least one Z coordinate is not zero. Marking the mol as 3D.\n",
            "[23:34:35] Warning: molecule is tagged as 2D, but at least one Z coordinate is not zero. Marking the mol as 3D.\n",
            "[23:34:35] Warning: molecule is tagged as 2D, but at least one Z coordinate is not zero. Marking the mol as 3D.\n",
            "[23:34:35] Warning: molecule is tagged as 2D, but at least one Z coordinate is not zero. Marking the mol as 3D.\n",
            "[23:34:35] Warning: molecule is tagged as 2D, but at least one Z coordinate is not zero. Marking the mol as 3D.\n",
            "[23:34:35] Warning: molecule is tagged as 2D, but at least one Z coordinate is not zero. Marking the mol as 3D.\n",
            "[23:34:35] Warning: molecule is tagged as 2D, but at least one Z coordinate is not zero. Marking the mol as 3D.\n",
            "[23:34:35] Warning: molecule is tagged as 2D, but at least one Z coordinate is not zero. Marking the mol as 3D.\n",
            "[23:34:35] Warning: molecule is tagged as 2D, but at least one Z coordinate is not zero. Marking the mol as 3D.\n",
            "[23:34:35] Warning: molecule is tagged as 2D, but at least one Z coordinate is not zero. Marking the mol as 3D.\n",
            "[23:34:35] Warning: molecule is tagged as 2D, but at least one Z coordinate is not zero. Marking the mol as 3D.\n",
            "[23:34:35] Warning: molecule is tagged as 2D, but at least one Z coordinate is not zero. Marking the mol as 3D.\n",
            "[23:34:35] Warning: molecule is tagged as 2D, but at least one Z coordinate is not zero. Marking the mol as 3D.\n",
            "[23:34:35] Warning: molecule is tagged as 2D, but at least one Z coordinate is not zero. Marking the mol as 3D.\n",
            "[23:34:35] Warning: molecule is tagged as 2D, but at least one Z coordinate is not zero. Marking the mol as 3D.\n",
            "[23:34:35] Warning: molecule is tagged as 2D, but at least one Z coordinate is not zero. Marking the mol as 3D.\n",
            "[23:34:36] Warning: molecule is tagged as 2D, but at least one Z coordinate is not zero. Marking the mol as 3D.\n",
            "[23:34:36] Warning: molecule is tagged as 2D, but at least one Z coordinate is not zero. Marking the mol as 3D.\n",
            "[23:34:36] Warning: molecule is tagged as 2D, but at least one Z coordinate is not zero. Marking the mol as 3D.\n",
            "[23:34:36] Warning: molecule is tagged as 2D, but at least one Z coordinate is not zero. Marking the mol as 3D.\n",
            "[23:34:36] Warning: molecule is tagged as 2D, but at least one Z coordinate is not zero. Marking the mol as 3D.\n",
            "[23:34:36] Warning: molecule is tagged as 2D, but at least one Z coordinate is not zero. Marking the mol as 3D.\n",
            "[23:34:36] Warning: molecule is tagged as 2D, but at least one Z coordinate is not zero. Marking the mol as 3D.\n",
            "[23:34:36] Warning: molecule is tagged as 2D, but at least one Z coordinate is not zero. Marking the mol as 3D.\n",
            "[23:34:36] Warning: molecule is tagged as 2D, but at least one Z coordinate is not zero. Marking the mol as 3D.\n",
            "[23:34:36] Warning: molecule is tagged as 2D, but at least one Z coordinate is not zero. Marking the mol as 3D.\n",
            "[23:34:36] Warning: molecule is tagged as 2D, but at least one Z coordinate is not zero. Marking the mol as 3D.\n",
            "[23:34:36] Warning: molecule is tagged as 2D, but at least one Z coordinate is not zero. Marking the mol as 3D.\n",
            "[23:34:36] Warning: molecule is tagged as 2D, but at least one Z coordinate is not zero. Marking the mol as 3D.\n",
            "[23:34:36] Warning: molecule is tagged as 2D, but at least one Z coordinate is not zero. Marking the mol as 3D.\n",
            "[23:34:37] Warning: molecule is tagged as 2D, but at least one Z coordinate is not zero. Marking the mol as 3D.\n",
            "[23:34:37] Warning: molecule is tagged as 2D, but at least one Z coordinate is not zero. Marking the mol as 3D.\n",
            "[23:34:37] Warning: molecule is tagged as 2D, but at least one Z coordinate is not zero. Marking the mol as 3D.\n",
            "[23:34:37] Warning: molecule is tagged as 2D, but at least one Z coordinate is not zero. Marking the mol as 3D.\n",
            "[23:34:37] Warning: molecule is tagged as 2D, but at least one Z coordinate is not zero. Marking the mol as 3D.\n",
            "[23:34:37] Warning: molecule is tagged as 2D, but at least one Z coordinate is not zero. Marking the mol as 3D.\n",
            "[23:34:37] Warning: molecule is tagged as 2D, but at least one Z coordinate is not zero. Marking the mol as 3D.\n",
            "[23:34:37] Warning: molecule is tagged as 2D, but at least one Z coordinate is not zero. Marking the mol as 3D.\n",
            "[23:34:37] Warning: molecule is tagged as 2D, but at least one Z coordinate is not zero. Marking the mol as 3D.\n",
            "[23:34:37] Warning: molecule is tagged as 2D, but at least one Z coordinate is not zero. Marking the mol as 3D.\n",
            "[23:34:37] Warning: molecule is tagged as 2D, but at least one Z coordinate is not zero. Marking the mol as 3D.\n",
            "[23:34:37] Warning: molecule is tagged as 2D, but at least one Z coordinate is not zero. Marking the mol as 3D.\n",
            "[23:34:37] Warning: molecule is tagged as 2D, but at least one Z coordinate is not zero. Marking the mol as 3D.\n",
            "[23:34:38] Warning: molecule is tagged as 2D, but at least one Z coordinate is not zero. Marking the mol as 3D.\n",
            "[23:34:38] Warning: molecule is tagged as 2D, but at least one Z coordinate is not zero. Marking the mol as 3D.\n",
            "[23:34:38] Warning: molecule is tagged as 2D, but at least one Z coordinate is not zero. Marking the mol as 3D.\n",
            "[23:34:38] Warning: molecule is tagged as 2D, but at least one Z coordinate is not zero. Marking the mol as 3D.\n",
            "[23:34:38] Warning: molecule is tagged as 2D, but at least one Z coordinate is not zero. Marking the mol as 3D.\n",
            "[23:34:38] Warning: molecule is tagged as 2D, but at least one Z coordinate is not zero. Marking the mol as 3D.\n",
            "[23:34:38] Warning: molecule is tagged as 2D, but at least one Z coordinate is not zero. Marking the mol as 3D.\n",
            "[23:34:38] Warning: molecule is tagged as 2D, but at least one Z coordinate is not zero. Marking the mol as 3D.\n",
            "[23:34:38] Warning: molecule is tagged as 2D, but at least one Z coordinate is not zero. Marking the mol as 3D.\n",
            "[23:34:38] Warning: molecule is tagged as 2D, but at least one Z coordinate is not zero. Marking the mol as 3D.\n",
            "[23:34:38] Warning: molecule is tagged as 2D, but at least one Z coordinate is not zero. Marking the mol as 3D.\n",
            "[23:34:38] Warning: molecule is tagged as 2D, but at least one Z coordinate is not zero. Marking the mol as 3D.\n",
            "[23:34:38] Warning: molecule is tagged as 2D, but at least one Z coordinate is not zero. Marking the mol as 3D.\n",
            "[23:34:38] Warning: molecule is tagged as 2D, but at least one Z coordinate is not zero. Marking the mol as 3D.\n",
            "[23:34:38] Warning: molecule is tagged as 2D, but at least one Z coordinate is not zero. Marking the mol as 3D.\n",
            "[23:34:38] Warning: molecule is tagged as 2D, but at least one Z coordinate is not zero. Marking the mol as 3D.\n",
            "[23:34:38] Warning: molecule is tagged as 2D, but at least one Z coordinate is not zero. Marking the mol as 3D.\n",
            "[23:34:39] Warning: molecule is tagged as 2D, but at least one Z coordinate is not zero. Marking the mol as 3D.\n",
            "[23:34:39] Warning: molecule is tagged as 2D, but at least one Z coordinate is not zero. Marking the mol as 3D.\n",
            "[23:34:39] Warning: molecule is tagged as 2D, but at least one Z coordinate is not zero. Marking the mol as 3D.\n",
            "[23:34:39] Warning: molecule is tagged as 2D, but at least one Z coordinate is not zero. Marking the mol as 3D.\n",
            "[23:34:39] Warning: molecule is tagged as 2D, but at least one Z coordinate is not zero. Marking the mol as 3D.\n",
            "[23:34:39] Warning: molecule is tagged as 2D, but at least one Z coordinate is not zero. Marking the mol as 3D.\n",
            "[23:34:39] Warning: molecule is tagged as 2D, but at least one Z coordinate is not zero. Marking the mol as 3D.\n",
            "[23:34:39] Warning: molecule is tagged as 2D, but at least one Z coordinate is not zero. Marking the mol as 3D.\n",
            "[23:34:39] Warning: molecule is tagged as 2D, but at least one Z coordinate is not zero. Marking the mol as 3D.\n",
            "[23:34:39] Warning: molecule is tagged as 2D, but at least one Z coordinate is not zero. Marking the mol as 3D.\n",
            "[23:34:39] Warning: molecule is tagged as 2D, but at least one Z coordinate is not zero. Marking the mol as 3D.\n",
            "[23:34:39] Warning: molecule is tagged as 2D, but at least one Z coordinate is not zero. Marking the mol as 3D.\n",
            "[23:34:39] Warning: molecule is tagged as 2D, but at least one Z coordinate is not zero. Marking the mol as 3D.\n"
          ]
        }
      ],
      "source": [
        "# 1) IMPORTS & DATA LOADING\n",
        "import numpy as np\n",
        "from sklearn.decomposition import PCA\n",
        "from sklearn.preprocessing import MinMaxScaler\n",
        "from deepchem.molnet import load_pdbbind\n",
        "# Qiskit ML pieces\n",
        "from qiskit.circuit.library import ZFeatureMap\n",
        "from qiskit_machine_learning.algorithms import VQR\n",
        "from qiskit.primitives import Estimator\n",
        "from scipy.optimize import minimize\n",
        "\n",
        "# 2) LOAD DEEPCHEM DATA\n",
        "# (assumes you've already run your AtomicConvFeaturizer load & MyTransformer steps)\n",
        "tasks, datasets, transformers = load_pdbbind(\n",
        "    featurizer=acf,\n",
        "    save_dir='.',\n",
        "    data_dir='.',\n",
        "    pocket=True,\n",
        "    reload=False,\n",
        "    set_name='core'\n",
        ")\n",
        "train, val, test = datasets\n",
        "X_train_dc, y_train = train.X, train.y\n",
        "X_val_dc,   y_val   = val.X,   val.y\n",
        "X_test_dc,  y_test  = test.X,  test.y"
      ]
    },
    {
      "cell_type": "code",
      "execution_count": 39,
      "metadata": {
        "id": "lo4a0scQSAbS"
      },
      "outputs": [
        {
          "name": "stdout",
          "output_type": "stream",
          "text": [
            "train flat: (154, 8800) float64\n"
          ]
        },
        {
          "name": "stderr",
          "output_type": "stream",
          "text": [
            "/var/folders/9z/tkcd7rfx1bxd05989nnkhc7r0000gn/T/ipykernel_18074/2971493220.py:121: DeprecationWarning: The class ``qiskit.primitives.estimator.Estimator`` is deprecated as of qiskit 1.2. It will be removed no earlier than 3 months after the release date. All implementations of the `BaseEstimatorV1` interface have been deprecated in favor of their V2 counterparts. The V2 alternative for the `Estimator` class is `StatevectorEstimator`.\n",
            "  estimator=Estimator(),\n"
          ]
        }
      ],
      "source": [
        "\n",
        "\n",
        "# 3) FLATTEN DeepChem FEATURES → CLASSICAL MATRIX\n",
        "def flatten_dc_features(X_dc):\n",
        "    rows = []\n",
        "    for sample in X_dc:\n",
        "        pieces = []\n",
        "        for comp in sample:\n",
        "            # only flatten real numpy arrays\n",
        "            if isinstance(comp, np.ndarray):\n",
        "                pieces.append(comp.ravel())\n",
        "        # join all the numeric pieces\n",
        "        vec = np.concatenate(pieces)\n",
        "        rows.append(vec)\n",
        "    # make into one (n_samples, n_features) float64 array\n",
        "    flat = np.vstack(rows).astype(np.float64)\n",
        "    return flat\n",
        "\n",
        "# then:\n",
        "X_train_flat = flatten_dc_features(X_train_dc)\n",
        "print(\"train flat:\", X_train_flat.shape, X_train_flat.dtype)\n",
        "X_val_flat   = flatten_dc_features(X_val_dc)\n",
        "X_test_flat  = flatten_dc_features(X_test_dc)\n",
        "\n",
        "\n",
        "# 4) SCALE + PCA → N‐QUBIT INPUT VECTORS\n",
        "n_qubits = 6  # pick based on your simulator capacity\n",
        "# scale into [−π,π] so feature_map rotations stay numeric\n",
        "fm_scaler = MinMaxScaler(feature_range=(-np.pi, np.pi))\n",
        "X_all = fm_scaler.fit_transform(\n",
        "    np.vstack([X_train_flat, X_val_flat, X_test_flat])\n",
        ")\n",
        "pca = PCA(n_components=n_qubits)\n",
        "X_all_pca = pca.fit_transform(X_all)\n",
        "\n",
        "# split back\n",
        "N_train = X_train_flat.shape[0]\n",
        "N_val   = X_val_flat.shape[0]\n",
        "X_train_pca = X_all_pca[:N_train]\n",
        "X_val_pca   = X_all_pca[N_train:N_train+N_val]\n",
        "X_test_pca  = X_all_pca[N_train+N_val:]\n",
        "\n",
        "# scale targets y into [−1,+1] for single‐qubit range\n",
        "y_scaler = MinMaxScaler(feature_range=(-1, 1))\n",
        "y_all = y_scaler.fit_transform(\n",
        "    np.vstack([y_train.reshape(-1,1), y_val.reshape(-1,1), y_test.reshape(-1,1)])\n",
        ")\n",
        "y_train_scaled = y_all[:N_train].ravel()\n",
        "y_val_scaled   = y_all[N_train:N_train+N_val].ravel()\n",
        "y_test_scaled  = y_all[N_train+N_val:].ravel()\n",
        "\n",
        "# 5) BUILD THE QCNN CIRCUIT\n",
        "# 5.1 Feature map\n",
        "feature_map = ZFeatureMap(feature_dimension=n_qubits, reps=1)\n",
        "\n",
        "# 5.2 A simple “1‐conv + 1‐pool” QCNN block for illustration\n",
        "from qiskit import QuantumCircuit\n",
        "from qiskit.circuit import ParameterVector\n",
        "\n",
        "def conv_instruction(n, prefix):\n",
        "    params = ParameterVector(prefix, length=3*n)\n",
        "    qc = QuantumCircuit(n, name=\"Conv\")\n",
        "    idx = 0\n",
        "    for q1,q2 in zip(range(0,n,2), range(1,n,2)):\n",
        "        sub = QuantumCircuit(2)\n",
        "        sub.rz(-np.pi/2, 1)\n",
        "        sub.cx(1,0)\n",
        "        sub.rz(params[idx],   0)\n",
        "        sub.ry(params[idx+1], 1)\n",
        "        sub.cx(0,1)\n",
        "        sub.ry(params[idx+2], 1)\n",
        "        qc.compose(sub, [q1,q2], inplace=True)\n",
        "        qc.barrier()\n",
        "        idx += 3\n",
        "    return qc.to_instruction()\n",
        "\n",
        "def pool_instruction(srcs, sinks, prefix):\n",
        "    params = ParameterVector(prefix, length=3*len(srcs))\n",
        "    n = len(srcs)+len(sinks)\n",
        "    qc = QuantumCircuit(n, name=\"Pool\")\n",
        "    idx = 0\n",
        "    for s,t in zip(srcs, sinks):\n",
        "        sub = QuantumCircuit(2)\n",
        "        sub.rz(-np.pi/2, 1)\n",
        "        sub.cx(1,0)\n",
        "        sub.rz(params[idx],   0)\n",
        "        sub.ry(params[idx+1], 1)\n",
        "        sub.cx(0,1)\n",
        "        sub.ry(params[idx+2], 1)\n",
        "        qc.compose(sub, [s,t], inplace=True)\n",
        "        qc.barrier()\n",
        "        idx += 3\n",
        "    return qc.to_instruction()\n",
        "\n",
        "# Assemble: fmap → conv → pool → measure Z⊗… at end\n",
        "qc_cnn = QuantumCircuit(n_qubits)\n",
        "# qc_cnn.compose(feature_map, range(n_qubits), inplace=True)\n",
        "qc_cnn.append(conv_instruction(n_qubits, \"c1\"), range(n_qubits))\n",
        "# example pooling halving qubits [0→n/2],[1→n/2+1],…\n",
        "src = list(range(0,n_qubits,2))\n",
        "snk = list(range(1,n_qubits,2))\n",
        "qc_cnn.append(pool_instruction(src, snk, \"p1\"), range(n_qubits))\n",
        "# now only n_qubits/2 logical remain; you’d repeat conv+pool until 1 remains\n",
        "\n",
        "\n",
        "def lbfgs_b_opt(fun, x0, jac=None, bounds=None):\n",
        "    return minimize(\n",
        "        fun,\n",
        "        x0,\n",
        "        method=\"L-BFGS-B\",\n",
        "        jac=jac,\n",
        "        bounds=bounds,\n",
        "        options={\"maxiter\": 150},\n",
        "    )\n",
        "\n",
        "\n",
        "# 6) WRAP IN A VQR & TRAIN\n",
        "vqr = VQR(\n",
        "    num_qubits=n_qubits,\n",
        "    feature_map=feature_map,\n",
        "    ansatz=qc_cnn,\n",
        "    optimizer=lbfgs_b_opt,\n",
        "    estimator=Estimator(),\n",
        ")\n",
        "\n",
        "# fit on train, validate on val\n",
        "vqr.fit(X_train_pca, y_train_scaled)\n",
        "y_val_pred_scaled = vqr.predict(X_val_pca)\n",
        "y_val_pred = y_scaler.inverse_transform(y_val_pred_scaled.reshape(-1,1)).ravel()\n",
        "\n",
        "# 7) EVALUATE ON TEST\n",
        "y_test_pred_scaled = vqr.predict(X_test_pca)\n",
        "y_test_pred = y_scaler.inverse_transform(y_test_pred_scaled.reshape(-1,1)).ravel()\n",
        "\n",
        "# Now you have y_test_pred in the original binding‐energy units!\n"
      ]
    },
    {
      "cell_type": "code",
      "execution_count": 40,
      "metadata": {},
      "outputs": [
        {
          "name": "stdout",
          "output_type": "stream",
          "text": [
            "[(8800,), (8800,), (8800,), (8800,), (8800,)]\n",
            "float64\n"
          ]
        }
      ],
      "source": [
        "### testing\n",
        "print([row.shape for row in X_train_flat[:5]])\n",
        "print(np.array(X_train_flat).dtype)\n"
      ]
    },
    {
      "cell_type": "code",
      "execution_count": 41,
      "metadata": {},
      "outputs": [
        {
          "name": "stdout",
          "output_type": "stream",
          "text": [
            "      Actual  Predicted\n",
            "0  -1.283395   0.072756\n",
            "1   1.260367   0.254306\n",
            "2  -0.162564   0.176979\n",
            "3  -0.661684   0.181123\n",
            "4   0.682438   0.382338\n",
            "5   0.958268   0.131388\n",
            "6  -0.832436   0.444012\n",
            "7   0.354069   0.312787\n",
            "8  -0.631036  -0.441948\n",
            "9   0.170183  -0.080742\n",
            "10  0.809407   0.077081\n",
            "11  0.629899   0.175521\n",
            "12  0.739355   0.224675\n",
            "13 -0.477798   0.217159\n",
            "14 -0.114403   0.217620\n",
            "15 -1.795650   0.150069\n",
            "16  0.257748   0.071144\n",
            "17  0.152670   0.347913\n",
            "18  0.980159   0.215037\n",
            "19  2.070342   0.152179\n"
          ]
        }
      ],
      "source": [
        "import pandas as pd\n",
        "\n",
        "df = pd.DataFrame({\n",
        "    \"Actual\":    y_test,\n",
        "    \"Predicted\": y_test_pred\n",
        "})\n",
        "print(df)\n"
      ]
    },
    {
      "cell_type": "code",
      "execution_count": 42,
      "metadata": {},
      "outputs": [
        {
          "data": {
            "image/png": "[encoded data removed]",
            "text/plain": [
              "<Figure size 640x480 with 1 Axes>"
            ]
          },
          "metadata": {},
          "output_type": "display_data"
        }
      ],
      "source": [
        "import matplotlib.pyplot as plt\n",
        "\n",
        "plt.scatter(y_test, y_test_pred)\n",
        "plt.plot([y_test.min(), y_test.max()],\n",
        "         [y_test.min(), y_test.max()],\n",
        "         ls=\"--\")  # diagonal line\n",
        "plt.xlabel(\"Actual binding energy\")\n",
        "plt.ylabel(\"Predicted binding energy\")\n",
        "plt.title(\"Actual vs. Predicted on Test Set\")\n",
        "plt.show()\n"
      ]
    },
    {
      "cell_type": "code",
      "execution_count": null,
      "metadata": {},
      "outputs": [],
      "source": []
    },
    {
      "cell_type": "markdown",
      "metadata": {},
      "source": [
        "## hybrid"
      ]
    },
    {
      "cell_type": "markdown",
      "metadata": {},
      "source": []
    },
    {
      "cell_type": "code",
      "execution_count": 45,
      "metadata": {},
      "outputs": [
        {
          "name": "stderr",
          "output_type": "stream",
          "text": [
            "/var/folders/9z/tkcd7rfx1bxd05989nnkhc7r0000gn/T/ipykernel_18074/3208322058.py:25: DeprecationWarning: The class ``qiskit.primitives.sampler.Sampler`` is deprecated as of qiskit 1.2. It will be removed no earlier than 3 months after the release date. All implementations of the `BaseSamplerV1` interface have been deprecated in favor of their V2 counterparts. The V2 alternative for the `Sampler` class is `StatevectorSampler`.\n",
            "  sampler     = Sampler()\n",
            "/var/folders/9z/tkcd7rfx1bxd05989nnkhc7r0000gn/T/ipykernel_18074/3208322058.py:27: DeprecationWarning: V1 Primitives are deprecated as of qiskit-machine-learning 0.8.0 and will be removed no sooner than 4 months after the release date. Use V2 primitives for continued compatibility and support.\n",
            "  sampler_qnn = SamplerQNN(\n",
            "WARNING:qiskit_machine_learning.neural_networks.sampler_qnn:No interpret function given, output_shape will be automatically determined as 2^num_virtual_qubits.\n"
          ]
        },
        {
          "ename": "RuntimeError",
          "evalue": "mat1 and mat2 shapes cannot be multiplied (16x64 and 1x1)",
          "output_type": "error",
          "traceback": [
            "\u001b[0;31m---------------------------------------------------------------------------\u001b[0m",
            "\u001b[0;31mRuntimeError\u001b[0m                              Traceback (most recent call last)",
            "Cell \u001b[0;32mIn[45], line 83\u001b[0m\n\u001b[1;32m     81\u001b[0m Xb, yb \u001b[38;5;241m=\u001b[39m Xb\u001b[38;5;241m.\u001b[39mto(device), yb\u001b[38;5;241m.\u001b[39mto(device)\n\u001b[1;32m     82\u001b[0m opt\u001b[38;5;241m.\u001b[39mzero_grad()\n\u001b[0;32m---> 83\u001b[0m loss \u001b[38;5;241m=\u001b[39m loss_fn(\u001b[43mmodel\u001b[49m\u001b[43m(\u001b[49m\u001b[43mXb\u001b[49m\u001b[43m)\u001b[49m, yb)\n\u001b[1;32m     84\u001b[0m loss\u001b[38;5;241m.\u001b[39mbackward()\n\u001b[1;32m     85\u001b[0m opt\u001b[38;5;241m.\u001b[39mstep()\n",
            "File \u001b[0;32m~/miniconda3/envs/atomic/lib/python3.10/site-packages/torch/nn/modules/module.py:1751\u001b[0m, in \u001b[0;36mModule._wrapped_call_impl\u001b[0;34m(self, *args, **kwargs)\u001b[0m\n\u001b[1;32m   1749\u001b[0m     \u001b[38;5;28;01mreturn\u001b[39;00m \u001b[38;5;28mself\u001b[39m\u001b[38;5;241m.\u001b[39m_compiled_call_impl(\u001b[38;5;241m*\u001b[39margs, \u001b[38;5;241m*\u001b[39m\u001b[38;5;241m*\u001b[39mkwargs)  \u001b[38;5;66;03m# type: ignore[misc]\u001b[39;00m\n\u001b[1;32m   1750\u001b[0m \u001b[38;5;28;01melse\u001b[39;00m:\n\u001b[0;32m-> 1751\u001b[0m     \u001b[38;5;28;01mreturn\u001b[39;00m \u001b[38;5;28;43mself\u001b[39;49m\u001b[38;5;241;43m.\u001b[39;49m\u001b[43m_call_impl\u001b[49m\u001b[43m(\u001b[49m\u001b[38;5;241;43m*\u001b[39;49m\u001b[43margs\u001b[49m\u001b[43m,\u001b[49m\u001b[43m \u001b[49m\u001b[38;5;241;43m*\u001b[39;49m\u001b[38;5;241;43m*\u001b[39;49m\u001b[43mkwargs\u001b[49m\u001b[43m)\u001b[49m\n",
            "File \u001b[0;32m~/miniconda3/envs/atomic/lib/python3.10/site-packages/torch/nn/modules/module.py:1762\u001b[0m, in \u001b[0;36mModule._call_impl\u001b[0;34m(self, *args, **kwargs)\u001b[0m\n\u001b[1;32m   1757\u001b[0m \u001b[38;5;66;03m# If we don't have any hooks, we want to skip the rest of the logic in\u001b[39;00m\n\u001b[1;32m   1758\u001b[0m \u001b[38;5;66;03m# this function, and just call forward.\u001b[39;00m\n\u001b[1;32m   1759\u001b[0m \u001b[38;5;28;01mif\u001b[39;00m \u001b[38;5;129;01mnot\u001b[39;00m (\u001b[38;5;28mself\u001b[39m\u001b[38;5;241m.\u001b[39m_backward_hooks \u001b[38;5;129;01mor\u001b[39;00m \u001b[38;5;28mself\u001b[39m\u001b[38;5;241m.\u001b[39m_backward_pre_hooks \u001b[38;5;129;01mor\u001b[39;00m \u001b[38;5;28mself\u001b[39m\u001b[38;5;241m.\u001b[39m_forward_hooks \u001b[38;5;129;01mor\u001b[39;00m \u001b[38;5;28mself\u001b[39m\u001b[38;5;241m.\u001b[39m_forward_pre_hooks\n\u001b[1;32m   1760\u001b[0m         \u001b[38;5;129;01mor\u001b[39;00m _global_backward_pre_hooks \u001b[38;5;129;01mor\u001b[39;00m _global_backward_hooks\n\u001b[1;32m   1761\u001b[0m         \u001b[38;5;129;01mor\u001b[39;00m _global_forward_hooks \u001b[38;5;129;01mor\u001b[39;00m _global_forward_pre_hooks):\n\u001b[0;32m-> 1762\u001b[0m     \u001b[38;5;28;01mreturn\u001b[39;00m \u001b[43mforward_call\u001b[49m\u001b[43m(\u001b[49m\u001b[38;5;241;43m*\u001b[39;49m\u001b[43margs\u001b[49m\u001b[43m,\u001b[49m\u001b[43m \u001b[49m\u001b[38;5;241;43m*\u001b[39;49m\u001b[38;5;241;43m*\u001b[39;49m\u001b[43mkwargs\u001b[49m\u001b[43m)\u001b[49m\n\u001b[1;32m   1764\u001b[0m result \u001b[38;5;241m=\u001b[39m \u001b[38;5;28;01mNone\u001b[39;00m\n\u001b[1;32m   1765\u001b[0m called_always_called_hooks \u001b[38;5;241m=\u001b[39m \u001b[38;5;28mset\u001b[39m()\n",
            "Cell \u001b[0;32mIn[45], line 55\u001b[0m, in \u001b[0;36mHybridCNN.forward\u001b[0;34m(self, x)\u001b[0m\n\u001b[1;32m     53\u001b[0m x \u001b[38;5;241m=\u001b[39m \u001b[38;5;28mself\u001b[39m\u001b[38;5;241m.\u001b[39mfc1(x)               \u001b[38;5;66;03m# → (batch, n_qubits)\u001b[39;00m\n\u001b[1;32m     54\u001b[0m x \u001b[38;5;241m=\u001b[39m \u001b[38;5;28mself\u001b[39m\u001b[38;5;241m.\u001b[39mqc(x)                \u001b[38;5;66;03m# → (batch,1)\u001b[39;00m\n\u001b[0;32m---> 55\u001b[0m x \u001b[38;5;241m=\u001b[39m \u001b[38;5;28;43mself\u001b[39;49m\u001b[38;5;241;43m.\u001b[39;49m\u001b[43mfc2\u001b[49m\u001b[43m(\u001b[49m\u001b[43mx\u001b[49m\u001b[43m)\u001b[49m               \u001b[38;5;66;03m# → (batch,1)\u001b[39;00m\n\u001b[1;32m     56\u001b[0m \u001b[38;5;28;01mreturn\u001b[39;00m x\u001b[38;5;241m.\u001b[39msqueeze(\u001b[38;5;241m-\u001b[39m\u001b[38;5;241m1\u001b[39m)\n",
            "File \u001b[0;32m~/miniconda3/envs/atomic/lib/python3.10/site-packages/torch/nn/modules/module.py:1751\u001b[0m, in \u001b[0;36mModule._wrapped_call_impl\u001b[0;34m(self, *args, **kwargs)\u001b[0m\n\u001b[1;32m   1749\u001b[0m     \u001b[38;5;28;01mreturn\u001b[39;00m \u001b[38;5;28mself\u001b[39m\u001b[38;5;241m.\u001b[39m_compiled_call_impl(\u001b[38;5;241m*\u001b[39margs, \u001b[38;5;241m*\u001b[39m\u001b[38;5;241m*\u001b[39mkwargs)  \u001b[38;5;66;03m# type: ignore[misc]\u001b[39;00m\n\u001b[1;32m   1750\u001b[0m \u001b[38;5;28;01melse\u001b[39;00m:\n\u001b[0;32m-> 1751\u001b[0m     \u001b[38;5;28;01mreturn\u001b[39;00m \u001b[38;5;28;43mself\u001b[39;49m\u001b[38;5;241;43m.\u001b[39;49m\u001b[43m_call_impl\u001b[49m\u001b[43m(\u001b[49m\u001b[38;5;241;43m*\u001b[39;49m\u001b[43margs\u001b[49m\u001b[43m,\u001b[49m\u001b[43m \u001b[49m\u001b[38;5;241;43m*\u001b[39;49m\u001b[38;5;241;43m*\u001b[39;49m\u001b[43mkwargs\u001b[49m\u001b[43m)\u001b[49m\n",
            "File \u001b[0;32m~/miniconda3/envs/atomic/lib/python3.10/site-packages/torch/nn/modules/module.py:1762\u001b[0m, in \u001b[0;36mModule._call_impl\u001b[0;34m(self, *args, **kwargs)\u001b[0m\n\u001b[1;32m   1757\u001b[0m \u001b[38;5;66;03m# If we don't have any hooks, we want to skip the rest of the logic in\u001b[39;00m\n\u001b[1;32m   1758\u001b[0m \u001b[38;5;66;03m# this function, and just call forward.\u001b[39;00m\n\u001b[1;32m   1759\u001b[0m \u001b[38;5;28;01mif\u001b[39;00m \u001b[38;5;129;01mnot\u001b[39;00m (\u001b[38;5;28mself\u001b[39m\u001b[38;5;241m.\u001b[39m_backward_hooks \u001b[38;5;129;01mor\u001b[39;00m \u001b[38;5;28mself\u001b[39m\u001b[38;5;241m.\u001b[39m_backward_pre_hooks \u001b[38;5;129;01mor\u001b[39;00m \u001b[38;5;28mself\u001b[39m\u001b[38;5;241m.\u001b[39m_forward_hooks \u001b[38;5;129;01mor\u001b[39;00m \u001b[38;5;28mself\u001b[39m\u001b[38;5;241m.\u001b[39m_forward_pre_hooks\n\u001b[1;32m   1760\u001b[0m         \u001b[38;5;129;01mor\u001b[39;00m _global_backward_pre_hooks \u001b[38;5;129;01mor\u001b[39;00m _global_backward_hooks\n\u001b[1;32m   1761\u001b[0m         \u001b[38;5;129;01mor\u001b[39;00m _global_forward_hooks \u001b[38;5;129;01mor\u001b[39;00m _global_forward_pre_hooks):\n\u001b[0;32m-> 1762\u001b[0m     \u001b[38;5;28;01mreturn\u001b[39;00m \u001b[43mforward_call\u001b[49m\u001b[43m(\u001b[49m\u001b[38;5;241;43m*\u001b[39;49m\u001b[43margs\u001b[49m\u001b[43m,\u001b[49m\u001b[43m \u001b[49m\u001b[38;5;241;43m*\u001b[39;49m\u001b[38;5;241;43m*\u001b[39;49m\u001b[43mkwargs\u001b[49m\u001b[43m)\u001b[49m\n\u001b[1;32m   1764\u001b[0m result \u001b[38;5;241m=\u001b[39m \u001b[38;5;28;01mNone\u001b[39;00m\n\u001b[1;32m   1765\u001b[0m called_always_called_hooks \u001b[38;5;241m=\u001b[39m \u001b[38;5;28mset\u001b[39m()\n",
            "File \u001b[0;32m~/miniconda3/envs/atomic/lib/python3.10/site-packages/torch/nn/modules/linear.py:125\u001b[0m, in \u001b[0;36mLinear.forward\u001b[0;34m(self, input)\u001b[0m\n\u001b[1;32m    124\u001b[0m \u001b[38;5;28;01mdef\u001b[39;00m\u001b[38;5;250m \u001b[39m\u001b[38;5;21mforward\u001b[39m(\u001b[38;5;28mself\u001b[39m, \u001b[38;5;28minput\u001b[39m: Tensor) \u001b[38;5;241m-\u001b[39m\u001b[38;5;241m>\u001b[39m Tensor:\n\u001b[0;32m--> 125\u001b[0m     \u001b[38;5;28;01mreturn\u001b[39;00m \u001b[43mF\u001b[49m\u001b[38;5;241;43m.\u001b[39;49m\u001b[43mlinear\u001b[49m\u001b[43m(\u001b[49m\u001b[38;5;28;43minput\u001b[39;49m\u001b[43m,\u001b[49m\u001b[43m \u001b[49m\u001b[38;5;28;43mself\u001b[39;49m\u001b[38;5;241;43m.\u001b[39;49m\u001b[43mweight\u001b[49m\u001b[43m,\u001b[49m\u001b[43m \u001b[49m\u001b[38;5;28;43mself\u001b[39;49m\u001b[38;5;241;43m.\u001b[39;49m\u001b[43mbias\u001b[49m\u001b[43m)\u001b[49m\n",
            "\u001b[0;31mRuntimeError\u001b[0m: mat1 and mat2 shapes cannot be multiplied (16x64 and 1x1)"
          ]
        }
      ],
      "source": [
        "import torch\n",
        "import torch.nn as nn\n",
        "import torch.nn.functional as F\n",
        "from torch.utils.data import TensorDataset, DataLoader\n",
        "\n",
        "from qiskit.circuit.library import ZZFeatureMap, RealAmplitudes\n",
        "from qiskit.primitives import Sampler\n",
        "\n",
        "# ← Use SamplerQNN directly from its submodule\n",
        "from qiskit_machine_learning.neural_networks.sampler_qnn import SamplerQNN  # :contentReference[oaicite:0]{index=0}\n",
        "from qiskit_machine_learning.connectors.torch_connector import TorchConnector\n",
        "\n",
        "# 1) HYPERPARAMETERS\n",
        "n_qubits      = 6\n",
        "batch_size    = 16\n",
        "learning_rate = 1e-3\n",
        "n_epochs      = 50\n",
        "D             = X_train_flat.shape[1]   # total # of classical features\n",
        "\n",
        "# 2) BUILD THE QUANTUM LAYER\n",
        "feature_map = ZZFeatureMap(feature_dimension=n_qubits, reps=1)\n",
        "ansatz      = RealAmplitudes(num_qubits=n_qubits, reps=1)\n",
        "qc_circuit  = feature_map.compose(ansatz)\n",
        "\n",
        "sampler     = Sampler()\n",
        "# create a SamplerQNN with the right input/weight params and output size\n",
        "sampler_qnn = SamplerQNN(\n",
        "    circuit=qc_circuit,\n",
        "    input_params=feature_map.parameters,\n",
        "    weight_params=ansatz.parameters,\n",
        "    sampler=sampler,\n",
        "    output_shape=1\n",
        ")\n",
        "quantum_layer = TorchConnector(sampler_qnn)\n",
        "\n",
        "# 3) DEFINE THE HYBRID 1D‐CNN\n",
        "class HybridCNN(nn.Module):\n",
        "    def __init__(self):\n",
        "        super().__init__()\n",
        "        self.conv1 = nn.Conv1d(1, 16, kernel_size=3, padding=1)\n",
        "        self.conv2 = nn.Conv1d(16, 32, kernel_size=3, padding=1)\n",
        "        self.pool  = nn.MaxPool1d(2)\n",
        "        self.fc1   = nn.Linear(32 * (D//2), n_qubits)\n",
        "        self.qc    = quantum_layer\n",
        "        self.fc2   = nn.Linear(1, 1)\n",
        "\n",
        "    def forward(self, x):\n",
        "        x = x.unsqueeze(1)            # (batch, D) → (batch,1,D)\n",
        "        x = F.relu(self.conv1(x))\n",
        "        x = self.pool(x)\n",
        "        x = F.relu(self.conv2(x))\n",
        "        x = x.view(x.size(0), -1)     # → (batch, 32*(D/2))\n",
        "        x = self.fc1(x)               # → (batch, n_qubits)\n",
        "        x = self.qc(x)                # → (batch,1)\n",
        "        x = self.fc2(x)               # → (batch,1)\n",
        "        return x.squeeze(-1)          # → (batch,)\n",
        "\n",
        "# 4) CREATE DATALOADERS\n",
        "train_ds = TensorDataset(\n",
        "    torch.tensor(X_train_flat, dtype=torch.float32),\n",
        "    torch.tensor(y_train_scaled, dtype=torch.float32)\n",
        ")\n",
        "train_loader = DataLoader(train_ds, batch_size=batch_size, shuffle=True)\n",
        "\n",
        "val_ds = TensorDataset(\n",
        "    torch.tensor(X_val_flat, dtype=torch.float32),\n",
        "    torch.tensor(y_val_scaled, dtype=torch.float32)\n",
        ")\n",
        "val_loader = DataLoader(val_ds, batch_size=batch_size)\n",
        "\n",
        "# 5) TRAIN\n",
        "device = torch.device(\"cuda\" if torch.cuda.is_available() else \"cpu\")\n",
        "model  = HybridCNN().to(device)\n",
        "opt    = torch.optim.Adam(model.parameters(), lr=learning_rate)\n",
        "loss_fn = nn.MSELoss()\n",
        "\n",
        "for epoch in range(1, n_epochs+1):\n",
        "    model.train()\n",
        "    train_loss = 0.0\n",
        "    for Xb, yb in train_loader:\n",
        "        Xb, yb = Xb.to(device), yb.to(device)\n",
        "        opt.zero_grad()\n",
        "        loss = loss_fn(model(Xb), yb)\n",
        "        loss.backward()\n",
        "        opt.step()\n",
        "        train_loss += loss.item()*Xb.size(0)\n",
        "    train_loss /= len(train_loader.dataset)\n",
        "\n",
        "    model.eval()\n",
        "    val_loss = 0.0\n",
        "    with torch.no_grad():\n",
        "        for Xb, yb in val_loader:\n",
        "            Xb, yb = Xb.to(device), yb.to(device)\n",
        "            val_loss += loss_fn(model(Xb), yb).item()*Xb.size(0)\n",
        "    val_loss /= len(val_loader.dataset)\n",
        "\n",
        "    print(f\"Epoch {epoch:3d}  Train MSE: {train_loss:.4f}  Val MSE: {val_loss:.4f}\")\n",
        "\n",
        "# 6) TEST\n",
        "model.eval()\n",
        "X_test_t = torch.tensor(X_test_flat, dtype=torch.float32).to(device)\n",
        "with torch.no_grad():\n",
        "    y_test_pred_scaled = model(X_test_t).cpu().numpy()\n",
        "y_test_pred = y_scaler.inverse_transform(\n",
        "    y_test_pred_scaled.reshape(-1,1)\n",
        ").ravel()\n",
        "print(\"Test predictions:\", y_test_pred)\n"
      ]
    },
    {
      "cell_type": "code",
      "execution_count": null,
      "metadata": {},
      "outputs": [],
      "source": []
    }
  ],
  "metadata": {
    "accelerator": "GPU",
    "colab": {
      "name": "14_Modeling_Protein_Ligand_Interactions_With_Atomic_Convolutions.ipynb",
      "provenance": [],
      "toc_visible": true
    },
    "kernelspec": {
      "display_name": "atomic",
      "language": "python",
      "name": "python3"
    },
    "language_info": {
      "codemirror_mode": {
        "name": "ipython",
        "version": 3
      },
      "file_extension": ".py",
      "mimetype": "text/x-python",
      "name": "python",
      "nbconvert_exporter": "python",
      "pygments_lexer": "ipython3",
      "version": "3.10.13"
    }
  },
  "nbformat": 4,
  "nbformat_minor": 0
}
