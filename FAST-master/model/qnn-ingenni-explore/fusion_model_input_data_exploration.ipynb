{
 "cells": [
  {
   "cell_type": "code",
   "execution_count": null,
   "id": "99c9f0b1",
   "metadata": {},
   "outputs": [],
   "source": [
    "19*48*48*48 # 2101248 ~ 2M data points for each complex"
   ]
  },
  {
   "cell_type": "code",
   "execution_count": null,
   "id": "4806a859",
   "metadata": {},
   "outputs": [],
   "source": [
    "48*48*48 # 110592 ~ 100K data points for each feature"
   ]
  },
  {
   "cell_type": "code",
   "execution_count": null,
   "id": "31b841f2",
   "metadata": {},
   "outputs": [],
   "source": [
    "## D"
   ]
  },
  {
   "cell_type": "markdown",
   "id": "59078ea0",
   "metadata": {},
   "source": [
    "# Data Files - 9\n",
    "- 3 files for each stage: train, val, test on the PDB-Bind refined dataset(4K+ complexes)\n",
    "    - fc10.npy: from 3D CNN\n",
    "    - fc6.npy: from SG CNN\n",
    "    - csv : cid, label(actual), pred"
   ]
  },
  {
   "cell_type": "markdown",
   "id": "d5c6ceaf",
   "metadata": {},
   "source": [
    "## .npy files"
   ]
  },
  {
   "cell_type": "code",
   "execution_count": null,
   "id": "2d6b277b",
   "metadata": {},
   "outputs": [],
   "source": [
    "import numpy as np\n",
    "refined_train_fc6 = np.load('data/refined_train_fc6.npy')\n",
    "refined_train_fc6.shape"
   ]
  },
  {
   "cell_type": "code",
   "execution_count": null,
   "id": "ecd2a1ec",
   "metadata": {},
   "outputs": [],
   "source": [
    "import numpy as np\n",
    "test_fc6 = np.load('data-self/train_sgcnn_feat.npz')\n",
    "print(\"Proteins:\", len(test_fc6.keys()) )\n",
    "\n",
    "key = list(test_fc6.keys())[0]\n",
    "test_fc6[key].shape"
   ]
  },
  {
   "cell_type": "code",
   "execution_count": null,
   "id": "0e34efa0",
   "metadata": {},
   "outputs": [],
   "source": [
    "import numpy as np\n",
    "refined_train_fc10 = np.load('data/refined_train_fc10.npy')\n",
    "refined_train_fc10.shape"
   ]
  },
  {
   "cell_type": "code",
   "execution_count": null,
   "id": "59d493fa",
   "metadata": {},
   "outputs": [],
   "source": [
    "import numpy as np\n",
    "val_fc10 = np.load('data-self/pdbbind2021_demo_train_feat.npz')\n",
    "print(\"Proteins:\", len(val_fc10.keys()) )\n",
    "\n",
    "key = list(val_fc10.keys())[0]\n",
    "val_fc10[key].shape"
   ]
  },
  {
   "cell_type": "code",
   "execution_count": null,
   "id": "0de11fc6",
   "metadata": {},
   "outputs": [],
   "source": [
    "import numpy as np\n",
    "refined_val_fc6 = np.load('data/refined_val_fc6.npy')\n",
    "refined_val_fc6.shape"
   ]
  },
  {
   "cell_type": "code",
   "execution_count": null,
   "id": "fc632664",
   "metadata": {},
   "outputs": [],
   "source": [
    "import numpy as np\n",
    "test_fc6 = np.load('data-self/val_sgcnn_feat.npz')\n",
    "print(\"Proteins:\", len(test_fc6.keys()) )\n",
    "\n",
    "key = list(test_fc6.keys())[0]\n",
    "test_fc6[key].shape"
   ]
  },
  {
   "cell_type": "code",
   "execution_count": null,
   "id": "ece129c9",
   "metadata": {},
   "outputs": [],
   "source": [
    "import numpy as np\n",
    "refined_val_fc10 = np.load('data/refined_val_fc10.npy')\n",
    "refined_val_fc10.shape"
   ]
  },
  {
   "cell_type": "code",
   "execution_count": null,
   "id": "8bf79b09",
   "metadata": {},
   "outputs": [],
   "source": [
    "import numpy as np\n",
    "val_fc10 = np.load('data-self/pdbbind2021_demo_val_feat.npz')\n",
    "print(\"Proteins:\", len(val_fc10.keys()) )\n",
    "\n",
    "key = list(val_fc10.keys())[0]\n",
    "val_fc10[key].shape"
   ]
  },
  {
   "cell_type": "code",
   "execution_count": null,
   "id": "a4df5901",
   "metadata": {},
   "outputs": [],
   "source": [
    "import numpy as np\n",
    "core_test_fc6 = np.load('data/core_test_fc6.npy')\n",
    "core_test_fc6.shape"
   ]
  },
  {
   "cell_type": "code",
   "execution_count": null,
   "id": "489eb15a",
   "metadata": {},
   "outputs": [],
   "source": [
    "import numpy as np\n",
    "test_fc6 = np.load('data-self/test_sgcnn_feat.npz')\n",
    "print(\"Proteins:\", len(test_fc6.keys()) )\n",
    "\n",
    "key = list(test_fc6.keys())[0]\n",
    "test_fc6[key].shape"
   ]
  },
  {
   "cell_type": "code",
   "execution_count": null,
   "id": "0b5342e6",
   "metadata": {},
   "outputs": [],
   "source": [
    "import numpy as np\n",
    "core_test_fc10 = np.load('data/core_test_fc10.npy')\n",
    "core_test_fc10.shape"
   ]
  },
  {
   "cell_type": "code",
   "execution_count": null,
   "id": "cefe4f98",
   "metadata": {},
   "outputs": [],
   "source": [
    "import numpy as np\n",
    "test_fc10 = np.load('data-self/pdbbind2021_test_feat.npz')\n",
    "print(\"Test Proteins:\", len(test_fc10.keys()) )\n",
    "\n",
    "key = list(test_fc10.keys())[0]\n",
    "test_fc10[key].shape"
   ]
  },
  {
   "cell_type": "markdown",
   "id": "f170777f",
   "metadata": {},
   "source": [
    "## npz files"
   ]
  },
  {
   "cell_type": "code",
   "execution_count": null,
   "id": "0598746c",
   "metadata": {},
   "outputs": [],
   "source": [
    "import h5py\n",
    "filename  = 'data-self/val_fusion.hdf'\n",
    "val_fusion = h5py.File(filename, 'r')\n",
    "print(\"Proteins:\", len(val_fusion.keys()) )\n",
    "key = list(val_fusion.keys())[0]\n",
    "val_fusion[key]\n",
    "# print(\"Features:\", val_fusion[key]['features'].shape)"
   ]
  },
  {
   "cell_type": "code",
   "execution_count": null,
   "id": "be963af9",
   "metadata": {},
   "outputs": [
    {
     "name": "stdout",
     "output_type": "stream",
     "text": [
      "Proteins:  30\n"
     ]
    }
   ],
   "source": [
    "import h5py\n",
    "\n",
    "def print_structure(name, obj):\n",
    "    print(name, type(obj), obj.attrs.keys())\n",
    "\n",
    "filename  = 'data-self/val_fusion.hdf'\n",
    "\n",
    "with h5py.File(filename, 'r') as f:\n",
    "    print(\"Proteins: \", len(f.keys()))\n",
    "    # f.visititems(print_structure)\n",
    "\n",
    "    "
   ]
  },
  {
   "cell_type": "code",
   "execution_count": null,
   "id": "35e8baef",
   "metadata": {},
   "outputs": [],
   "source": []
  }
 ],
 "metadata": {
  "kernelspec": {
   "display_name": "fetch-qml",
   "language": "python",
   "name": "python3"
  },
  "language_info": {
   "codemirror_mode": {
    "name": "ipython",
    "version": 3
   },
   "file_extension": ".py",
   "mimetype": "text/x-python",
   "name": "python",
   "nbconvert_exporter": "python",
   "pygments_lexer": "ipython3",
   "version": "3.13.5"
  }
 },
 "nbformat": 4,
 "nbformat_minor": 5
}
