{
 "cells": [
  {
   "cell_type": "code",
   "execution_count": null,
   "id": "92d30066",
   "metadata": {},
   "outputs": [],
   "source": [
    "import h5py\n",
    "\n",
    "def print_structure(name, obj):\n",
    "    print(name, type(obj))\n",
    "\n",
    "\n",
    "# filename = \"data/pdbbind2021_demo_pybel_processed_crystal_48_48_radius1_sigma1_rot0_val.hdf\"\n",
    "filename = \"data/pdbbind2021_test.hdf\"\n",
    "\n",
    "\n",
    "with h5py.File(filename, 'r') as f:\n",
    "    print(\"Proteins: \", len(f.keys()))\n",
    "    f.visititems(print_structure)"
   ]
  },
  {
   "cell_type": "code",
   "execution_count": 1,
   "id": "e321b0a0",
   "metadata": {},
   "outputs": [
    {
     "name": "stdout",
     "output_type": "stream",
     "text": [
      "Proteins:  50\n",
      "attrs: <KeysViewHDF5 ['affinity']>\n",
      "6.54\n",
      "(312, 22)\n"
     ]
    }
   ],
   "source": [
    "import h5py\n",
    "\n",
    "def print_structure(name, obj):\n",
    "    print(name, type(obj))\n",
    "\n",
    "\n",
    "# filename = \"data/pdbbind2021_demo_pybel_processed_crystal_48_48_radius1_sigma1_rot0_val.hdf\"\n",
    "filename = \"data/pdbbind2021_test.hdf\"\n",
    "\n",
    "\n",
    "with h5py.File(filename, 'r') as f:\n",
    "    print(\"Proteins: \", len(f.keys()))\n",
    "    key = list(f.keys())[0]\n",
    "    print(f\"attrs: {f[key].attrs.keys()}\")\n",
    "    affinity = f[key].attrs['affinity']\n",
    "    print(affinity)\n",
    "    # f[key].visititems(print_structure)\n",
    "\n",
    "    data = f[key]['pybel']['processed']['pdbbind']['data']\n",
    "    print(data.shape)\n",
    "\n"
   ]
  },
  {
   "cell_type": "code",
   "execution_count": null,
   "id": "13df5154",
   "metadata": {},
   "outputs": [],
   "source": [
    "150*0.2"
   ]
  },
  {
   "cell_type": "code",
   "execution_count": 1,
   "id": "41bba257",
   "metadata": {},
   "outputs": [
    {
     "ename": "ModuleNotFoundError",
     "evalue": "No module named 'torch'",
     "output_type": "error",
     "traceback": [
      "\u001b[31m---------------------------------------------------------------------------\u001b[39m",
      "\u001b[31mModuleNotFoundError\u001b[39m                       Traceback (most recent call last)",
      "\u001b[36mCell\u001b[39m\u001b[36m \u001b[39m\u001b[32mIn[1]\u001b[39m\u001b[32m, line 1\u001b[39m\n\u001b[32m----> \u001b[39m\u001b[32m1\u001b[39m \u001b[38;5;28;01mimport\u001b[39;00m\u001b[38;5;250m \u001b[39m\u001b[34;01mtorch\u001b[39;00m\n\u001b[32m      2\u001b[39m \u001b[38;5;28;01mfrom\u001b[39;00m\u001b[38;5;250m \u001b[39m\u001b[34;01m.\u001b[39;00m\u001b[34;01mfile_util\u001b[39;00m\u001b[38;5;250m \u001b[39m\u001b[38;5;28;01mimport\u001b[39;00m *\n\u001b[32m      4\u001b[39m checkpoint = torch.load(\u001b[33m'\u001b[39m\u001b[33mpdbbind2021_a2_demo_model_20250713.pth\u001b[39m\u001b[33m'\u001b[39m, map_location=\u001b[33m'\u001b[39m\u001b[33mcpu\u001b[39m\u001b[33m'\u001b[39m)\n",
      "\u001b[31mModuleNotFoundError\u001b[39m: No module named 'torch'"
     ]
    }
   ],
   "source": [
    "import torch\n",
    "from .file_util import *\n",
    "\n",
    "checkpoint = torch.load('pdbbind2021_a2_demo_model_20250713.pth', map_location='cpu')\n",
    "#checkpoint = torch.load(args.model_path)\n",
    "model_state_dict = checkpoint.pop(\"model_state_dict\")\n",
    "\n",
    "\n",
    "# strip_prefix_if_present(model_state_dict, \"module.\")\n",
    "# model_to_save.load_state_dict(model_state_dict, strict=False)\n",
    "\n",
    "# optimizer = RMSprop(model.parameters(), lr=args.learning_rate)\n",
    "# optimizer.load_state_dict(checkpoint[\"optimizer_state_dict\"])\n",
    "# epoch_start = checkpoint[\"epoch\"]\n",
    "# loss = checkpoint[\"loss\"]\n",
    "# print(\"checkpoint loaded: %s\" % args.model_path)"
   ]
  },
  {
   "cell_type": "code",
   "execution_count": null,
   "id": "e3ad1c09",
   "metadata": {},
   "outputs": [],
   "source": []
  }
 ],
 "metadata": {
  "kernelspec": {
   "display_name": "fetch-research-env",
   "language": "python",
   "name": "python3"
  },
  "language_info": {
   "codemirror_mode": {
    "name": "ipython",
    "version": 3
   },
   "file_extension": ".py",
   "mimetype": "text/x-python",
   "name": "python",
   "nbconvert_exporter": "python",
   "pygments_lexer": "ipython3",
   "version": "3.12.2"
  }
 },
 "nbformat": 4,
 "nbformat_minor": 5
}
