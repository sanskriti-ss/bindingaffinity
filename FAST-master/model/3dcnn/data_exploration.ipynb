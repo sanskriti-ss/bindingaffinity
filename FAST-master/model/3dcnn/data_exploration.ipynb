{
 "cells": [
  {
   "cell_type": "code",
   "execution_count": null,
   "id": "92d30066",
   "metadata": {},
   "outputs": [],
   "source": [
    "import h5py\n",
    "\n",
    "def print_structure(name, obj):\n",
    "    print(name, type(obj))\n",
    "\n",
    "\n",
    "# filename = \"data/pdbbind2021_demo_pybel_processed_crystal_48_48_radius1_sigma1_rot0_val.hdf\"\n",
    "filename = \"data/pdbbind2021_test.hdf\"\n",
    "\n",
    "\n",
    "with h5py.File(filename, 'r') as f:\n",
    "    print(\"Proteins: \", len(f.keys()))\n",
    "    f.visititems(print_structure)"
   ]
  },
  {
   "cell_type": "code",
   "execution_count": null,
   "id": "e321b0a0",
   "metadata": {},
   "outputs": [],
   "source": [
    "import h5py\n",
    "\n",
    "def print_structure(name, obj):\n",
    "    print(name, type(obj))\n",
    "\n",
    "\n",
    "# filename = \"data/pdbbind2021_demo_pybel_processed_crystal_48_48_radius1_sigma1_rot0_val.hdf\"\n",
    "filename = \"data/pdbbind2021_test.hdf\"\n",
    "\n",
    "\n",
    "with h5py.File(filename, 'r') as f:\n",
    "    print(\"Proteins: \", len(f.keys()))\n",
    "    key = list(f.keys())[0]\n",
    "    print(f\"attrs: {f[key].attrs.keys()}\")\n",
    "    affinity = f[key].attrs['affinity']\n",
    "    print(affinity)\n",
    "    # f[key].visititems(print_structure)\n",
    "\n",
    "    data = f[key]['pybel']['processed']['pdbbind']['data']\n",
    "    print(data.shape)\n",
    "\n"
   ]
  },
  {
   "cell_type": "code",
   "execution_count": null,
   "id": "13df5154",
   "metadata": {},
   "outputs": [],
   "source": [
    "150*0.2"
   ]
  },
  {
   "cell_type": "code",
   "execution_count": 4,
   "id": "e3ad1c09",
   "metadata": {},
   "outputs": [
    {
     "ename": "FileNotFoundError",
     "evalue": "[Errno 2] No such file or directory: 'data/pdbbind2021_demo_model_20250716_a2_keyed_feat.npz'",
     "output_type": "error",
     "traceback": [
      "\u001b[31m---------------------------------------------------------------------------\u001b[39m",
      "\u001b[31mFileNotFoundError\u001b[39m                         Traceback (most recent call last)",
      "\u001b[36mCell\u001b[39m\u001b[36m \u001b[39m\u001b[32mIn[4]\u001b[39m\u001b[32m, line 3\u001b[39m\n\u001b[32m      1\u001b[39m \u001b[38;5;28;01mimport\u001b[39;00m\u001b[38;5;250m \u001b[39m\u001b[34;01mnumpy\u001b[39;00m\u001b[38;5;250m \u001b[39m\u001b[38;5;28;01mas\u001b[39;00m\u001b[38;5;250m \u001b[39m\u001b[34;01mnp\u001b[39;00m\n\u001b[32m      2\u001b[39m \u001b[38;5;66;03m# fc10 = np.load('data/pdbbind2021_demo_model_20250716_a2_pdbbind2021_test_feat.npz')\u001b[39;00m\n\u001b[32m----> \u001b[39m\u001b[32m3\u001b[39m fc10 = \u001b[43mnp\u001b[49m\u001b[43m.\u001b[49m\u001b[43mload\u001b[49m\u001b[43m(\u001b[49m\u001b[33;43m'\u001b[39;49m\u001b[33;43mdata/pdbbind2021_demo_model_20250716_a2_keyed_feat.npz\u001b[39;49m\u001b[33;43m'\u001b[39;49m\u001b[43m)\u001b[49m\n",
      "\u001b[36mFile \u001b[39m\u001b[32m~/miniconda3/envs/fetch-research-env/lib/python3.12/site-packages/numpy/lib/_npyio_impl.py:455\u001b[39m, in \u001b[36mload\u001b[39m\u001b[34m(file, mmap_mode, allow_pickle, fix_imports, encoding, max_header_size)\u001b[39m\n\u001b[32m    453\u001b[39m     own_fid = \u001b[38;5;28;01mFalse\u001b[39;00m\n\u001b[32m    454\u001b[39m \u001b[38;5;28;01melse\u001b[39;00m:\n\u001b[32m--> \u001b[39m\u001b[32m455\u001b[39m     fid = stack.enter_context(\u001b[38;5;28;43mopen\u001b[39;49m\u001b[43m(\u001b[49m\u001b[43mos\u001b[49m\u001b[43m.\u001b[49m\u001b[43mfspath\u001b[49m\u001b[43m(\u001b[49m\u001b[43mfile\u001b[49m\u001b[43m)\u001b[49m\u001b[43m,\u001b[49m\u001b[43m \u001b[49m\u001b[33;43m\"\u001b[39;49m\u001b[33;43mrb\u001b[39;49m\u001b[33;43m\"\u001b[39;49m\u001b[43m)\u001b[49m)\n\u001b[32m    456\u001b[39m     own_fid = \u001b[38;5;28;01mTrue\u001b[39;00m\n\u001b[32m    458\u001b[39m \u001b[38;5;66;03m# Code to distinguish from NumPy binary files and pickles.\u001b[39;00m\n",
      "\u001b[31mFileNotFoundError\u001b[39m: [Errno 2] No such file or directory: 'data/pdbbind2021_demo_model_20250716_a2_keyed_feat.npz'"
     ]
    }
   ],
   "source": [
    "import numpy as np\n",
    "# fc10 = np.load('data/pdbbind2021_demo_model_20250716_a2_pdbbind2021_test_feat.npz')\n",
    "fc10 = np.load('data/pdbbind2021_demo_model_20250716_a2_keyed_feat.npz')"
   ]
  },
  {
   "cell_type": "code",
   "execution_count": 2,
   "id": "1e0a5805",
   "metadata": {},
   "outputs": [
    {
     "data": {
      "text/plain": [
       "50"
      ]
     },
     "execution_count": 2,
     "metadata": {},
     "output_type": "execute_result"
    }
   ],
   "source": [
    "len(fc10.keys())"
   ]
  },
  {
   "cell_type": "code",
   "execution_count": 3,
   "id": "464ae80b",
   "metadata": {},
   "outputs": [
    {
     "name": "stdout",
     "output_type": "stream",
     "text": [
      "3jvs (10,)\n",
      "3jya (10,)\n",
      "3k5v (10,)\n",
      "3kgp (10,)\n",
      "3kr8 (10,)\n",
      "3kwa (10,)\n",
      "3l7b (10,)\n",
      "3lka (10,)\n",
      "3mss (10,)\n",
      "3myg (10,)\n",
      "3n76 (10,)\n",
      "3n7a (10,)\n",
      "3n86 (10,)\n",
      "3nq9 (10,)\n",
      "3nw9 (10,)\n",
      "3nx7 (10,)\n",
      "3o9i (10,)\n",
      "3oe4 (10,)\n",
      "3oe5 (10,)\n",
      "3ozs (10,)\n",
      "3ozt (10,)\n",
      "3p5o (10,)\n",
      "3prs (10,)\n",
      "3pww (10,)\n",
      "3pxf (10,)\n",
      "3pyy (10,)\n",
      "3qgy (10,)\n",
      "3qqs (10,)\n",
      "3r88 (10,)\n",
      "3rlr (10,)\n",
      "3rr4 (10,)\n",
      "3rsx (10,)\n",
      "3ryj (10,)\n",
      "3syr (10,)\n",
      "3tsk (10,)\n",
      "3twp (10,)\n",
      "3u5j (10,)\n",
      "3u8k (10,)\n",
      "3u8n (10,)\n",
      "3u9q (10,)\n",
      "3udh (10,)\n",
      "3ueu (10,)\n",
      "3uev (10,)\n",
      "3uew (10,)\n",
      "3uex (10,)\n",
      "3ui7 (10,)\n",
      "3uo4 (10,)\n",
      "3up2 (10,)\n",
      "3uri (10,)\n",
      "3utu (10,)\n"
     ]
    }
   ],
   "source": [
    "for k,v in fc10.items():\n",
    "    print(k, v.shape)"
   ]
  },
  {
   "cell_type": "code",
   "execution_count": null,
   "id": "9830381a",
   "metadata": {},
   "outputs": [],
   "source": [
    "fc10"
   ]
  },
  {
   "cell_type": "code",
   "execution_count": null,
   "id": "311d0a2a",
   "metadata": {},
   "outputs": [],
   "source": [
    "# torch.Size([10, 64, 24, 24, 24])\n",
    "# torch.Size([10, 64, 24, 24, 24])\n",
    "# torch.Size([10, 64, 24, 24, 24])\n",
    "# torch.Size([10, 64, 24, 24, 24])\n",
    "# torch.Size([10, 64, 24, 24, 24])\n",
    "# torch.Size([10, 128, 8, 8, 8])\n",
    "# torch.Size([10, 128, 4, 4, 4])\n",
    "# torch.Size([10, 256, 2, 2, 2])\n",
    "# torch.Size([10, 2048])\n",
    "# torch.Size([10, 100]) --> we are saving this, 100 is the number of features\n",
    "# torch.Size([10, 1])"
   ]
  }
 ],
 "metadata": {
  "kernelspec": {
   "display_name": "fetch-research-env",
   "language": "python",
   "name": "python3"
  },
  "language_info": {
   "codemirror_mode": {
    "name": "ipython",
    "version": 3
   },
   "file_extension": ".py",
   "mimetype": "text/x-python",
   "name": "python",
   "nbconvert_exporter": "python",
   "pygments_lexer": "ipython3",
   "version": "3.12.2"
  }
 },
 "nbformat": 4,
 "nbformat_minor": 5
}
