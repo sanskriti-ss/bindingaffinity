{
 "cells": [
  {
   "cell_type": "code",
   "execution_count": null,
   "id": "92d30066",
   "metadata": {},
   "outputs": [],
   "source": [
    "import h5py\n",
    "\n",
    "def print_structure(name, obj):\n",
    "    print(name, type(obj))\n",
    "\n",
    "\n",
    "# filename = \"data/pdbbind2021_demo_pybel_processed_crystal_48_48_radius1_sigma1_rot0_val.hdf\"\n",
    "filename = \"data/pdbbind2021_test.hdf\"\n",
    "\n",
    "\n",
    "with h5py.File(filename, 'r') as f:\n",
    "    print(\"Proteins: \", len(f.keys()))\n",
    "    f.visititems(print_structure)"
   ]
  },
  {
   "cell_type": "code",
   "execution_count": null,
   "id": "e321b0a0",
   "metadata": {},
   "outputs": [],
   "source": [
    "import h5py\n",
    "\n",
    "def print_structure(name, obj):\n",
    "    print(name, type(obj))\n",
    "\n",
    "\n",
    "# filename = \"data/pdbbind2021_demo_pybel_processed_crystal_48_48_radius1_sigma1_rot0_val.hdf\"\n",
    "filename = \"data/pdbbind2021_test.hdf\"\n",
    "\n",
    "\n",
    "with h5py.File(filename, 'r') as f:\n",
    "    print(\"Proteins: \", len(f.keys()))\n",
    "    key = list(f.keys())[0]\n",
    "    print(f\"attrs: {f[key].attrs.keys()}\")\n",
    "    affinity = f[key].attrs['affinity']\n",
    "    print(affinity)\n",
    "    # f[key].visititems(print_structure)\n",
    "\n",
    "    data = f[key]['pybel']['processed']['pdbbind']['data']\n",
    "    print(data.shape)\n",
    "\n"
   ]
  },
  {
   "cell_type": "code",
   "execution_count": null,
   "id": "13df5154",
   "metadata": {},
   "outputs": [],
   "source": [
    "150*0.2"
   ]
  },
  {
   "cell_type": "code",
   "execution_count": 2,
   "id": "e3ad1c09",
   "metadata": {},
   "outputs": [],
   "source": [
    "import numpy as np\n",
    "fc10 = np.load('data/pdbbind2021_demo_model_20250716_a2_pdbbind2021_test_feat.npz')\n",
    "# fc10 = np.load('data/pdbbind2021_demo_model_20250716_a2_keyed_feat.npz')"
   ]
  },
  {
   "cell_type": "code",
   "execution_count": 3,
   "id": "1e0a5805",
   "metadata": {},
   "outputs": [
    {
     "data": {
      "text/plain": [
       "50"
      ]
     },
     "execution_count": 3,
     "metadata": {},
     "output_type": "execute_result"
    }
   ],
   "source": [
    "len(fc10.keys())"
   ]
  },
  {
   "cell_type": "code",
   "execution_count": null,
   "id": "9830381a",
   "metadata": {},
   "outputs": [],
   "source": [
    "fc10"
   ]
  },
  {
   "cell_type": "code",
   "execution_count": null,
   "id": "311d0a2a",
   "metadata": {},
   "outputs": [],
   "source": [
    "# torch.Size([10, 64, 24, 24, 24])\n",
    "# torch.Size([10, 64, 24, 24, 24])\n",
    "# torch.Size([10, 64, 24, 24, 24])\n",
    "# torch.Size([10, 64, 24, 24, 24])\n",
    "# torch.Size([10, 64, 24, 24, 24])\n",
    "# torch.Size([10, 128, 8, 8, 8])\n",
    "# torch.Size([10, 128, 4, 4, 4])\n",
    "# torch.Size([10, 256, 2, 2, 2])\n",
    "# torch.Size([10, 2048])\n",
    "# torch.Size([10, 100]) --> we are saving this, 100 is the number of features\n",
    "# torch.Size([10, 1])"
   ]
  }
 ],
 "metadata": {
  "kernelspec": {
   "display_name": "fetch-research-env",
   "language": "python",
   "name": "python3"
  },
  "language_info": {
   "codemirror_mode": {
    "name": "ipython",
    "version": 3
   },
   "file_extension": ".py",
   "mimetype": "text/x-python",
   "name": "python",
   "nbconvert_exporter": "python",
   "pygments_lexer": "ipython3",
   "version": "3.12.2"
  }
 },
 "nbformat": 4,
 "nbformat_minor": 5
}
