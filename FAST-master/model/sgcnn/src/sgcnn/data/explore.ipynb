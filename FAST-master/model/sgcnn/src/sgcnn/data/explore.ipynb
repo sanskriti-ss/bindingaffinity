{
 "cells": [
  {
   "cell_type": "code",
   "execution_count": 8,
   "id": "2ccd9754",
   "metadata": {},
   "outputs": [
    {
     "name": "stdout",
     "output_type": "stream",
     "text": [
      "Proteins:  50\n",
      "attrs: <KeysViewHDF5 ['affinity']>\n",
      "6.54\n",
      "(312, 22)\n"
     ]
    }
   ],
   "source": [
    "import h5py\n",
    "\n",
    "def print_structure(name, obj):\n",
    "    print(name, type(obj))\n",
    "\n",
    "\n",
    "# filename = \"data/pdbbind2021_demo_pybel_processed_crystal_48_48_radius1_sigma1_rot0_val.hdf\"\n",
    "filename = \"test.hdf\"\n",
    "\n",
    "\n",
    "with h5py.File(filename, 'r') as f:\n",
    "    print(\"Proteins: \", len(f.keys()))\n",
    "    key = list(f.keys())[0]\n",
    "    print(f\"attrs: {f[key].attrs.keys()}\")\n",
    "    affinity = f[key].attrs['affinity']\n",
    "    print(affinity)\n",
    "    # f[key].visititems(print_structure)\n",
    "\n",
    "    data = f[key]['pybel']['processed']['pdbbind']['data']\n",
    "    print(data.shape)\n",
    "\n"
   ]
  },
  {
   "cell_type": "markdown",
   "id": "cc712e1f",
   "metadata": {},
   "source": [
    "#### Sample output\n",
    "```\n",
    "3jvs <class 'h5py._hl.group.Group'>\n",
    "3jvs/pybel <class 'h5py._hl.group.Group'>\n",
    "3jvs/pybel/processed <class 'h5py._hl.group.Group'>\n",
    "3jvs/pybel/processed/pdbbind <class 'h5py._hl.group.Group'>\n",
    "3jvs/pybel/processed/pdbbind/data <class 'h5py._hl.dataset.Dataset'>\n",
    "```\n"
   ]
  },
  {
   "cell_type": "code",
   "execution_count": null,
   "id": "31c44867",
   "metadata": {},
   "outputs": [],
   "source": []
  }
 ],
 "metadata": {
  "kernelspec": {
   "display_name": "fetch-research-env",
   "language": "python",
   "name": "python3"
  },
  "language_info": {
   "codemirror_mode": {
    "name": "ipython",
    "version": 3
   },
   "file_extension": ".py",
   "mimetype": "text/x-python",
   "name": "python",
   "nbconvert_exporter": "python",
   "pygments_lexer": "ipython3",
   "version": "3.12.2"
  }
 },
 "nbformat": 4,
 "nbformat_minor": 5
}
