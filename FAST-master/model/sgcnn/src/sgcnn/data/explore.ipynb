{
 "cells": [
  {
   "cell_type": "code",
   "execution_count": 8,
   "id": "2ccd9754",
   "metadata": {},
   "outputs": [
    {
     "name": "stdout",
     "output_type": "stream",
     "text": [
      "Proteins:  50\n",
      "attrs: <KeysViewHDF5 ['affinity']>\n",
      "6.54\n",
      "(312, 22)\n"
     ]
    }
   ],
   "source": [
    "import h5py\n",
    "\n",
    "def print_structure(name, obj):\n",
    "    print(name, type(obj))\n",
    "\n",
    "\n",
    "# filename = \"data/pdbbind2021_demo_pybel_processed_crystal_48_48_radius1_sigma1_rot0_val.hdf\"\n",
    "filename = \"test.hdf\"\n",
    "\n",
    "\n",
    "with h5py.File(filename, 'r') as f:\n",
    "    print(\"Proteins: \", len(f.keys()))\n",
    "    key = list(f.keys())[0]\n",
    "    print(f\"attrs: {f[key].attrs.keys()}\")\n",
    "    affinity = f[key].attrs['affinity']\n",
    "    print(affinity)\n",
    "    # f[key].visititems(print_structure)\n",
    "\n",
    "    data = f[key]['pybel']['processed']['pdbbind']['data']\n",
    "    print(data.shape)\n",
    "\n"
   ]
  },
  {
   "cell_type": "markdown",
   "id": "cc712e1f",
   "metadata": {},
   "source": [
    "#### Sample output\n",
    "```\n",
    "3jvs <class 'h5py._hl.group.Group'>\n",
    "3jvs/pybel <class 'h5py._hl.group.Group'>\n",
    "3jvs/pybel/processed <class 'h5py._hl.group.Group'>\n",
    "3jvs/pybel/processed/pdbbind <class 'h5py._hl.group.Group'>\n",
    "3jvs/pybel/processed/pdbbind/data <class 'h5py._hl.dataset.Dataset'>\n",
    "```\n"
   ]
  },
  {
   "cell_type": "code",
   "execution_count": 3,
   "id": "31c44867",
   "metadata": {},
   "outputs": [
    {
     "name": "stdout",
     "output_type": "stream",
     "text": [
      "Proteins, 120\n",
      "1a30 <KeysViewHDF5 ['affinity']>\n",
      "1a30 4.3\n",
      "1bzc <KeysViewHDF5 ['affinity']>\n",
      "1bzc 4.92\n",
      "1c5z <KeysViewHDF5 ['affinity']>\n",
      "1c5z 4.01\n",
      "1e66 <KeysViewHDF5 ['affinity']>\n",
      "1e66 9.89\n",
      "1eby <KeysViewHDF5 ['affinity']>\n",
      "1eby 9.7\n"
     ]
    }
   ],
   "source": [
    "import h5py\n",
    "\n",
    "def print_structure(name, obj):\n",
    "    print(name, type(obj))\n",
    "\n",
    "filename = \"data-200-proteins/train.hdf\"\n",
    "# filename = \"data/ingenni/pdbbind2016_core_test.hdf\"\n",
    "\n",
    "with h5py.File(filename, 'r') as f:\n",
    "    print(f\"Proteins, {len(f.keys())}\")\n",
    "\n",
    "    for protein in list(f.keys())[:5]:\n",
    "        print(protein, f[protein].attrs.keys())\n",
    "        affinity = f[protein].attrs['affinity']\n",
    "        print(protein, affinity)\n",
    "        # print(protein, f[protein]['pybel/processed/pdbbind'].attrs.keys())\n",
    "\n",
    "\n",
    "    # f.visititems(print_structure)"
   ]
  },
  {
   "cell_type": "code",
   "execution_count": null,
   "id": "b08729e2",
   "metadata": {},
   "outputs": [],
   "source": [
    "Proteins, 285\n",
    "1a30 <KeysViewHDF5 ['affinity']>\n",
    "1a30 Ki=50uM\n",
    "1bcu <KeysViewHDF5 ['affinity']>\n",
    "1bcu Kd=0.53mM\n",
    "1bzc <KeysViewHDF5 ['affinity']>\n",
    "1bzc Ki=12uM\n",
    "1c5z <KeysViewHDF5 ['affinity']>\n",
    "1c5z Ki=97uM\n",
    "1e66 <KeysViewHDF5 ['affinity']>\n",
    "1e66 Ki=0.13nM"
   ]
  }
 ],
 "metadata": {
  "kernelspec": {
   "display_name": "fetch-tg",
   "language": "python",
   "name": "python3"
  },
  "language_info": {
   "codemirror_mode": {
    "name": "ipython",
    "version": 3
   },
   "file_extension": ".py",
   "mimetype": "text/x-python",
   "name": "python",
   "nbconvert_exporter": "python",
   "pygments_lexer": "ipython3",
   "version": "3.13.5"
  }
 },
 "nbformat": 4,
 "nbformat_minor": 5
}
