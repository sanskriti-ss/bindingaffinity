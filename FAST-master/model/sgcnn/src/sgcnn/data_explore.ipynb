{
 "cells": [
  {
   "cell_type": "code",
   "execution_count": null,
   "id": "11ac682d",
   "metadata": {},
   "outputs": [],
   "source": [
    "import h5py\n",
    "\n",
    "def print_structure(name, obj):\n",
    "    print(name, type(obj))\n",
    "\n",
    "filename = \"sg-eval3/eval_sgcnn3.hdf\"\n",
    "\n",
    "with h5py.File(filename, 'r') as f:\n",
    "    print(f\"Proteins, {len(f.keys())}: {f.keys()}\")\n",
    "\n",
    "#     3jvs <class 'h5py._hl.group.Group'>\n",
    "# 3jvs/0 <class 'h5py._hl.group.Group'>\n",
    "# 3jvs/0/hidden_features <class 'h5py._hl.dataset.Dataset'>\n",
    "\n",
    "    # get first object name/key; may or may NOT be a group\n",
    "    # key = list(f.keys())[0]\n",
    "\n",
    "    for key in f.keys():\n",
    "        print(key)\n",
    "\n",
    "        data = f[key]['0']['hidden_features']\n",
    "        # print(type(data))\n",
    "        print(data)\n",
    "\n",
    "    \n",
    "    import numpy as np\n",
    "    print(np.array(data))\n",
    "\n",
    "    # f.visititems(print_structure)"
   ]
  },
  {
   "cell_type": "code",
   "execution_count": null,
   "id": "ba6b28db",
   "metadata": {},
   "outputs": [],
   "source": [
    "import numpy as np\n",
    "import h5py\n",
    "\n",
    "input_hdf_path = \"sg-eval/eval_sgcnn.hdf\"\n",
    "output_npy_path = \"sg-eval/eval_sgcnn_v2_feat.npy\"\n",
    "\n",
    "\n",
    "feat_list = []\n",
    "pred_list = []\n",
    "\n",
    "input_hdf = h5py.File(input_hdf_path, 'r')\n",
    "for com_id in input_hdf.keys():\n",
    "\tinput_com = input_hdf[com_id]\n",
    "\tfor pose_id in range(0,11):  # assuming pose1 to pose10\n",
    "\t\tif not str(pose_id) in input_com:\n",
    "\t\t\tcontinue\n",
    "\t\t\t\n",
    "\t\tinput_pose = input_com[str(pose_id)]\n",
    "\t\tfeat = input_pose['hidden_features'][:].ravel()\n",
    "\t\tfeat = feat[-6:] # For FC-6, for FC12, use feat[28:40]\n",
    "\t\tfeat_list.append(feat)\n",
    "\t\tpred = input_pose.attrs['y_pred'].ravel()\n",
    "\t\tpred_list.append(pred)\n",
    "\n",
    "\n",
    "np.save(output_npy_path, np.array(feat_list))\n",
    "np.save(output_npy_path[:-8] + 'pred.npy', np.array(pred_list))\n",
    "input_hdf.close()\n",
    "\n",
    "\n"
   ]
  },
  {
   "cell_type": "code",
   "execution_count": 2,
   "id": "5ffdbdb8",
   "metadata": {},
   "outputs": [
    {
     "name": "stdout",
     "output_type": "stream",
     "text": [
      "(50, 12) (50, 1)\n"
     ]
    }
   ],
   "source": [
    "import numpy as np\n",
    "\n",
    "feat_list = np.load(\"sg-eval/eval_sgcnn_feat.npy\")\n",
    "pred_list = np.load(\"sg-eval/eval_sgcnn_pred.npy\")\n",
    "print(feat_list.shape, pred_list.shape)"
   ]
  },
  {
   "cell_type": "code",
   "execution_count": 3,
   "id": "21fbf213",
   "metadata": {},
   "outputs": [
    {
     "name": "stdout",
     "output_type": "stream",
     "text": [
      "(50, 6) (50, 1)\n"
     ]
    }
   ],
   "source": [
    "import numpy as np\n",
    "\n",
    "feat_list = np.load(\"sg-eval3/eval_sgcnn3_feat.npy\")\n",
    "pred_list = np.load(\"sg-eval3/eval_sgcnn3_pred.npy\")\n",
    "print(feat_list.shape, pred_list.shape)"
   ]
  },
  {
   "cell_type": "code",
   "execution_count": null,
   "id": "97eb418c",
   "metadata": {},
   "outputs": [],
   "source": []
  }
 ],
 "metadata": {
  "kernelspec": {
   "display_name": "fast",
   "language": "python",
   "name": "python3"
  },
  "language_info": {
   "codemirror_mode": {
    "name": "ipython",
    "version": 3
   },
   "file_extension": ".py",
   "mimetype": "text/x-python",
   "name": "python",
   "nbconvert_exporter": "python",
   "pygments_lexer": "ipython3",
   "version": "3.12.11"
  }
 },
 "nbformat": 4,
 "nbformat_minor": 5
}
