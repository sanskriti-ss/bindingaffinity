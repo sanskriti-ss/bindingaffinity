{
 "cells": [
  {
   "cell_type": "code",
   "execution_count": null,
   "id": "11ac682d",
   "metadata": {},
   "outputs": [],
   "source": [
    "import h5py\n",
    "\n",
    "def print_structure(name, obj):\n",
    "    print(name, type(obj))\n",
    "\n",
    "filename = \"sg-eval/eval_sgcnn.hdf\"\n",
    "\n",
    "with h5py.File(filename, 'r') as f:\n",
    "    print(f\"Proteins, {len(f.keys())}: {f.keys()}\")\n",
    "\n",
    "#     3jvs <class 'h5py._hl.group.Group'>\n",
    "# 3jvs/0 <class 'h5py._hl.group.Group'>\n",
    "# 3jvs/0/hidden_features <class 'h5py._hl.dataset.Dataset'>\n",
    "\n",
    "    # get first object name/key; may or may NOT be a group\n",
    "    # key = list(f.keys())[0]\n",
    "\n",
    "    for key in f.keys():\n",
    "        print(key)\n",
    "\n",
    "        data = f[key]['0']['hidden_features']\n",
    "        # print(type(data))\n",
    "        print(data)\n",
    "\n",
    "    \n",
    "    import numpy as np\n",
    "    print(np.array(data))\n",
    "\n",
    "    # f.visititems(print_structure)"
   ]
  },
  {
   "cell_type": "code",
   "execution_count": 4,
   "id": "5ffdbdb8",
   "metadata": {},
   "outputs": [
    {
     "name": "stdout",
     "output_type": "stream",
     "text": [
      "(50, 6) (50, 1)\n"
     ]
    }
   ],
   "source": [
    "import numpy as np\n",
    "\n",
    "feat_list = np.load(\"sg-eval/eval_sgcnn_v2_feat.npy\")\n",
    "pred_list = np.load(\"sg-eval/eval_sgcnn_v2_pred.npy\")\n",
    "print(feat_list.shape, pred_list.shape)"
   ]
  },
  {
   "cell_type": "code",
   "execution_count": 1,
   "id": "6ca95b0f",
   "metadata": {},
   "outputs": [],
   "source": [
    "import numpy as np\n",
    "\n",
    "feat_dict = np.load(\"sg-eval/eval_sgcnn_feat.npz\")\n",
    "pred_dict = np.load(\"sg-eval/eval_sgcnn_pred.npz\")\n",
    "# print(feat_list.shape, pred_list.shape)"
   ]
  },
  {
   "cell_type": "code",
   "execution_count": 2,
   "id": "2d638a00",
   "metadata": {},
   "outputs": [
    {
     "data": {
      "text/plain": [
       "50"
      ]
     },
     "execution_count": 2,
     "metadata": {},
     "output_type": "execute_result"
    }
   ],
   "source": [
    "len(feat_dict.keys())"
   ]
  },
  {
   "cell_type": "code",
   "execution_count": 3,
   "id": "97eb418c",
   "metadata": {},
   "outputs": [
    {
     "name": "stdout",
     "output_type": "stream",
     "text": [
      "3jvs (6,)\n",
      "3jya (6,)\n",
      "3k5v (6,)\n",
      "3kgp (6,)\n",
      "3kr8 (6,)\n",
      "3kwa (6,)\n",
      "3l7b (6,)\n",
      "3lka (6,)\n",
      "3mss (6,)\n",
      "3myg (6,)\n",
      "3n76 (6,)\n",
      "3n7a (6,)\n",
      "3n86 (6,)\n",
      "3nq9 (6,)\n",
      "3nw9 (6,)\n",
      "3nx7 (6,)\n",
      "3o9i (6,)\n",
      "3oe4 (6,)\n",
      "3oe5 (6,)\n",
      "3ozs (6,)\n",
      "3ozt (6,)\n",
      "3p5o (6,)\n",
      "3prs (6,)\n",
      "3pww (6,)\n",
      "3pxf (6,)\n",
      "3pyy (6,)\n",
      "3qgy (6,)\n",
      "3qqs (6,)\n",
      "3r88 (6,)\n",
      "3rlr (6,)\n",
      "3rr4 (6,)\n",
      "3rsx (6,)\n",
      "3ryj (6,)\n",
      "3syr (6,)\n",
      "3tsk (6,)\n",
      "3twp (6,)\n",
      "3u5j (6,)\n",
      "3u8k (6,)\n",
      "3u8n (6,)\n",
      "3u9q (6,)\n",
      "3udh (6,)\n",
      "3ueu (6,)\n",
      "3uev (6,)\n",
      "3uew (6,)\n",
      "3uex (6,)\n",
      "3ui7 (6,)\n",
      "3uo4 (6,)\n",
      "3up2 (6,)\n",
      "3uri (6,)\n",
      "3utu (6,)\n"
     ]
    }
   ],
   "source": [
    "for k,v in feat_dict.items():\n",
    "    print(k, v.shape)"
   ]
  },
  {
   "cell_type": "code",
   "execution_count": null,
   "id": "ea500bf7",
   "metadata": {},
   "outputs": [],
   "source": []
  }
 ],
 "metadata": {
  "kernelspec": {
   "display_name": "fast",
   "language": "python",
   "name": "python3"
  },
  "language_info": {
   "codemirror_mode": {
    "name": "ipython",
    "version": 3
   },
   "file_extension": ".py",
   "mimetype": "text/x-python",
   "name": "python",
   "nbconvert_exporter": "python",
   "pygments_lexer": "ipython3",
   "version": "3.12.11"
  }
 },
 "nbformat": 4,
 "nbformat_minor": 5
}
